{
 "cells": [
  {
   "cell_type": "code",
   "execution_count": 2,
   "metadata": {
    "collapsed": true
   },
   "outputs": [],
   "source": [
    "%matplotlib inline \n",
    "from interval import interval\n",
    "import matplotlib.pyplot as plt\n",
    "from sympy import(\n",
    "    init_printing,\n",
    "    var,\n",
    "    exp,\n",
    "    cos,\n",
    "    sin,\n",
    "    log,\n",
    "    expand_log\n",
    ")\n",
    "from sympy.utilities.lambdify import lambdify \n",
    "from sympy.plotting import plot\n",
    "init_printing()\n",
    "import numpy as np\n",
    "\n",
    "from ivmat import ivmat as ip\n",
    "from fmat import fmat\n",
    "from krawczyk import Krawczyk\n",
    "from symbol_derivative import(\n",
    "    get_f_df_ddf_from_symbol_representation,\n",
    "    get_global_minima_from_f_expr,\n",
    "    calc_f_expr_meshgrid,\n",
    "    plot3D,\n",
    "    visualize_optimization_log,\n",
    ")\n",
    "from nelder_mead import NelderMead"
   ]
  },
  {
   "cell_type": "code",
   "execution_count": 24,
   "metadata": {},
   "outputs": [
    {
     "data": {
      "image/png": "[encoded data removed]",
      "text/latex": [
       "$$\\frac{\\alpha}{\\beta e^{- k t} + 1}$$"
      ],
      "text/plain": [
       "     α     \n",
       "───────────\n",
       "   -k⋅t    \n",
       "β⋅ℯ     + 1"
      ]
     },
     "metadata": {},
     "output_type": "display_data"
    },
    {
     "data": {
      "image/png": "[encoded data removed]",
      "text/latex": [
       "$$\\frac{1.0}{1 + 0.135 e^{- 0.182 t}}$$"
      ],
      "text/plain": [
       "        1.0        \n",
       "───────────────────\n",
       "           -0.182⋅t\n",
       "1 + 0.135⋅ℯ        "
      ]
     },
     "metadata": {},
     "output_type": "display_data"
    }
   ],
   "source": [
    "alpha, beta, k = args = var(\"alpha, beta, k\")\n",
    "t = var(\"t\")\n",
    "z = var(\"z\")\n",
    "y_0 = var(\"y_0\")\n",
    "\n",
    "curve_expr = alpha / (1 + beta * exp(-k*t))\n",
    "display(curve_expr)\n",
    "true_curve_expr = curve_expr.subs([(alpha, 1.0), (beta, 0.135), (k, 0.182)])\n",
    "display(true_curve_expr)\n"
   ]
  },
  {
   "cell_type": "code",
   "execution_count": 25,
   "metadata": {},
   "outputs": [
    {
     "data": {
      "image/png": "[encoded data removed]",
      "text/plain": [
       "<matplotlib.figure.Figure at 0x109bd5390>"
      ]
     },
     "metadata": {},
     "output_type": "display_data"
    },
    {
     "name": "stdout",
     "output_type": "stream",
     "text": [
      "[(0, 0.88105726872246692), (5, 0.94845995547346873), (10, 0.97859473126394758), (15, 0.99127224036313077)]\n"
     ]
    }
   ],
   "source": [
    "plot(true_curve_expr, (t, 0, 30))\n",
    "true_curve = lambdify(t, true_curve_expr)\n",
    "sample_data = [(time, true_curve(time)) for time in np.arange(0, 20, 5)]\n",
    "print(sample_data)"
   ]
  },
  {
   "cell_type": "code",
   "execution_count": 26,
   "metadata": {},
   "outputs": [
    {
     "data": {
      "image/png": "[encoded data removed]",
      "text/latex": [
       "$$\\left(- \\frac{\\alpha}{\\beta + 1} + 0.881057268722467\\right)^{2} + \\left(- \\frac{\\alpha}{\\beta e^{- 15 k} + 1} + 0.991272240363131\\right)^{2} + \\left(- \\frac{\\alpha}{\\beta e^{- 10 k} + 1} + 0.978594731263948\\right)^{2} + \\left(- \\frac{\\alpha}{\\beta e^{- 5 k} + 1} + 0.948459955473469\\right)^{2}$$"
      ],
      "text/plain": [
       "                             2                                       2        \n",
       "⎛    α                      ⎞    ⎛       α                          ⎞    ⎛    \n",
       "⎜- ───── + 0.881057268722467⎟  + ⎜- ──────────── + 0.991272240363131⎟  + ⎜- ──\n",
       "⎝  β + 1                    ⎠    ⎜     -15⋅k                        ⎟    ⎜    \n",
       "                                 ⎝  β⋅ℯ      + 1                    ⎠    ⎝  β⋅\n",
       "\n",
       "                               2                                      2\n",
       "   α                          ⎞    ⎛       α                         ⎞ \n",
       "────────── + 0.978594731263948⎟  + ⎜- ─────────── + 0.948459955473469⎟ \n",
       " -10⋅k                        ⎟    ⎜     -5⋅k                        ⎟ \n",
       "ℯ      + 1                    ⎠    ⎝  β⋅ℯ     + 1                    ⎠ "
      ]
     },
     "metadata": {},
     "output_type": "display_data"
    }
   ],
   "source": [
    "loss_expr = 0\n",
    "for time, value in sample_data:\n",
    "    pred_value = curve_expr.subs(t, time)\n",
    "    loss_expr += (value - pred_value) ** 2\n",
    "f_expr = loss_expr\n",
    "display(f_expr)\n",
    "\n",
    "seed_num = 431\n",
    "np.random.seed(seed_num)\n",
    "low = 0.01\n",
    "high = 2.5\n",
    "points = np.random.uniform(low=low, high=high, size=(len(args)+1, len(args)))\n",
    "np_func = lambdify([args], f_expr, modules=np) "
   ]
  },
  {
   "cell_type": "code",
   "execution_count": 27,
   "metadata": {},
   "outputs": [
    {
     "name": "stdout",
     "output_type": "stream",
     "text": [
      "1.20794326112e-30\n"
     ]
    }
   ],
   "source": [
    "nelder = NelderMead(np_func, points)\n",
    "for i in range(1, 500+1):\n",
    "    nelder.update_points()\n",
    "local_minima = nelder.func(nelder.points[0])\n",
    "print local_minima"
   ]
  },
  {
   "cell_type": "code",
   "execution_count": 28,
   "metadata": {
    "collapsed": true
   },
   "outputs": [],
   "source": [
    "f, df, ddf = get_f_df_ddf_from_symbol_representation(f_expr, args)"
   ]
  },
  {
   "cell_type": "code",
   "execution_count": 31,
   "metadata": {},
   "outputs": [
    {
     "data": {
      "image/png": "[encoded data removed]",
      "text/latex": [
       "$$\\left [ \\left [ \\left ( \\left ( 0.0, \\quad 0.00563786253698\\right )\\right )\\right ]\\right ]$$"
      ],
      "text/plain": [
       "[[((0.0, 0.00563786253698),)]]"
      ]
     },
     "execution_count": 31,
     "metadata": {},
     "output_type": "execute_result"
    }
   ],
   "source": [
    "X = ip([\n",
    "    [interval[0.996, 1.0321]],\n",
    "    [interval[0.124, 0.1384]], \n",
    "    [interval[0.11691, 0.207]]\n",
    "])\n",
    "\n",
    "# X = ip([\n",
    "#     [interval[0.5, 1.6]],\n",
    "#     [interval[0.5, 3.0]], \n",
    "#     [interval[0.6, 3.33]]\n",
    "# ])\n",
    "\n",
    "f(X)"
   ]
  },
  {
   "cell_type": "code",
   "execution_count": 32,
   "metadata": {
    "collapsed": true
   },
   "outputs": [],
   "source": [
    "kra = Krawczyk(df, ddf, X)"
   ]
  },
  {
   "cell_type": "code",
   "execution_count": 35,
   "metadata": {
    "scrolled": false
   },
   "outputs": [
    {
     "name": "stdout",
     "output_type": "stream",
     "text": [
      "Loop end. cnt:132, len(S):0, len(T):2, len(U):0\n",
      "\n",
      "132\n",
      "---------- 最終的なS[:10] -----------\n",
      "[]\n",
      "---------- 最終的なU[:10] -----------\n",
      "[]\n",
      "---------- 最終的なT -----------\n",
      "[[[interval([0.9999455008955325, 1.0000545125000473])],\n",
      "  [interval([0.13494543921196603, 0.1350545736736702])],\n",
      "  [interval([0.1817774697429932, 0.18222245554662578])]],\n",
      " [[interval([0.9999755256106505, 1.000024475068816])],\n",
      "  [interval([0.13497548836518056, 0.13502451229181328])],\n",
      "  [interval([0.18190004557249084, 0.1820999508861647])]]]\n",
      "11.042495966[sec]\n"
     ]
    }
   ],
   "source": [
    "import time\n",
    "st = time.time()\n",
    "ans_boxes, S_num_list, T_num_list, U_num_list, animation_box = kra.find_global_minimum(\n",
    "    f, tmp_min_sup=local_minima ,trace=True, cnt_max=1000)\n",
    "print(\"{}[sec]\".format(time.time() - st))"
   ]
  },
  {
   "cell_type": "code",
   "execution_count": 10,
   "metadata": {
    "collapsed": true
   },
   "outputs": [],
   "source": [
    "if len(args) == 2: \n",
    "    visualize_optimization_log(kra, f, animation_box, skip=200)"
   ]
  }
 ],
 "metadata": {
  "kernelspec": {
   "display_name": "Python 2",
   "language": "python",
   "name": "python2"
  },
  "language_info": {
   "codemirror_mode": {
    "name": "ipython",
    "version": 2
   },
   "file_extension": ".py",
   "mimetype": "text/x-python",
   "name": "python",
   "nbconvert_exporter": "python",
   "pygments_lexer": "ipython2",
   "version": "2.7.13"
  }
 },
 "nbformat": 4,
 "nbformat_minor": 2
}
