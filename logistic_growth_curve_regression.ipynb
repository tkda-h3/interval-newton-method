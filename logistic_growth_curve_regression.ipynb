{
 "cells": [
  {
   "cell_type": "code",
   "execution_count": 1,
   "metadata": {
    "collapsed": true
   },
   "outputs": [],
   "source": [
    "%matplotlib inline \n",
    "from interval import interval\n",
    "import matplotlib.pyplot as plt\n",
    "from sympy import(\n",
    "    init_printing,\n",
    "    var,\n",
    "    exp,\n",
    "    cos,\n",
    "    sin,\n",
    "    log,\n",
    "    expand_log\n",
    ")\n",
    "from sympy.utilities.lambdify import lambdify \n",
    "from sympy.plotting import plot\n",
    "init_printing()\n",
    "import numpy as np\n",
    "\n",
    "from ivmat import ivmat as ip\n",
    "from fmat import fmat\n",
    "from krawczyk import Krawczyk\n",
    "from symbol_derivative import(\n",
    "    get_f_df_ddf_from_symbol_representation,\n",
    "    get_global_minima_from_f_expr,\n",
    "    calc_f_expr_meshgrid,\n",
    "    plot3D,\n",
    "    visualize_optimization_log,\n",
    ")\n",
    "from nelder_mead import NelderMead"
   ]
  },
  {
   "cell_type": "code",
   "execution_count": 2,
   "metadata": {},
   "outputs": [
    {
     "data": {
      "image/png": "[encoded data removed]",
      "text/latex": [
       "$$\\frac{\\alpha}{\\beta e^{- k t} + 1}$$"
      ],
      "text/plain": [
       "     α     \n",
       "───────────\n",
       "   -k⋅t    \n",
       "β⋅ℯ     + 1"
      ]
     },
     "metadata": {},
     "output_type": "display_data"
    },
    {
     "data": {
      "image/png": "[encoded data removed]",
      "text/latex": [
       "$$\\frac{1.0}{1 + 0.135 e^{- 0.182 t}}$$"
      ],
      "text/plain": [
       "        1.0        \n",
       "───────────────────\n",
       "           -0.182⋅t\n",
       "1 + 0.135⋅ℯ        "
      ]
     },
     "metadata": {},
     "output_type": "display_data"
    }
   ],
   "source": [
    "alpha, beta, k = args = var(\"alpha, beta, k\")\n",
    "t = var(\"t\")\n",
    "z = var(\"z\")\n",
    "y_0 = var(\"y_0\")\n",
    "\n",
    "curve_expr = alpha / (1 + beta * exp(-k*t))\n",
    "display(curve_expr)\n",
    "true_curve_expr = curve_expr.subs([(alpha, 1.0), (beta, 0.135), (k, 0.182)])\n",
    "display(true_curve_expr)\n"
   ]
  },
  {
   "cell_type": "code",
   "execution_count": 19,
   "metadata": {},
   "outputs": [
    {
     "data": {
      "image/png": "[encoded data removed]",
      "text/plain": [
       "<matplotlib.figure.Figure at 0x10649d2d0>"
      ]
     },
     "metadata": {},
     "output_type": "display_data"
    },
    {
     "name": "stdout",
     "output_type": "stream",
     "text": [
      "[(0, 0.88105726872246692), (2, 0.91423530175023537), (4, 0.93880144933757803), (6, 0.95666449609497328), (8, 0.96948304337890157), (10, 0.97859473126394758), (12, 0.98502788531184371), (14, 0.98954826451253941), (16, 0.99271394642331112), (18, 0.994925705169311)]\n"
     ]
    }
   ],
   "source": [
    "plot(true_curve_expr, (t, 0, 30))\n",
    "true_curve = lambdify(t, true_curve_expr)\n",
    "sample_data = [(time, true_curve(time)) for time in np.arange(0, 20, 2)]\n",
    "print(sample_data)"
   ]
  },
  {
   "cell_type": "code",
   "execution_count": 20,
   "metadata": {},
   "outputs": [
    {
     "data": {
      "image/png": "[encoded data removed]",
      "text/latex": [
       "$$\\left(- \\frac{\\alpha}{\\beta + 1} + 0.881057268722467\\right)^{2} + \\left(- \\frac{\\alpha}{\\beta e^{- 18 k} + 1} + 0.994925705169311\\right)^{2} + \\left(- \\frac{\\alpha}{\\beta e^{- 16 k} + 1} + 0.992713946423311\\right)^{2} + \\left(- \\frac{\\alpha}{\\beta e^{- 14 k} + 1} + 0.989548264512539\\right)^{2} + \\left(- \\frac{\\alpha}{\\beta e^{- 12 k} + 1} + 0.985027885311844\\right)^{2} + \\left(- \\frac{\\alpha}{\\beta e^{- 10 k} + 1} + 0.978594731263948\\right)^{2} + \\left(- \\frac{\\alpha}{\\beta e^{- 8 k} + 1} + 0.969483043378902\\right)^{2} + \\left(- \\frac{\\alpha}{\\beta e^{- 6 k} + 1} + 0.956664496094973\\right)^{2} + \\left(- \\frac{\\alpha}{\\beta e^{- 4 k} + 1} + 0.938801449337578\\right)^{2} + \\left(- \\frac{\\alpha}{\\beta e^{- 2 k} + 1} + 0.914235301750235\\right)^{2}$$"
      ],
      "text/plain": [
       "                             2                                       2        \n",
       "⎛    α                      ⎞    ⎛       α                          ⎞    ⎛    \n",
       "⎜- ───── + 0.881057268722467⎟  + ⎜- ──────────── + 0.994925705169311⎟  + ⎜- ──\n",
       "⎝  β + 1                    ⎠    ⎜     -18⋅k                        ⎟    ⎜    \n",
       "                                 ⎝  β⋅ℯ      + 1                    ⎠    ⎝  β⋅\n",
       "\n",
       "                               2                                       2      \n",
       "   α                          ⎞    ⎛       α                          ⎞    ⎛  \n",
       "────────── + 0.992713946423311⎟  + ⎜- ──────────── + 0.989548264512539⎟  + ⎜- \n",
       " -16⋅k                        ⎟    ⎜     -14⋅k                        ⎟    ⎜  \n",
       "ℯ      + 1                    ⎠    ⎝  β⋅ℯ      + 1                    ⎠    ⎝  \n",
       "\n",
       "                                 2                                       2    \n",
       "     α                          ⎞    ⎛       α                          ⎞    ⎛\n",
       "──────────── + 0.985027885311844⎟  + ⎜- ──────────── + 0.978594731263948⎟  + ⎜\n",
       "   -12⋅k                        ⎟    ⎜     -10⋅k                        ⎟    ⎜\n",
       "β⋅ℯ      + 1                    ⎠    ⎝  β⋅ℯ      + 1                    ⎠    ⎝\n",
       "\n",
       "                                  2                                      2    \n",
       "       α                         ⎞    ⎛       α                         ⎞    ⎛\n",
       "- ─────────── + 0.969483043378902⎟  + ⎜- ─────────── + 0.956664496094973⎟  + ⎜\n",
       "     -8⋅k                        ⎟    ⎜     -6⋅k                        ⎟    ⎜\n",
       "  β⋅ℯ     + 1                    ⎠    ⎝  β⋅ℯ     + 1                    ⎠    ⎝\n",
       "\n",
       "                                  2                                      2\n",
       "       α                         ⎞    ⎛       α                         ⎞ \n",
       "- ─────────── + 0.938801449337578⎟  + ⎜- ─────────── + 0.914235301750235⎟ \n",
       "     -4⋅k                        ⎟    ⎜     -2⋅k                        ⎟ \n",
       "  β⋅ℯ     + 1                    ⎠    ⎝  β⋅ℯ     + 1                    ⎠ "
      ]
     },
     "metadata": {},
     "output_type": "display_data"
    }
   ],
   "source": [
    "loss_expr = 0\n",
    "for time, value in sample_data:\n",
    "    pred_value = curve_expr.subs(t, time)\n",
    "    loss_expr += (value - pred_value) ** 2\n",
    "f_expr = loss_expr\n",
    "display(f_expr)\n",
    "\n",
    "seed_num = 431\n",
    "np.random.seed(seed_num)\n",
    "low = 0.01\n",
    "high = 2.5\n",
    "points = np.random.uniform(low=low, high=high, size=(len(args)+1, len(args)))\n",
    "np_func = lambdify([args], f_expr, modules=np) "
   ]
  },
  {
   "cell_type": "code",
   "execution_count": 21,
   "metadata": {},
   "outputs": [
    {
     "name": "stdout",
     "output_type": "stream",
     "text": [
      "4.70077971557e-06\n"
     ]
    }
   ],
   "source": [
    "points_histories = []\n",
    "local_minima = np.inf\n",
    "for i in range(50):\n",
    "    points = np.random.uniform(low=low, high=high, size=(len(args)+1, len(args)))\n",
    "    nelder = NelderMead(np_func, points)\n",
    "    _local_minima, points_history = nelder.run(50)\n",
    "    points_histories.append(points_history)\n",
    "    local_minima = min(local_minima, _local_minima)\n",
    "points_histories = np.array(points_histories)\n",
    "print local_minima"
   ]
  },
  {
   "cell_type": "code",
   "execution_count": 22,
   "metadata": {
    "collapsed": true
   },
   "outputs": [],
   "source": [
    "f, df, ddf = get_f_df_ddf_from_symbol_representation(f_expr, args)"
   ]
  },
  {
   "cell_type": "code",
   "execution_count": 23,
   "metadata": {},
   "outputs": [
    {
     "data": {
      "image/png": "[encoded data removed]",
      "text/latex": [
       "$$\\left [ \\left [ \\left ( \\left ( 0.0, \\quad 4.01317784786\\right )\\right )\\right ]\\right ]$$"
      ],
      "text/plain": [
       "[[((0.0, 4.01317784786),)]]"
      ]
     },
     "execution_count": 23,
     "metadata": {},
     "output_type": "execute_result"
    }
   ],
   "source": [
    "X = ip([\n",
    "    [interval[0.6, 1.5001]],\n",
    "    [interval[0.1, 2.001]], \n",
    "    [interval[0.1, 2.001]]\n",
    "])\n",
    "\n",
    "# X = ip([\n",
    "#     [interval[0.5, 1.6]],\n",
    "#     [interval[0.5, 3.0]], \n",
    "#     [interval[0.6, 3.33]]\n",
    "# ])\n",
    "\n",
    "f(X)"
   ]
  },
  {
   "cell_type": "code",
   "execution_count": 24,
   "metadata": {
    "collapsed": true
   },
   "outputs": [],
   "source": [
    "kra = Krawczyk(df, ddf, X)"
   ]
  },
  {
   "cell_type": "code",
   "execution_count": 26,
   "metadata": {
    "scrolled": false
   },
   "outputs": [
    {
     "name": "stdout",
     "output_type": "stream",
     "text": [
      "Loop end. cnt:1170, len(S):0, len(T):2, len(U):0\n",
      "\n",
      "1170\n",
      "---------- 最終的なS[:10] -----------\n",
      "[]\n",
      "---------- 最終的なU[:10] -----------\n",
      "[]\n",
      "---------- 最終的なT[:50] -----------\n",
      "[[[interval([0.9999999999999966, 1.0000000000000038])],\n",
      "  [interval([0.13499999999999807, 0.1350000000000026])],\n",
      "  [interval([0.18199999999998798, 0.18200000000001174])]],\n",
      " [[interval([0.9999999999999971, 1.000000000000003])],\n",
      "  [interval([0.13499999999999834, 0.1350000000000023])],\n",
      "  [interval([0.18199999999998942, 0.18200000000001107])]]]\n",
      "最小値の上限値: 3.24308113707e-28\n",
      "317.324635983[sec]\n"
     ]
    }
   ],
   "source": [
    "import time\n",
    "local_minima = np.inf\n",
    "st = time.time()\n",
    "ans_boxes, S_num_list, T_num_list, U_num_list, animation_box = kra.find_global_minimum(\n",
    "    f, tmp_min_sup=local_minima ,trace=True, cnt_max=100000)\n",
    "print(\"{}[sec]\".format(time.time() - st))"
   ]
  },
  {
   "cell_type": "code",
   "execution_count": null,
   "metadata": {
    "collapsed": true
   },
   "outputs": [],
   "source": [
    "if len(args) == 2: \n",
    "    visualize_optimization_log(kra, f, animation_box, skip=200)"
   ]
  }
 ],
 "metadata": {
  "kernelspec": {
   "display_name": "Python 2",
   "language": "python",
   "name": "python2"
  },
  "language_info": {
   "codemirror_mode": {
    "name": "ipython",
    "version": 2
   },
   "file_extension": ".py",
   "mimetype": "text/x-python",
   "name": "python",
   "nbconvert_exporter": "python",
   "pygments_lexer": "ipython2",
   "version": "2.7.13"
  }
 },
 "nbformat": 4,
 "nbformat_minor": 2
}
