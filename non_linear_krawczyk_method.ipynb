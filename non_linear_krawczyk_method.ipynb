{
 "cells": [
  {
   "cell_type": "code",
   "execution_count": 11,
   "metadata": {
    "collapsed": true
   },
   "outputs": [],
   "source": [
    "%matplotlib inline \n",
    "from IPython.core.display import display\n",
    "\n",
    "from mpl_toolkits.mplot3d import Axes3D\n",
    "import matplotlib.pyplot as plt\n",
    "import numpy as np\n",
    "\n",
    "from sympy import *\n",
    "init_printing()\n",
    "#from math import *\n",
    "from interval import interval\n",
    "from interval import imath as im\n",
    "import sys\n",
    "from pprint import pprint"
   ]
  },
  {
   "cell_type": "markdown",
   "metadata": {},
   "source": [
    "<img  src=\"スクリーンショット 2016-12-29 16.59.29.png\"/>"
   ]
  },
  {
   "cell_type": "markdown",
   "metadata": {},
   "source": [
    "<img  src=\"スクリーンショット 2016-12-29 19.29.13.png\"/>"
   ]
  },
  {
   "cell_type": "code",
   "execution_count": 12,
   "metadata": {
    "collapsed": false,
    "scrolled": true
   },
   "outputs": [
    {
     "name": "stdout",
     "output_type": "stream",
     "text": [
      "[[interval([-5.0, -4.0])], [interval([-3.0, 1.0])], [interval([-1.0, 2.0])]]\n",
      "[[interval([-7.0, -3.0])], [interval([-0.0, 5.0])], [interval([1.0, 5.0])]]\n",
      "[[interval([2.0, 6.0])], [interval([2.0, 7.0])], [interval([-0.0, 4.0])]]\n",
      "[[interval([-5.0, 10.0])], [interval([-12.0, 4.0])], [interval([-3.0, 6.0])]]\n",
      "\n",
      "[[interval([-2.0, 1.0])], [interval([3.0, 4.0])], [interval([2.0, 3.0])]]\n",
      "[[interval([-0.5])], [interval([3.5])], [interval([2.5])]]\n"
     ]
    }
   ],
   "source": [
    "class ivmat(list):\n",
    "    class DimentionNotMatchError(Exception):\n",
    "        pass\n",
    "    \n",
    "    class NotListError(Exception):\n",
    "        pass\n",
    "    \n",
    "    class SizeNotMatchError(Exception):\n",
    "        pass\n",
    "    \n",
    "    class NotMidpointError(Exception):\n",
    "        pass\n",
    " \n",
    "    def _get_shape(self, X):\n",
    "        if isinstance(X, list):            \n",
    "            for index, x in enumerate(X):\n",
    "                if index==0 and isinstance(x, list):\n",
    "                    col_num = len(x)\n",
    "                elif isinstance(x, list):\n",
    "                    if not col_num == len(x):\n",
    "                        raise DimentionNotMatchError()\n",
    "                else:\n",
    "                    raise NotListError()\n",
    "            return (len(X), col_num)\n",
    "        else:\n",
    "            raise NotListError()\n",
    "    \n",
    "    def __init__(self, args):\n",
    "        self.shape = self._get_shape(args)\n",
    "        self.size = reduce(lambda x,y: x*y, self.shape)\n",
    "        #self.midpoint = self._get_midpoint()\n",
    "        super(ivmat, self).__init__(args)\n",
    "    \n",
    "    def __pos__(self): # +x\n",
    "        return self\n",
    "    \n",
    "    def __neg__(self): # -x\n",
    "        return ivmat(map(lambda x_row: \n",
    "                         [-x for x in x_row], \n",
    "                         self))\n",
    "    \n",
    "    def __add__(self, other): # x + y\n",
    "        return ivmat(map(lambda (x_row,y_row): \n",
    "                         [x+y for x,y in zip(x_row, y_row)], \n",
    "                         zip(self, other)))\n",
    "        \n",
    "    def __radd__(self, other): # y + x\n",
    "        return ivmat(map(lambda (x_row,y_row): \n",
    "                         [x+y for x,y in zip(x_row, y_row)], \n",
    "                         zip(self, other)))\n",
    "    \n",
    "    def __sub__(self, other): # x - y\n",
    "        return ivmat(map(lambda (x_row,y_row): \n",
    "                         [x-y for x,y in zip(x_row, y_row)], \n",
    "                         zip(self, other)))\n",
    "    \n",
    "    def __mul__(self, other): # x * y\n",
    "        return ivmat(map(lambda (x_row,y_row): \n",
    "                         [x*y for x,y in zip(x_row, y_row)], \n",
    "                         zip(self, other)))\n",
    "        \n",
    "    def __rmul__(self, other): # y * x\n",
    "        return ivmat(map(lambda (x_row,y_row): \n",
    "                         [x*y for x,y in zip(x_row, y_row)], \n",
    "                         zip(self, other)))\n",
    "    \n",
    "    def __and__(self, other):\n",
    "        return ivmat(map(lambda (x_row,y_row): \n",
    "                         [x&y for x,y in zip(x_row, y_row)], \n",
    "                         zip(self, other)))\n",
    "    \n",
    "        \n",
    "    @classmethod\n",
    "    def dot(self, x, y): # matrix operation\n",
    "        if not len(x[0]) == len(y):\n",
    "            raise DimentionNotMatchError('dot dimention unmatch')\n",
    "        mat = ivmat([[None for col in range(len(y[0]))] for row in range(len(x))])\n",
    "        for i in range(len(x)):\n",
    "            for j in range(len(y[0])):\n",
    "                sum = 0\n",
    "                for k in range(len(x[0])):\n",
    "                    sum += x[i][k] * y[k][j]\n",
    "                mat[i][j] = sum\n",
    "        return mat\n",
    "    \n",
    "    @property\n",
    "    def midpoint(self):\n",
    "        mat = ivmat([[None for col in range(self.shape[1])] for row in range(self.shape[0])])\n",
    "        for i in range(mat.shape[0]):\n",
    "            for j in range(mat.shape[1]):\n",
    "                mat[i][j] = self[i][j].midpoint\n",
    "        return mat\n",
    "    \n",
    "    def _flatten(self): # 1-D\n",
    "        return reduce(lambda x,y: x+y, self)\n",
    "    \n",
    "    def reshape(self, row_num, col_num):\n",
    "        if not row_num * col_num == self.size:\n",
    "            raise SizeNotMatchError('reshape method cannnot change elements size')    \n",
    "        mat = ivmat([[None for col in range(col_num)] for row in range(row_num)])\n",
    "        for i, x in enumerate(self._flatten()):\n",
    "            row_index = i // col_num\n",
    "            col_index = i % col_num\n",
    "            mat[row_index][col_index] = x\n",
    "        return mat\n",
    "    \n",
    "    def is_midpoint(self):\n",
    "        for i in range(self.shape[0]):\n",
    "            for j in range(self.shape[1]):\n",
    "                iv = self[i][j]\n",
    "                if not iv[0][0] == iv[0][1]:\n",
    "                    return False\n",
    "        return True\n",
    "    \n",
    "    def to_scalar(self):\n",
    "        mat = ivmat([[None for col in range(self.shape[1])] for row in range(self.shape[0])])        \n",
    "        for i in range(mat.shape[0]):\n",
    "            for j in range(mat.shape[1]):\n",
    "                iv = self[i][j]\n",
    "                if not self.is_midpoint(): \n",
    "                    raise NotMidpointError()\n",
    "                mat[i][j] = iv[0][0]\n",
    "        return mat\n",
    "    \n",
    "    def to_interval(self):\n",
    "        mat = ivmat([[None for col in range(self.shape[1])] for row in range(self.shape[0])])        \n",
    "        for i in range(mat.shape[0]):\n",
    "            for j in range(mat.shape[1]):\n",
    "                mat[i][j] = interval.cast(self[i][j])\n",
    "        return mat\n",
    "    \n",
    "    def get_pinv(self):\n",
    "        np_pinv =  np.around(np.linalg.pinv(np.array(self)), decimals=2)\n",
    "        return ivmat(np_pinv.tolist()).to_interval()\n",
    "    \n",
    "    @classmethod\n",
    "    def eye(self, n):\n",
    "        \"\"\"\n",
    "        Returns:\n",
    "            ans = ivmat(\n",
    "                [1,0,...,0],\n",
    "                [0,1,...,0],\n",
    "                        :\n",
    "                [0,...,0,1]\n",
    "            )\n",
    "            ans.shape == (n,n)\n",
    "        \"\"\"\n",
    "        return ivmat(np.eye(n).tolist())\n",
    "        \n",
    "    \n",
    "a = ivmat([[interval[-2,1]], [interval[3,4]], [interval[2,3]]])\n",
    "b = ivmat([[interval[-5,-4]], [interval[-3,1]], [interval[-1,2]]])\n",
    "c = ivmat([[interval[2,3], interval[5,7], interval[0,1]]])\n",
    "d = ivmat([[interval[1,2], interval[-2,1], interval[4,6]]])\n",
    "\n",
    "from itertools import chain\n",
    "\n",
    "print b\n",
    "print a+b\n",
    "print a-b\n",
    "print a*b\n",
    "print\n",
    "print a\n",
    "print(a.midpoint)"
   ]
  },
  {
   "cell_type": "code",
   "execution_count": 13,
   "metadata": {
    "code_folding": [],
    "collapsed": false
   },
   "outputs": [
    {
     "data": {
      "image/png": "[encoded data removed]",
      "text/latex": [
       "$$x_{1}^{2} + x_{2}^{2} - 1$$"
      ],
      "text/plain": [
       "  2     2    \n",
       "x₁  + x₂  - 1"
      ]
     },
     "metadata": {},
     "output_type": "display_data"
    },
    {
     "data": {
      "image/png": "[encoded data removed]",
      "text/latex": [
       "$$x_{1} - x_{2}^{2}$$"
      ],
      "text/plain": [
       "       2\n",
       "x₁ - x₂ "
      ]
     },
     "metadata": {},
     "output_type": "display_data"
    },
    {
     "name": "stdout",
     "output_type": "stream",
     "text": [
      "2*x_1\n",
      "2*x_2\n",
      "1\n",
      "-2*x_2\n"
     ]
    },
    {
     "data": {
      "text/plain": [
       "[[<function __main__.<lambda>>, <function __main__.<lambda>>],\n",
       " [<function __main__.<lambda>>, <function __main__.<lambda>>]]"
      ]
     },
     "metadata": {},
     "output_type": "display_data"
    },
    {
     "name": "stdout",
     "output_type": "stream",
     "text": [
      "---なぜ同じ結果に？------なぜ同じ結果に？---\n",
      "多分、eval(gtad_str)は実行時に評価されるので最後のgrad_strが使われる\n",
      "interval([-1.8, -1.2])\n",
      "interval([-1.8, -1.2])\n",
      "interval([-1.8, -1.2])\n",
      "interval([-1.8, -1.2])\n",
      "------------------------------------------------------------\n",
      "別々に作るとうまくいく\n",
      "[[interval([1.0, 1.6]), interval([1.2, 1.8])], [interval([1.0]), interval([-1.8, -1.2])]]\n"
     ]
    }
   ],
   "source": [
    "x_1, x_2, x_3 = var(\"x_1 x_2 x_3\")\n",
    "f_1 = symbols(\"f_1\", cls=Function)\n",
    "f_2 = symbols(\"f_2\", cls=Function)\n",
    "f_1 = x_1**2 + x_2**2 - 1\n",
    "f_2 = x_1 - x_2**2\n",
    "\n",
    "display(f_1)\n",
    "display(f_2)\n",
    "\n",
    "class fmat(list):\n",
    "    def apply_args(self,X_mat):\n",
    "        \"\"\"\n",
    "        Params:\n",
    "            X_mat: ivmat([[x_1], [x_2]])\n",
    "        Returns:\n",
    "            ivmat\n",
    "        \"\"\"\n",
    "        X = map(lambda x: x[0], X_mat)        \n",
    "        ans = []\n",
    "        for f_row in self:\n",
    "            tmp = []\n",
    "            for f in f_row:\n",
    "                tmp.append(f(*X))\n",
    "            ans.append(tmp)\n",
    "        return ivmat(ans)\n",
    "            \n",
    "\n",
    "f_strs = ('f_1', 'f_2')\n",
    "x_strs = ('x_1', 'x_2')\n",
    "grad_strs = [[None for i in range(len(x_strs))] for j in range(len(x_strs))]\n",
    "\n",
    "f_grad = fmat()\n",
    "for i,f in enumerate(['f_1', 'f_2']):\n",
    "    tmp = []\n",
    "    for j,x in enumerate(['x_1', 'x_2']):\n",
    "        grad_strs[i][j] = str(eval(f).diff(eval(x)))\n",
    "        print grad_strs[i][j]\n",
    "        workspace = dict([('i', i), ('j', j)])\n",
    "        grad = lambda x_1, x_2: interval(eval(grad_strs[i][j]))\n",
    "        tmp.append(grad)\n",
    "    f_grad.append(tmp)\n",
    "display(f_grad)\n",
    "\n",
    "print '---なぜ同じ結果に？---'*2  \n",
    "print \"多分、eval(gtad_str)は実行時に評価されるので最後のgrad_strが使われる\"\n",
    "print f_grad[0][0](interval[0.5,0.8], interval[0.6,0.9])\n",
    "print f_grad[0][1](interval[0.5,0.8], interval[0.6,0.9])\n",
    "print f_grad[1][0](interval[0.5,0.8], interval[0.6,0.9])\n",
    "print f_grad[1][1](interval[0.5,0.8], interval[0.6,0.9])\n",
    "print '------'*10\n",
    "\n",
    "\"\"\"\n",
    "このようにそれぞれを作るとうまくいく\n",
    "\"\"\"\n",
    "f_1_str = str(f_1)\n",
    "f_2_str = str(f_2)\n",
    "f = fmat([[lambda x_1,x_2: eval(f_1_str)], [lambda x_1,x_2: eval(f_2_str)]])\n",
    "\n",
    "\n",
    "f1x1_str = str(f_1.diff(x_1)) \n",
    "f1x1 = lambda x_1, x_2: interval.cast(eval(f1x1_str))\n",
    "f1x2_str = str(f_1.diff(x_2)) \n",
    "f1x2 = lambda x_1, x_2: interval.cast(eval(f1x2_str))\n",
    "f2x1_str = str(f_2.diff(x_1)) \n",
    "f2x1 = lambda x_1, x_2: interval.cast(eval(f2x1_str))\n",
    "f2x2_str = str(f_2.diff(x_2)) \n",
    "f2x2 = lambda x_1, x_2: interval.cast(eval(f2x2_str))\n",
    "\n",
    "f_grad = fmat([[f1x1, f1x2], [f2x1, f2x2]])\n",
    "X = ivmat([[interval[0.5,0.8]], [interval[0.6,0.9]]])\n",
    "print \"別々に作るとうまくいく\"\n",
    "print f_grad.apply_args(X)\n",
    "\n"
   ]
  },
  {
   "cell_type": "code",
   "execution_count": 14,
   "metadata": {
    "code_folding": [],
    "collapsed": false
   },
   "outputs": [
    {
     "name": "stdout",
     "output_type": "stream",
     "text": [
      "[[interval([0.65])], [interval([0.75])]]\n",
      "[[interval([1.3]), interval([1.5])], [interval([1.0]), interval([-1.5])]]\n",
      "[[interval([0.43]), interval([0.43])], [interval([0.29]), interval([-0.38])]]\n"
     ]
    }
   ],
   "source": [
    "X = ivmat([[interval[0.5,0.8]], [interval[0.6,0.9]]])\n",
    "y = X.midpoint\n",
    "print y\n",
    "print f_grad.apply_args(X).midpoint\n",
    "res =  f_grad.apply_args(X).midpoint.to_scalar()\n",
    "print res.get_pinv()\n",
    "\n",
    "Y = ivmat([[0.43,0.43], [0.29,-0.37]])\n"
   ]
  },
  {
   "cell_type": "code",
   "execution_count": 15,
   "metadata": {
    "collapsed": false
   },
   "outputs": [
    {
     "name": "stdout",
     "output_type": "stream",
     "text": [
      "[[0.65], [0.75]]\n",
      "[[interval([0.43]), interval([0.43])], [interval([0.29]), interval([-0.38])]]\n",
      "[[-0.014999999999999902], [0.08750000000000002]]\n",
      "[[interval([-0.15000000000000002, 0.15000000000000002])], [interval([-0.15000000000000002, 0.15000000000000002])]]\n",
      "---- KX ------------------------------------------------------\n",
      "[[interval([0.5591249999999999, 0.6785250000000002])],\n",
      " [interval([0.7431999999999999, 0.8320000000000002])]]\n",
      "[[interval([0.5591249999999999, 0.6785250000000002])],\n",
      " [interval([0.7431999999999999, 0.8320000000000002])]]\n"
     ]
    }
   ],
   "source": [
    "y = X.midpoint.to_scalar()\n",
    "print y\n",
    "Y = f_grad.apply_args(X).midpoint.to_scalar().get_pinv()\n",
    "#Y = ivmat([[0.43,0.43], [0.29,-0.37]])\n",
    "print Y\n",
    "print f.apply_args(y)\n",
    "Z = X - y\n",
    "print Z\n",
    "I_YF_gradX = ivmat.eye(2) - ivmat.dot(Y, f_grad.apply_args(X))\n",
    "KX = y - ivmat.dot(Y, f.apply_args(y)) + ivmat.dot(I_YF_gradX, Z)\n",
    "print '---- KX ----'+'-----'*10\n",
    "\n",
    "pprint(KX)\n",
    "\n",
    "pprint(KX & X)"
   ]
  },
  {
   "cell_type": "code",
   "execution_count": 18,
   "metadata": {
    "collapsed": false
   },
   "outputs": [],
   "source": [
    "class Krawczyk():\n",
    "    def __init__(self, f,f_grad, X):\n",
    "        self.f = f\n",
    "        self.f_grad = f_grad\n",
    "        self.X = X\n",
    "        self.y = self.X.midpoint.to_scalar()\n",
    "        self.Y = self.f_grad.apply_args(self.X).midpoint.to_scalar().get_pinv()\n",
    "        self.Z = self.X-self.y\n",
    "        self.dim = len(self.f)\n",
    "        \n",
    "    def run(self, iter_num=10):\n",
    "        # initialize\n",
    "        X = self.X\n",
    "        y = X.midpoint\n",
    "        Y = self.Y\n",
    "        Z = self.Z\n",
    "        pprint(X)\n",
    "        \n",
    "        for i in range(iter_num):\n",
    "            left = y - ivmat.dot(Y, self.f.apply_args(y))\n",
    "            right = ivmat.dot(ivmat.eye(self.dim) - ivmat.dot(Y, self.f_grad.apply_args(X)), Z)\n",
    "            KX = left + right\n",
    "            X = KX & X\n",
    "            print '---------', i,'------------------'\n",
    "            #pprint(KX)\n",
    "            pprint(X)        \n",
    "            #update\n",
    "            y = X.midpoint\n",
    "            Y =  self.f_grad.apply_args(X).midpoint.to_scalar().get_pinv()\n",
    "            Z = X - y\n",
    "    "
   ]
  },
  {
   "cell_type": "code",
   "execution_count": 19,
   "metadata": {
    "collapsed": false
   },
   "outputs": [
    {
     "name": "stdout",
     "output_type": "stream",
     "text": [
      "[[interval([0.5, 0.8])], [interval([0.6, 0.9])]]\n",
      "--------- 0 ------------------\n",
      "[[interval([0.5591249999999999, 0.6785250000000002])],\n",
      " [interval([0.7431999999999999, 0.8320000000000002])]]\n",
      "--------- 1 ------------------\n",
      "[[interval([0.6108581824687497, 0.6251993749687503])],\n",
      " [interval([0.7811419024249998, 0.7911914068250002])]]\n",
      "--------- 2 ------------------\n",
      "[[interval([0.6178976554300505, 0.6181703869684437])],\n",
      " [interval([0.7860155185469165, 0.7862874847206657])]]\n",
      "--------- 3 ------------------\n",
      "[[interval([0.6180330888839716, 0.6180348882114599])],\n",
      " [interval([0.7861495284671665, 0.7861532296419088])]]\n",
      "--------- 4 ------------------\n",
      "[[interval([0.6180339831388258, 0.6180339943634833])],\n",
      " [interval([0.7861513567678791, 0.7861513987699036])]]\n",
      "--------- 5 ------------------\n",
      "[[interval([0.6180339887149178, 0.6180339887848562])],\n",
      " [interval([0.7861513775371982, 0.7861513779778749])]]\n",
      "--------- 6 ------------------\n",
      "[[interval([0.6180339887496769, 0.618033988750113])],\n",
      " [interval([0.7861513777552057, 0.7861513777596429])]]\n",
      "--------- 7 ------------------\n",
      "[[interval([0.6180339887498932, 0.6180339887498965])],\n",
      " [interval([0.7861513777574013, 0.7861513777574453])]]\n",
      "--------- 8 ------------------\n",
      "[[interval([0.6180339887498946, 0.618033988749895])],\n",
      " [interval([0.7861513777574229, 0.7861513777574236])]]\n",
      "--------- 9 ------------------\n",
      "[[interval([0.6180339887498947, 0.618033988749895])],\n",
      " [interval([0.786151377757423, 0.7861513777574235])]]\n"
     ]
    }
   ],
   "source": [
    "\n",
    "#X = ivmat([[interval[0,1]], [interval[0,1]]])\n",
    "X = ivmat([[interval[0.5,0.8]], [interval[0.6,0.9]]])\n",
    "kra = Krawczyk(f,f_grad,X)\n",
    "kra.run(10)\n",
    "\n"
   ]
  },
  {
   "cell_type": "code",
   "execution_count": 20,
   "metadata": {
    "collapsed": false
   },
   "outputs": [
    {
     "data": {
      "image/png": "[encoded data removed]",
      "text/latex": [
       "$$e^{- 4 \\left(x_{1} - 1\\right)^{2} - 6 \\left(x_{2} - 0.5\\right)^{2}} + e^{- 7 \\left(x_{1} + 1.5\\right)^{2} - 9 \\left(x_{2} + 1\\right)^{2}}$$"
      ],
      "text/plain": [
       "             2               2                  2             2\n",
       " - 4⋅(x₁ - 1)  - 6⋅(x₂ - 0.5)     - 7⋅(x₁ + 1.5)  - 9⋅(x₂ + 1) \n",
       "ℯ                              + ℯ                             "
      ]
     },
     "metadata": {},
     "output_type": "display_data"
    },
    {
     "name": "stdout",
     "output_type": "stream",
     "text": [
      "interval([-1.6, -1.45])\n"
     ]
    }
   ],
   "source": [
    "x_1, x_2, x_3 = var(\"x_1 x_2 x_3\")\n",
    "f_x_1 = symbols(\"f_x_1\", cls=Function)\n",
    "f_x_2 = symbols(\"f_x_2\", cls=Function)\n",
    "nn = exp(-4*(x_1-1)**2 - 6*(x_2-0.5)**2) + exp(-7*(x_1+1.5)**2 - 9*(x_2+1)**2)\n",
    "display(nn)\n",
    "f = lambda x_1,x_2,exp: eval(str(nn)) \n",
    "grad_f_x_1 = str(nn.diff(x_1))\n",
    "f_x_1 = lambda x_1,x_2,exp=im.exp: eval(grad_f_x_1)\n",
    "grad_f_x_2 = str(nn.diff(x_2))\n",
    "f_x_2 = lambda x_1,x_2,exp=im.exp: eval(grad_f_x_2)\n",
    "\n",
    "f = fmat([[f_x_1], [f_x_2]])\n",
    "hes = hessian(nn, (x_1,x_2))\n",
    "func_eval = lambda func: (lambda x_1, x_2, exp=im.exp: eval(str(func)))\n",
    "f_grad = fmat([[None for i in range(hes.shape[1])] for j in range(hes.shape[0])])\n",
    "for i in range(2):\n",
    "    for j in range(2):\n",
    "        f_grad[i][j] = func_eval(hes[i,j])\n",
    "\n",
    "x_1= interval[-1.6, -1.45]\n",
    "x_2 = interval[-0.9,-1.2]\n",
    "print x_1\n",
    "X = ivmat([[x_1],[x_2]])\n",
    "#print f_grad.apply_args(args)\n",
    "\n",
    "\n"
   ]
  },
  {
   "cell_type": "code",
   "execution_count": 21,
   "metadata": {
    "collapsed": false
   },
   "outputs": [
    {
     "name": "stdout",
     "output_type": "stream",
     "text": [
      "[[interval([-1.6, -1.45])], [interval([-1.2, -0.9])]]\n",
      "--------- 0 ------------------\n",
      "[[interval([-1.591533005993967, -1.45])],\n",
      " [interval([-1.1615313623148635, -0.9])]]\n",
      "--------- 1 ------------------\n",
      "[[interval([-1.560142544889375, -1.45])],\n",
      " [interval([-1.0873122646913087, -0.9])]]\n",
      "--------- 2 ------------------\n",
      "[[interval([-1.5173586386949545, -1.481430413752573])],\n",
      " [interval([-1.0272429930490141, -0.9737645977927148])]]\n",
      "--------- 3 ------------------\n",
      "[[interval([-1.5008301403144149, -1.4991456349783487])],\n",
      " [interval([-1.0022362436336112, -0.9976831543773185])]]\n",
      "--------- 4 ------------------\n",
      "[[interval([-1.5000167348233018, -1.4999827806821817])],\n",
      " [interval([-1.000185372856922, -0.9998210753008416])]]\n",
      "--------- 5 ------------------\n",
      "[[interval([-1.5000003347119717, -1.499999655598138])],\n",
      " [interval([-1.0000143139767526, -0.9999851701706269])]]\n",
      "--------- 6 ------------------\n",
      "[[interval([-1.5000000066942416, -1.4999999931119605])],\n",
      " [interval([-1.0000011863863503, -0.9999988548818596])]]\n",
      "--------- 7 ------------------\n",
      "[[interval([-1.5000000001338851, -1.4999999998622389])],\n",
      " [interval([-1.0000000916094516, -0.9999999050890918])]]\n",
      "--------- 8 ------------------\n",
      "[[interval([-1.5000000000026779, -1.4999999999972446])],\n",
      " [interval([-1.0000000075928728, -0.9999999926712435])]]\n",
      "--------- 9 ------------------\n",
      "[[interval([-1.500000000000054, -1.4999999999999447])],\n",
      " [interval([-1.0000000005863008, -0.9999999993925699])]]\n"
     ]
    }
   ],
   "source": [
    "kra = Krawczyk(f,f_grad,X)\n",
    "kra.run(10)"
   ]
  },
  {
   "cell_type": "code",
   "execution_count": null,
   "metadata": {
    "collapsed": true
   },
   "outputs": [],
   "source": []
  }
 ],
 "metadata": {
  "kernelspec": {
   "display_name": "Python 2",
   "language": "python",
   "name": "python2"
  },
  "language_info": {
   "codemirror_mode": {
    "name": "ipython",
    "version": 2
   },
   "file_extension": ".py",
   "mimetype": "text/x-python",
   "name": "python",
   "nbconvert_exporter": "python",
   "pygments_lexer": "ipython2",
   "version": "2.7.11"
  }
 },
 "nbformat": 4,
 "nbformat_minor": 0
}
