{
 "cells": [
  {
   "cell_type": "code",
   "execution_count": 1,
   "metadata": {
    "collapsed": true
   },
   "outputs": [],
   "source": [
    "%matplotlib inline \n",
    "from IPython.core.display import display\n",
    "\n",
    "from mpl_toolkits.mplot3d import Axes3D\n",
    "import matplotlib.pyplot as plt\n",
    "import numpy as np\n",
    "\n",
    "from sympy import *\n",
    "init_printing()\n",
    "#from math import *\n",
    "from interval import interval\n",
    "from interval import imath as im\n",
    "import sys\n",
    "from pprint import pprint"
   ]
  },
  {
   "cell_type": "markdown",
   "metadata": {},
   "source": [
    "<img  src=\"スクリーンショット 2016-12-29 16.59.29.png\"/>"
   ]
  },
  {
   "cell_type": "markdown",
   "metadata": {},
   "source": [
    "<img  src=\"スクリーンショット 2016-12-29 19.29.13.png\"/>"
   ]
  },
  {
   "cell_type": "code",
   "execution_count": 2,
   "metadata": {
    "collapsed": false,
    "scrolled": true
   },
   "outputs": [
    {
     "name": "stdout",
     "output_type": "stream",
     "text": [
      "[[interval([-5.0, -4.0])], [interval([-3.0, 1.0])], [interval([-1.0, 2.0])]]\n",
      "[[interval([-7.0, -3.0])], [interval([-0.0, 5.0])], [interval([1.0, 5.0])]]\n",
      "[[interval([2.0, 6.0])], [interval([2.0, 7.0])], [interval([-0.0, 4.0])]]\n",
      "[[interval([-5.0, 10.0])], [interval([-12.0, 4.0])], [interval([-3.0, 6.0])]]\n",
      "\n",
      "[[interval([-2.0, 1.0])], [interval([3.0, 4.0])], [interval([2.0, 3.0])]]\n",
      "[[interval([-0.5])], [interval([3.5])], [interval([2.5])]]\n"
     ]
    }
   ],
   "source": [
    "class ivmat(list):\n",
    "    class DimentionNotMatchError(Exception):\n",
    "        pass\n",
    "    \n",
    "    class NotListError(Exception):\n",
    "        pass\n",
    "    \n",
    "    class SizeNotMatchError(Exception):\n",
    "        pass\n",
    " \n",
    "    def _get_shape(self, X):\n",
    "        if isinstance(X, list):            \n",
    "            for index, x in enumerate(X):\n",
    "                if index==0 and isinstance(x, list):\n",
    "                    col_num = len(x)\n",
    "                elif isinstance(x, list):\n",
    "                    if not col_num == len(x):\n",
    "                        raise DimentionNotMatchError()\n",
    "            return (len(X), col_num)\n",
    "        else:\n",
    "            raise NotListError()\n",
    "    \n",
    "    def __init__(self, args):\n",
    "        self.shape = self._get_shape(args)\n",
    "        self.size = reduce(lambda x,y: x*y, self.shape)\n",
    "        #self.midpoint = self._get_midpoint()\n",
    "        super(ivmat, self).__init__(args)\n",
    "    \n",
    "    def __pos__(self): # +x\n",
    "        return self\n",
    "    \n",
    "    def __neg__(self): # -x\n",
    "        return ivmat(map(lambda x_row: \n",
    "                         [-x for x in x_row], \n",
    "                         self))\n",
    "    \n",
    "    def __add__(self, other): # x + y\n",
    "        return ivmat(map(lambda (x_row,y_row): \n",
    "                         [x+y for x,y in zip(x_row, y_row)], \n",
    "                         zip(self, other)))\n",
    "        \n",
    "    def __radd__(self, other): # y + x\n",
    "        return ivmat(map(lambda (x_row,y_row): \n",
    "                         [x+y for x,y in zip(x_row, y_row)], \n",
    "                         zip(self, other)))\n",
    "    \n",
    "    def __sub__(self, other): # x - y\n",
    "        return ivmat(map(lambda (x_row,y_row): \n",
    "                         [x-y for x,y in zip(x_row, y_row)], \n",
    "                         zip(self, other)))\n",
    "    \n",
    "    def __mul__(self, other): # x * y\n",
    "        return ivmat(map(lambda (x_row,y_row): \n",
    "                         [x*y for x,y in zip(x_row, y_row)], \n",
    "                         zip(self, other)))\n",
    "        \n",
    "    def __rmul__(self, other): # y * x\n",
    "        return ivmat(map(lambda (x_row,y_row): \n",
    "                         [x*y for x,y in zip(x_row, y_row)], \n",
    "                         zip(self, other)))\n",
    "    \n",
    "    @classmethod\n",
    "    def dot(self, x, y): # matrix operation\n",
    "        if not len(x[0]) == len(y):\n",
    "            raise DimentionNotMatchError('dot dimention unmatch')\n",
    "        mat = ivmat([[None for col in range(len(y[0]))] for row in range(len(x))])\n",
    "        for i in range(len(x)):\n",
    "            for j in range(len(y[0])):\n",
    "                sum = 0\n",
    "                for k in range(len(x[0])):\n",
    "                    sum += x[i][k] * y[k][j]\n",
    "                mat[i][j] = sum\n",
    "        return mat\n",
    "    \n",
    "    @property\n",
    "    def midpoint(self):\n",
    "        mat = ivmat([[None for col in range(self.shape[1])] for row in range(self.shape[0])])\n",
    "        for i in range(mat.shape[0]):\n",
    "            for j in range(mat.shape[1]):\n",
    "                mat[i][j] = self[i][j].midpoint\n",
    "        return mat\n",
    "    \n",
    "    def _flatten(self): # 1-D\n",
    "        return reduce(lambda x,y: x+y, self)\n",
    "    \n",
    "    def reshape(self, row_num, col_num):\n",
    "        if not row_num * col_num == self.size:\n",
    "            raise SizeNotMatchError('reshape method cannnot change elements size')    \n",
    "        mat = ivmat([[None for col in range(col_num)] for row in range(row_num)])\n",
    "        for i, x in enumerate(self._flatten()):\n",
    "            row_index = i // col_num\n",
    "            col_index = i % col_num\n",
    "            mat[row_index][col_index] = x\n",
    "        return mat\n",
    "    \n",
    "    \n",
    "    \n",
    "a = ivmat([[interval[-2,1]], [interval[3,4]], [interval[2,3]]])\n",
    "b = ivmat([[interval[-5,-4]], [interval[-3,1]], [interval[-1,2]]])\n",
    "c = ivmat([[interval[2,3], interval[5,7], interval[0,1]]])\n",
    "d = ivmat([[interval[1,2], interval[-2,1], interval[4,6]]])\n",
    "\n",
    "from itertools import chain\n",
    "\n",
    "print b\n",
    "print a+b\n",
    "print a-b\n",
    "print a*b\n",
    "print\n",
    "print a\n",
    "print(a.midpoint)"
   ]
  },
  {
   "cell_type": "code",
   "execution_count": 3,
   "metadata": {
    "collapsed": false
   },
   "outputs": [
    {
     "name": "stdout",
     "output_type": "stream",
     "text": [
      "[[interval([-6.0, 3.0]), interval([-14.0, 7.0]), interval([-2.0, 1.0])],\n",
      " [interval([6.0, 12.0]), interval([15.0, 28.0]), interval([0.0, 4.0])],\n",
      " [interval([4.0, 9.0]), interval([10.0, 21.0]), interval([0.0, 3.0])]]\n",
      "<class '__main__.ivmat'>\n",
      "(3, 3)\n",
      "9\n",
      "[[interval([-6.0, 3.0])],\n",
      " [interval([-14.0, 7.0])],\n",
      " [interval([-2.0, 1.0])],\n",
      " [interval([6.0, 12.0])],\n",
      " [interval([15.0, 28.0])],\n",
      " [interval([0.0, 4.0])],\n",
      " [interval([4.0, 9.0])],\n",
      " [interval([10.0, 21.0])],\n",
      " [interval([0.0, 3.0])]]\n"
     ]
    }
   ],
   "source": [
    "tmp = ivmat.dot(a,c)\n",
    "\n",
    "pprint(tmp)\n",
    "print type(tmp)\n",
    "print tmp.shape\n",
    "print tmp.size\n",
    "\n",
    "pprint(tmp.reshape(9,1))"
   ]
  },
  {
   "cell_type": "code",
   "execution_count": 15,
   "metadata": {
    "code_folding": [],
    "collapsed": false,
    "scrolled": false
   },
   "outputs": [
    {
     "data": {
      "image/png": "[encoded data removed]",
      "text/latex": [
       "$$x_{1}^{2} + x_{2}^{2} - 1$$"
      ],
      "text/plain": [
       "  2     2    \n",
       "x₁  + x₂  - 1"
      ]
     },
     "metadata": {},
     "output_type": "display_data"
    },
    {
     "data": {
      "image/png": "[encoded data removed]",
      "text/latex": [
       "$$x_{1} - x_{2}^{2}$$"
      ],
      "text/plain": [
       "       2\n",
       "x₁ - x₂ "
      ]
     },
     "metadata": {},
     "output_type": "display_data"
    },
    {
     "data": {
      "image/png": "[encoded data removed]",
      "text/latex": [
       "$$2 x_{1}$$"
      ],
      "text/plain": [
       "2⋅x₁"
      ]
     },
     "metadata": {},
     "output_type": "display_data"
    },
    {
     "name": "stdout",
     "output_type": "stream",
     "text": [
      "interval([1.0, 1.6])\n"
     ]
    },
    {
     "data": {
      "image/png": "[encoded data removed]",
      "text/latex": [
       "$$2 x_{2}$$"
      ],
      "text/plain": [
       "2⋅x₂"
      ]
     },
     "metadata": {},
     "output_type": "display_data"
    },
    {
     "name": "stdout",
     "output_type": "stream",
     "text": [
      "interval([1.2, 1.8])\n"
     ]
    },
    {
     "data": {
      "image/png": "[encoded data removed]",
      "text/latex": [
       "$$1$$"
      ],
      "text/plain": [
       "1"
      ]
     },
     "metadata": {},
     "output_type": "display_data"
    },
    {
     "name": "stdout",
     "output_type": "stream",
     "text": [
      "1\n"
     ]
    },
    {
     "data": {
      "image/png": "[encoded data removed]",
      "text/latex": [
       "$$- 2 x_{2}$$"
      ],
      "text/plain": [
       "-2⋅x₂"
      ]
     },
     "metadata": {},
     "output_type": "display_data"
    },
    {
     "name": "stdout",
     "output_type": "stream",
     "text": [
      "interval([-1.8, -1.2])\n"
     ]
    },
    {
     "data": {
      "image/png": "[encoded data removed]",
      "text/latex": [
       "$$\\left [ \\left [ 2 x_{1}, \\quad 2 x_{2}\\right ], \\quad \\left [ 1, \\quad - 2 x_{2}\\right ]\\right ]$$"
      ],
      "text/plain": [
       "[[2⋅x₁, 2⋅x₂], [1, -2⋅x₂]]"
      ]
     },
     "metadata": {},
     "output_type": "display_data"
    },
    {
     "data": {
      "text/plain": [
       "[[<function __main__.<lambda>>, <function __main__.<lambda>>],\n",
       " [<function __main__.<lambda>>, <function __main__.<lambda>>]]"
      ]
     },
     "metadata": {},
     "output_type": "display_data"
    },
    {
     "name": "stdout",
     "output_type": "stream",
     "text": [
      "---なぜ同じ結果に？------なぜ同じ結果に？---\n",
      "interval([-1.8, -1.2])\n",
      "interval([-1.8, -1.2])\n",
      "interval([-1.8, -1.2])\n",
      "interval([-1.8, -1.2])\n",
      "------------------------------------------------------------\n",
      "別々に作るとうまくいく\n",
      "[[interval([1.0, 1.6]), interval([1.2, 1.8])], [1, interval([-1.8, -1.2])]]\n"
     ]
    }
   ],
   "source": [
    "x_1, x_2, x_3 = symbols(\"x_1 x_2 x_3\")\n",
    "f_1 = symbols(\"f_1\", cls=Function)\n",
    "f_2 = symbols(\"f_2\", cls=Function)\n",
    "f_1 = x_1**2 + x_2**2 - 1\n",
    "f_2 = x_1 - x_2**2\n",
    "f = [[lambda x_1,x_2: str(f_1)], [lambda x_1,x_2: str(f_2)]]\n",
    "\n",
    "display(f_1)\n",
    "display(f_2)\n",
    "\n",
    "class fmat(list):\n",
    "    def apply_args(self,*args):\n",
    "        ans = []\n",
    "        for f_row in self:\n",
    "            tmp = []\n",
    "            for f in f_row:\n",
    "                tmp.append(f(args[0], args[1]))\n",
    "            ans.append(tmp)\n",
    "        return ivmat(ans)\n",
    "            \n",
    "f_grad = fmat()\n",
    "f_grad_symbol = []\n",
    "for f in ['f_1', 'f_2']:\n",
    "    tmp = []\n",
    "    tmp_symbol = []\n",
    "    for x in ['x_1', 'x_2']:\n",
    "        grad_str = str(eval(f).diff(eval(x)))\n",
    "        display(eval(grad_str))\n",
    "        grad = lambda x_1, x_2: eval(grad_str)\n",
    "        print grad(interval[0.5,0.8], interval[0.6,0.9])\n",
    "        tmp.append(grad)\n",
    "        tmp_symbol.append(eval(grad_str))\n",
    "    f_grad.append(tmp)\n",
    "    f_grad_symbol.append(tmp_symbol)\n",
    "    \n",
    "display(f_grad_symbol)\n",
    "display(f_grad)\n",
    "\n",
    "print '---なぜ同じ結果に？---'*2  \n",
    "print f_grad[0][0](interval[0.5,0.8], interval[0.6,0.9])\n",
    "print f_grad[0][1](interval[0.5,0.8], interval[0.6,0.9])\n",
    "print f_grad[1][0](interval[0.5,0.8], interval[0.6,0.9])\n",
    "print f_grad[1][1](interval[0.5,0.8], interval[0.6,0.9])\n",
    "print '------'*10\n",
    "\n",
    "\"\"\"\n",
    "このようにそれぞれを作るとうまくいく\n",
    "\"\"\"\n",
    "\n",
    "print \"別々に作るとうまくいく\"\n",
    "f1x1_str = str(f_1.diff(x_1)) \n",
    "f1x1 = lambda x_1, x_2: eval(f1x1_str)\n",
    "f1x2_str = str(f_1.diff(x_2)) \n",
    "f1x2 = lambda x_1, x_2: eval(f1x2_str)\n",
    "f2x1_str = str(f_2.diff(x_1)) \n",
    "f2x1 = lambda x_1, x_2: eval(f2x1_str)\n",
    "f2x2_str = str(f_2.diff(x_2)) \n",
    "f2x2 = lambda x_1, x_2: eval(f2x2_str)\n",
    "\n",
    "\n",
    "f_grad = fmat([[f1x1, f1x2], [f2x1, f2x2]])\n",
    "\n",
    "\n",
    "print f_grad.apply_args(interval[0.5,0.8], interval[0.6,0.9])\n",
    "\n"
   ]
  },
  {
   "cell_type": "code",
   "execution_count": 5,
   "metadata": {
    "code_folding": [],
    "collapsed": false
   },
   "outputs": [
    {
     "name": "stdout",
     "output_type": "stream",
     "text": [
      "[[interval([0.65])], [interval([0.75])]]\n",
      "<class '__main__.ivmat'>\n"
     ]
    }
   ],
   "source": [
    "X = ivmat([[interval[0.5,0.8]], [interval[0.6,0.9]]])\n",
    "y = X.midpoint\n",
    "print y\n",
    "print type(y)\n",
    "Y = [[0.43,0.43], [0.29,-0.37]]\n",
    "\n",
    "\n"
   ]
  },
  {
   "cell_type": "code",
   "execution_count": 6,
   "metadata": {
    "collapsed": false
   },
   "outputs": [
    {
     "name": "stdout",
     "output_type": "stream",
     "text": [
      "[(2.0, 3.0)]\n",
      "[interval([2.0, 3.0])]\n",
      "[interval([2.0, 3.0])]\n"
     ]
    }
   ],
   "source": [
    "print list(interval[2,3])\n",
    "print list([interval[2,3]])\n",
    "print [interval[2,3]]"
   ]
  },
  {
   "cell_type": "code",
   "execution_count": null,
   "metadata": {
    "collapsed": true
   },
   "outputs": [],
   "source": []
  }
 ],
 "metadata": {
  "kernelspec": {
   "display_name": "Python 2",
   "language": "python",
   "name": "python2"
  },
  "language_info": {
   "codemirror_mode": {
    "name": "ipython",
    "version": 2
   },
   "file_extension": ".py",
   "mimetype": "text/x-python",
   "name": "python",
   "nbconvert_exporter": "python",
   "pygments_lexer": "ipython2",
   "version": "2.7.11"
  }
 },
 "nbformat": 4,
 "nbformat_minor": 0
}
