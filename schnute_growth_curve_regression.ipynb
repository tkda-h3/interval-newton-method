{
 "cells": [
  {
   "cell_type": "code",
   "execution_count": 1,
   "metadata": {
    "collapsed": true
   },
   "outputs": [],
   "source": [
    "%matplotlib inline \n",
    "from interval import interval\n",
    "import matplotlib.pyplot as plt\n",
    "from sympy import(\n",
    "    init_printing,\n",
    "    var,\n",
    "    exp,\n",
    "    cos,\n",
    "    sin,\n",
    "    log,\n",
    "    expand_log\n",
    ")\n",
    "from sympy.utilities.lambdify import lambdify \n",
    "from sympy.plotting import plot\n",
    "init_printing()\n",
    "import numpy as np\n",
    "\n",
    "from ivmat import ivmat as ip\n",
    "from fmat import fmat\n",
    "from krawczyk import Krawczyk\n",
    "from symbol_derivative import(\n",
    "    get_f_df_ddf_from_symbol_representation,\n",
    "    get_global_minima_from_f_expr,\n",
    "    calc_f_expr_meshgrid,\n",
    "    plot3D,\n",
    "    visualize_optimization_log,\n",
    ")\n",
    "from nelder_mead import NelderMead"
   ]
  },
  {
   "cell_type": "code",
   "execution_count": 2,
   "metadata": {},
   "outputs": [
    {
     "data": {
      "image/png": "[encoded data removed]",
      "text/latex": [
       "$$\\left(\\beta e^{k t} + \\gamma\\right)^{m}$$"
      ],
      "text/plain": [
       "            m\n",
       "⎛   k⋅t    ⎞ \n",
       "⎝β⋅ℯ    + γ⎠ "
      ]
     },
     "metadata": {},
     "output_type": "display_data"
    },
    {
     "data": {
      "image/png": "[encoded data removed]",
      "text/latex": [
       "$$\\left(0.1 e^{0.5 t} + 10\\right)^{0.5}$$"
      ],
      "text/plain": [
       "                 0.5\n",
       "⎛     0.5⋅t     ⎞   \n",
       "⎝0.1⋅ℯ      + 10⎠   "
      ]
     },
     "metadata": {},
     "output_type": "display_data"
    }
   ],
   "source": [
    "gamma, beta, k, m = args = var(\"gamma, beta, k, m\")\n",
    "t = var(\"t\")\n",
    "\n",
    "curve_expr = ((gamma + beta * exp(k * t)) ** m) \n",
    "display(curve_expr)\n",
    "true_curve_expr = curve_expr.subs([(gamma, 10), (beta, 0.1), (k, 0.5), (m, 0.5)])\n",
    "display(true_curve_expr)\n"
   ]
  },
  {
   "cell_type": "code",
   "execution_count": 3,
   "metadata": {},
   "outputs": [
    {
     "data": {
      "image/png": "[encoded data removed]",
      "text/plain": [
       "<matplotlib.figure.Figure at 0x1098f1a50>"
      ]
     },
     "metadata": {},
     "output_type": "display_data"
    },
    {
     "name": "stdout",
     "output_type": "stream",
     "text": [
      "[(0, 3.1780497164141406), (5, 3.3493655214189966), (10, 4.9841063301516417), (15, 13.813190849532425)]\n"
     ]
    }
   ],
   "source": [
    "plot(true_curve_expr, (t, 0, 30))\n",
    "true_curve = lambdify(t, true_curve_expr)\n",
    "sample_data = [(time, true_curve(time)) for time in np.arange(0, 20, 5)]\n",
    "print(sample_data)"
   ]
  },
  {
   "cell_type": "code",
   "execution_count": 4,
   "metadata": {},
   "outputs": [
    {
     "data": {
      "image/png": "[encoded data removed]",
      "text/latex": [
       "$$\\left(- m \\log{\\left (\\beta + \\gamma \\right )} + 1.15626771192361\\right)^{2} + \\left(- m \\log{\\left (\\beta e^{5 k} + \\gamma \\right )} + 1.20877093130783\\right)^{2} + \\left(- m \\log{\\left (\\beta e^{10 k} + \\gamma \\right )} + 1.60625411555767\\right)^{2} + \\left(- m \\log{\\left (\\beta e^{15 k} + \\gamma \\right )} + 2.62562399428294\\right)^{2}$$"
      ],
      "text/plain": [
       "                                                                              \n",
       "                                  2   ⎛       ⎛   5⋅k    ⎞                   ⎞\n",
       "(-m⋅log(β + γ) + 1.15626771192361)  + ⎝- m⋅log⎝β⋅ℯ    + γ⎠ + 1.20877093130783⎠\n",
       "\n",
       "2                                            2                                \n",
       "    ⎛       ⎛   10⋅k    ⎞                   ⎞    ⎛       ⎛   15⋅k    ⎞        \n",
       "  + ⎝- m⋅log⎝β⋅ℯ     + γ⎠ + 1.60625411555767⎠  + ⎝- m⋅log⎝β⋅ℯ     + γ⎠ + 2.625\n",
       "\n",
       "            2\n",
       "           ⎞ \n",
       "62399428294⎠ "
      ]
     },
     "metadata": {},
     "output_type": "display_data"
    }
   ],
   "source": [
    "loss_expr = 0\n",
    "for time, value in sample_data:\n",
    "    pred_value = curve_expr.subs(t, time)\n",
    "    value = log(value)\n",
    "    pred_value = expand_log(log(pred_value), force=True)\n",
    "    loss_expr += (value - pred_value) ** 2\n",
    "f_expr = loss_expr\n",
    "display(f_expr)\n",
    "\n",
    "seed_num = 431\n",
    "np.random.seed(seed_num)\n",
    "low = 0.01\n",
    "high = 2.5\n",
    "points = np.random.uniform(low=low, high=high, size=(len(args)+1, len(args)))\n",
    "np_func = lambdify([args], f_expr, modules=np) "
   ]
  },
  {
   "cell_type": "code",
   "execution_count": 7,
   "metadata": {},
   "outputs": [
    {
     "name": "stdout",
     "output_type": "stream",
     "text": [
      "4.47388960416e-11\n"
     ]
    }
   ],
   "source": [
    "points_histories = []\n",
    "local_minima = np.inf\n",
    "for i in range(30):\n",
    "    points = np.random.uniform(low=low, high=high, size=(len(args)+1, len(args)))\n",
    "    nelder = NelderMead(np_func, points)\n",
    "    _local_minima, points_history = nelder.run(500)\n",
    "    points_histories.append(points_history)\n",
    "    local_minima = min(local_minima, _local_minima)\n",
    "points_histories = np.array(points_histories)\n",
    "print local_minima"
   ]
  },
  {
   "cell_type": "code",
   "execution_count": 8,
   "metadata": {
    "collapsed": true
   },
   "outputs": [],
   "source": [
    "f, df, ddf = get_f_df_ddf_from_symbol_representation(f_expr, args)"
   ]
  },
  {
   "cell_type": "code",
   "execution_count": 9,
   "metadata": {},
   "outputs": [
    {
     "data": {
      "image/png": "[encoded data removed]",
      "text/latex": [
       "$$\\left [ \\left [ \\left ( \\left ( 0.0, \\quad 9.98248411986e-06\\right )\\right )\\right ]\\right ]$$"
      ],
      "text/plain": [
       "[[((0.0, 9.98248411986e-06),)]]"
      ]
     },
     "execution_count": 9,
     "metadata": {},
     "output_type": "execute_result"
    }
   ],
   "source": [
    "\n",
    "X = ip([\n",
    "    [interval[9.996, 10.001]],\n",
    "    [interval[0.0996, 0.10003]],    \n",
    "    [interval[0.4999, 0.500003]], \n",
    "    [interval[0.49999, 0.5000002]]\n",
    "])\n",
    "\n",
    "f(X)"
   ]
  },
  {
   "cell_type": "code",
   "execution_count": null,
   "metadata": {
    "collapsed": true
   },
   "outputs": [],
   "source": []
  },
  {
   "cell_type": "code",
   "execution_count": 10,
   "metadata": {
    "collapsed": true
   },
   "outputs": [],
   "source": [
    "kra = Krawczyk(df, ddf, X)"
   ]
  },
  {
   "cell_type": "code",
   "execution_count": 12,
   "metadata": {
    "scrolled": false
   },
   "outputs": [
    {
     "name": "stdout",
     "output_type": "stream",
     "text": [
      "Loop end. cnt:4034, len(S):0, len(T):11, len(U):0\n",
      "\n",
      "4034\n",
      "---------- 最終的なS[:10] -----------\n",
      "[]\n",
      "---------- 最終的なU[:10] -----------\n",
      "[]\n",
      "---------- 最終的なT[:50] -----------\n",
      "[[[interval([9.999999999927955, 10.000000000076447])],\n",
      "  [interval([0.09999999999981367, 0.10000000000020066])],\n",
      "  [interval([0.4999999999990299, 0.5000000000010264])],\n",
      "  [interval([0.4999999999983914, 0.5000000000015169])]],\n",
      " [[interval([9.99999999993216, 10.000000000072308])],\n",
      "  [interval([0.09999999999982452, 0.10000000000018983])],\n",
      "  [interval([0.49999999999908634, 0.500000000000971])],\n",
      "  [interval([0.49999999999847855, 0.5000000000014284])]],\n",
      " [[interval([9.999999999932236, 10.00000000007238])],\n",
      "  [interval([0.09999999999982494, 0.10000000000019003])],\n",
      "  [interval([0.4999999999990875, 0.5000000000009717])],\n",
      "  [interval([0.499999999998477, 0.5000000000014267])]],\n",
      " [[interval([9.999999999937867, 10.000000000066755])],\n",
      "  [interval([0.09999999999983995, 0.10000000000017559])],\n",
      "  [interval([0.49999999999916295, 0.5000000000008958])],\n",
      "  [interval([0.4999999999985954, 0.5000000000013082])]],\n",
      " [[interval([9.999999999932204, 10.00000000007235])],\n",
      "  [interval([0.09999999999982515, 0.10000000000019026])],\n",
      "  [interval([0.49999999999908695, 0.500000000000971])],\n",
      "  [interval([0.4999999999984776, 0.5000000000014274])]],\n",
      " [[interval([9.999999999932186, 10.000000000072335])],\n",
      "  [interval([0.0999999999998247, 0.10000000000019003])],\n",
      "  [interval([0.4999999999990866, 0.5000000000009712])],\n",
      "  [interval([0.49999999999847794, 0.5000000000014279])]],\n",
      " [[interval([9.999999999937819, 10.000000000066711])],\n",
      "  [interval([0.09999999999983966, 0.10000000000017552])],\n",
      "  [interval([0.499999999999162, 0.5000000000008956])],\n",
      "  [interval([0.49999999999859635, 0.5000000000013093])]],\n",
      " [[interval([9.99999999992995, 10.00000000007462])],\n",
      "  [interval([0.09999999999976787, 0.1000000000002475])],\n",
      "  [interval([0.4999999999989458, 0.5000000000011124])],\n",
      "  [interval([0.49999999999840133, 0.5000000000015034])]],\n",
      " [[interval([9.999999999929955, 10.000000000074634])],\n",
      "  [interval([0.09999999999976775, 0.10000000000024738])],\n",
      "  [interval([0.499999999998946, 0.5000000000011127])],\n",
      "  [interval([0.49999999999840117, 0.5000000000015032])]],\n",
      " [[interval([9.99999999993274, 10.000000000071466])],\n",
      "  [interval([0.09999999999979399, 0.10000000000021975])],\n",
      "  [interval([0.4999999999990227, 0.5000000000010311])],\n",
      "  [interval([0.49999999999847267, 0.5000000000014396])]],\n",
      " [[interval([9.999999999927947, 10.000000000076435])],\n",
      "  [interval([0.09999999999981371, 0.1000000000002006])],\n",
      "  [interval([0.49999999999902983, 0.5000000000010262])],\n",
      "  [interval([0.4999999999983916, 0.5000000000015171])]]]\n",
      "最小値の上限値: 3.61511506783e-22\n",
      "597.680159807[sec]\n"
     ]
    }
   ],
   "source": [
    "import time\n",
    "st = time.time()\n",
    "ans_boxes, S_num_list, T_num_list, U_num_list, animation_box = kra.find_global_minimum(\n",
    "    f, tmp_min_sup=local_minima ,trace=True, cnt_max=200000)\n",
    "print(\"{}[sec]\".format(time.time() - st))"
   ]
  },
  {
   "cell_type": "code",
   "execution_count": null,
   "metadata": {
    "collapsed": true
   },
   "outputs": [],
   "source": [
    "if len(args) == 2: \n",
    "    visualize_optimization_log(kra, f, animation_box, skip=200)"
   ]
  },
  {
   "cell_type": "code",
   "execution_count": null,
   "metadata": {
    "collapsed": true
   },
   "outputs": [],
   "source": []
  }
 ],
 "metadata": {
  "kernelspec": {
   "display_name": "Python 2",
   "language": "python",
   "name": "python2"
  },
  "language_info": {
   "codemirror_mode": {
    "name": "ipython",
    "version": 2
   },
   "file_extension": ".py",
   "mimetype": "text/x-python",
   "name": "python",
   "nbconvert_exporter": "python",
   "pygments_lexer": "ipython2",
   "version": "2.7.13"
  }
 },
 "nbformat": 4,
 "nbformat_minor": 2
}
