{
 "cells": [
  {
   "cell_type": "code",
   "execution_count": 1,
   "metadata": {
    "collapsed": true
   },
   "outputs": [],
   "source": [
    "%matplotlib inline \n",
    "from interval import interval\n",
    "import matplotlib.pyplot as plt\n",
    "from sympy import(\n",
    "    init_printing,\n",
    "    var,\n",
    "    exp,\n",
    "    cos,\n",
    "    sin,\n",
    "    log,\n",
    "    expand_log\n",
    ")\n",
    "from sympy.utilities.lambdify import lambdify \n",
    "from sympy.plotting import plot\n",
    "init_printing()\n",
    "import numpy as np\n",
    "\n",
    "from ivmat import ivmat as ip\n",
    "from fmat import fmat\n",
    "from krawczyk import Krawczyk\n",
    "from symbol_derivative import(\n",
    "    get_f_df_ddf_from_symbol_representation,\n",
    "    get_global_minima_from_f_expr,\n",
    "    calc_f_expr_meshgrid,\n",
    "    plot3D,\n",
    "    visualize_optimization_log,\n",
    ")\n",
    "from nelder_mead import NelderMead"
   ]
  },
  {
   "cell_type": "code",
   "execution_count": 2,
   "metadata": {},
   "outputs": [
    {
     "data": {
      "image/png": "[encoded data removed]",
      "text/latex": [
       "$$\\left(\\beta e^{k t} + \\gamma\\right)^{m}$$"
      ],
      "text/plain": [
       "            m\n",
       "⎛   k⋅t    ⎞ \n",
       "⎝β⋅ℯ    + γ⎠ "
      ]
     },
     "metadata": {},
     "output_type": "display_data"
    },
    {
     "data": {
      "image/png": "[encoded data removed]",
      "text/latex": [
       "$$\\left(0.1 e^{0.5 t} + 10\\right)^{0.5}$$"
      ],
      "text/plain": [
       "                 0.5\n",
       "⎛     0.5⋅t     ⎞   \n",
       "⎝0.1⋅ℯ      + 10⎠   "
      ]
     },
     "metadata": {},
     "output_type": "display_data"
    }
   ],
   "source": [
    "gamma, beta, k, m = args = var(\"gamma, beta, k, m\")\n",
    "t = var(\"t\")\n",
    "\n",
    "curve_expr = ((gamma + beta * exp(k * t)) ** m) \n",
    "display(curve_expr)\n",
    "true_curve_expr = curve_expr.subs([(gamma, 10), (beta, 0.1), (k, 0.5), (m, 0.5)])\n",
    "display(true_curve_expr)\n"
   ]
  },
  {
   "cell_type": "code",
   "execution_count": 3,
   "metadata": {},
   "outputs": [
    {
     "data": {
      "image/png": "[encoded data removed]",
      "text/plain": [
       "<matplotlib.figure.Figure at 0x10fba0850>"
      ]
     },
     "metadata": {},
     "output_type": "display_data"
    },
    {
     "name": "stdout",
     "output_type": "stream",
     "text": [
      "[(0, 3.1780497164141406), (5, 3.3493655214189966), (10, 4.9841063301516417), (15, 13.813190849532425)]\n"
     ]
    }
   ],
   "source": [
    "plot(true_curve_expr, (t, 0, 30))\n",
    "true_curve = lambdify(t, true_curve_expr)\n",
    "sample_data = [(time, true_curve(time)) for time in np.arange(0, 20, 5)]\n",
    "print(sample_data)"
   ]
  },
  {
   "cell_type": "code",
   "execution_count": 4,
   "metadata": {},
   "outputs": [
    {
     "data": {
      "image/png": "[encoded data removed]",
      "text/latex": [
       "$$\\left(- m \\log{\\left (\\beta + \\gamma \\right )} + 1.15626771192361\\right)^{2} + \\left(- m \\log{\\left (\\beta e^{5 k} + \\gamma \\right )} + 1.20877093130783\\right)^{2} + \\left(- m \\log{\\left (\\beta e^{10 k} + \\gamma \\right )} + 1.60625411555767\\right)^{2} + \\left(- m \\log{\\left (\\beta e^{15 k} + \\gamma \\right )} + 2.62562399428294\\right)^{2}$$"
      ],
      "text/plain": [
       "                                                                              \n",
       "                                  2   ⎛       ⎛   5⋅k    ⎞                   ⎞\n",
       "(-m⋅log(β + γ) + 1.15626771192361)  + ⎝- m⋅log⎝β⋅ℯ    + γ⎠ + 1.20877093130783⎠\n",
       "\n",
       "2                                            2                                \n",
       "    ⎛       ⎛   10⋅k    ⎞                   ⎞    ⎛       ⎛   15⋅k    ⎞        \n",
       "  + ⎝- m⋅log⎝β⋅ℯ     + γ⎠ + 1.60625411555767⎠  + ⎝- m⋅log⎝β⋅ℯ     + γ⎠ + 2.625\n",
       "\n",
       "            2\n",
       "           ⎞ \n",
       "62399428294⎠ "
      ]
     },
     "metadata": {},
     "output_type": "display_data"
    }
   ],
   "source": [
    "loss_expr = 0\n",
    "for time, value in sample_data:\n",
    "    pred_value = curve_expr.subs(t, time)\n",
    "    value = log(value)\n",
    "    pred_value = expand_log(log(pred_value), force=True)\n",
    "    loss_expr += (value - pred_value) ** 2\n",
    "f_expr = loss_expr\n",
    "display(f_expr)\n",
    "\n",
    "seed_num = 431\n",
    "np.random.seed(seed_num)\n",
    "low = 0.01\n",
    "high = 2.5\n",
    "points = np.random.uniform(low=low, high=high, size=(len(args)+1, len(args)))\n",
    "np_func = lambdify([args], f_expr, modules=np) "
   ]
  },
  {
   "cell_type": "code",
   "execution_count": 5,
   "metadata": {},
   "outputs": [
    {
     "name": "stdout",
     "output_type": "stream",
     "text": [
      "0.23286330102\n"
     ]
    },
    {
     "name": "stderr",
     "output_type": "stream",
     "text": [
      "/Users/takada/.pyenv/versions/2.7.13/envs/krawczyk-dev/lib/python2.7/site-packages/numpy/__init__.py:1: RuntimeWarning: invalid value encountered in log\n",
      "  \"\"\"\n"
     ]
    }
   ],
   "source": [
    "nelder = NelderMead(np_func, points)\n",
    "local_minima, _ = nelder.run()\n",
    "print local_minima"
   ]
  },
  {
   "cell_type": "code",
   "execution_count": 6,
   "metadata": {
    "collapsed": true
   },
   "outputs": [],
   "source": [
    "f, df, ddf = get_f_df_ddf_from_symbol_representation(f_expr, args)"
   ]
  },
  {
   "cell_type": "code",
   "execution_count": 7,
   "metadata": {},
   "outputs": [
    {
     "data": {
      "image/png": "[encoded data removed]",
      "text/latex": [
       "$$\\left [ \\left [ \\left ( \\left ( 0.0, \\quad 9.98248411986e-06\\right )\\right )\\right ]\\right ]$$"
      ],
      "text/plain": [
       "[[((0.0, 9.98248411986e-06),)]]"
      ]
     },
     "execution_count": 7,
     "metadata": {},
     "output_type": "execute_result"
    }
   ],
   "source": [
    "X = ip([\n",
    "    [interval[0.996, 1.0321]],\n",
    "    [interval[0.124, 0.1384]], \n",
    "    [interval[0.11691, 0.207]]\n",
    "])\n",
    "\n",
    "# X = ip([\n",
    "#     [interval[0.5, 1.6]],\n",
    "#     [interval[0.5, 3.0]], \n",
    "#     [interval[0.6, 3.33]]\n",
    "# ])\n",
    "X = ip([\n",
    "    [interval[9.996, 10.001]],\n",
    "    [interval[0.0996, 0.10003]],    \n",
    "    [interval[0.4999, 0.500003]], \n",
    "    [interval[0.49999, 0.5000002]]\n",
    "])\n",
    "\n",
    "f(X)"
   ]
  },
  {
   "cell_type": "code",
   "execution_count": 8,
   "metadata": {
    "collapsed": true
   },
   "outputs": [],
   "source": [
    "kra = Krawczyk(df, ddf, X)"
   ]
  },
  {
   "cell_type": "code",
   "execution_count": 9,
   "metadata": {
    "scrolled": false
   },
   "outputs": [
    {
     "name": "stdout",
     "output_type": "stream",
     "text": [
      "Loop end. cnt:5001, len(S):359, len(T):0, len(U):0\n",
      "\n",
      "5001\n",
      "---------- 最終的なS[:10] -----------\n",
      "[[[interval([10.000116210937499, 10.00011865234375])],\n",
      "  [interval([0.09999936023482772, 0.100000683327042])],\n",
      "  [interval([0.500001390625, 0.500003])],\n",
      "  [interval([0.4999951, 0.49999765])]],\n",
      " [[interval([10.00011865234375, 10.00012109375])],\n",
      "  [interval([0.09999936014105565, 0.10000067953300909])],\n",
      "  [interval([0.49999978125, 0.500001390625])],\n",
      "  [interval([0.4999951, 0.49999765])]],\n",
      " [[interval([10.00011865234375, 10.00012109375])],\n",
      "  [interval([0.09999936014105565, 0.10000067953300909])],\n",
      "  [interval([0.500001390625, 0.500003])],\n",
      "  [interval([0.4999951, 0.49999765])]],\n",
      " [[interval([10.000116210937499, 10.00011865234375])],\n",
      "  [interval([0.09999920916230236, 0.10000076901072051])],\n",
      "  [interval([0.49999978125, 0.500001390625])],\n",
      "  [interval([0.49999765, 0.5000002])]],\n",
      " [[interval([10.000116210937499, 10.00011865234375])],\n",
      "  [interval([0.09999920916230236, 0.10000076901072051])],\n",
      "  [interval([0.500001390625, 0.500003])],\n",
      "  [interval([0.49999765, 0.5000002])]],\n",
      " [[interval([10.00011865234375, 10.00012109375])],\n",
      "  [interval([0.09999920759670458, 0.10000077075024424])],\n",
      "  [interval([0.49999978125, 0.500001390625])],\n",
      "  [interval([0.49999765, 0.5000002])]],\n",
      " [[interval([10.00011865234375, 10.00012109375])],\n",
      "  [interval([0.09999920759670458, 0.10000077075024424])],\n",
      "  [interval([0.500001390625, 0.500003])],\n",
      "  [interval([0.49999765, 0.5000002])]],\n",
      " [[interval([10.00012109375, 10.000123535156249])],\n",
      "  [interval([0.09999935982217825, 0.10000063014899892])],\n",
      "  [interval([0.49999666652530567, 0.4999982238876528])],\n",
      "  [interval([0.49999765, 0.5000002])]],\n",
      " [[interval([10.00012109375, 10.000123535156249])],\n",
      "  [interval([0.09999935982217825, 0.10000063014899892])],\n",
      "  [interval([0.4999982238876528, 0.49999978125])],\n",
      "  [interval([0.49999765, 0.5000002])]],\n",
      " [[interval([10.000123535156249, 10.000125976562499])],\n",
      "  [interval([0.0999993592377726, 0.10000063038329172])],\n",
      "  [interval([0.4999966667559456, 0.4999982240029728])],\n",
      "  [interval([0.49999765, 0.5000002])]]]\n",
      "---------- 最終的なU[:10] -----------\n",
      "[]\n",
      "---------- 最終的なT[:50] -----------\n",
      "[]\n",
      "647.806765079[sec]\n"
     ]
    }
   ],
   "source": [
    "import time\n",
    "st = time.time()\n",
    "ans_boxes, S_num_list, T_num_list, U_num_list, animation_box = kra.find_global_minimum(\n",
    "    f, tmp_min_sup=local_minima ,trace=True, cnt_max=5000)\n",
    "print(\"{}[sec]\".format(time.time() - st))"
   ]
  },
  {
   "cell_type": "code",
   "execution_count": 18,
   "metadata": {
    "collapsed": true
   },
   "outputs": [],
   "source": [
    "if len(args) == 2: \n",
    "    visualize_optimization_log(kra, f, animation_box, skip=200)"
   ]
  },
  {
   "cell_type": "code",
   "execution_count": null,
   "metadata": {
    "collapsed": true
   },
   "outputs": [],
   "source": []
  }
 ],
 "metadata": {
  "kernelspec": {
   "display_name": "Python 2",
   "language": "python",
   "name": "python2"
  },
  "language_info": {
   "codemirror_mode": {
    "name": "ipython",
    "version": 2
   },
   "file_extension": ".py",
   "mimetype": "text/x-python",
   "name": "python",
   "nbconvert_exporter": "python",
   "pygments_lexer": "ipython2",
   "version": "2.7.13"
  }
 },
 "nbformat": 4,
 "nbformat_minor": 2
}
