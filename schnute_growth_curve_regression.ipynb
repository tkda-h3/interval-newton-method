{
 "cells": [
  {
   "cell_type": "code",
   "execution_count": 1,
   "metadata": {
    "collapsed": true
   },
   "outputs": [],
   "source": [
    "%matplotlib inline \n",
    "from interval import interval\n",
    "import matplotlib.pyplot as plt\n",
    "from sympy import(\n",
    "    init_printing,\n",
    "    var,\n",
    "    exp,\n",
    "    cos,\n",
    "    sin,\n",
    "    log,\n",
    "    expand_log\n",
    ")\n",
    "from sympy.utilities.lambdify import lambdify \n",
    "from sympy.plotting import plot\n",
    "init_printing()\n",
    "import numpy as np\n",
    "\n",
    "from ivmat import ivmat as ip\n",
    "from fmat import fmat\n",
    "from krawczyk import Krawczyk\n",
    "from symbol_derivative import(\n",
    "    get_f_df_ddf_from_symbol_representation,\n",
    "    get_global_minima_from_f_expr,\n",
    "    calc_f_expr_meshgrid,\n",
    "    plot3D,\n",
    "    visualize_optimization_log,\n",
    ")\n",
    "from nelder_mead import NelderMead"
   ]
  },
  {
   "cell_type": "code",
   "execution_count": 2,
   "metadata": {},
   "outputs": [
    {
     "data": {
      "image/png": "[encoded data removed]",
      "text/latex": [
       "$$\\left(\\beta e^{k t} + \\gamma\\right)^{m}$$"
      ],
      "text/plain": [
       "            m\n",
       "⎛   k⋅t    ⎞ \n",
       "⎝β⋅ℯ    + γ⎠ "
      ]
     },
     "metadata": {},
     "output_type": "display_data"
    },
    {
     "data": {
      "image/png": "[encoded data removed]",
      "text/latex": [
       "$$\\left(0.1 e^{0.5 t} + 10\\right)^{0.5}$$"
      ],
      "text/plain": [
       "                 0.5\n",
       "⎛     0.5⋅t     ⎞   \n",
       "⎝0.1⋅ℯ      + 10⎠   "
      ]
     },
     "metadata": {},
     "output_type": "display_data"
    }
   ],
   "source": [
    "gamma, beta, k, m = args = var(\"gamma, beta, k, m\")\n",
    "t = var(\"t\")\n",
    "\n",
    "curve_expr = ((gamma + beta * exp(k * t)) ** m) \n",
    "display(curve_expr)\n",
    "true_curve_expr = curve_expr.subs([(gamma, 10), (beta, 0.1), (k, 0.5), (m, 0.5)])\n",
    "display(true_curve_expr)\n"
   ]
  },
  {
   "cell_type": "code",
   "execution_count": 3,
   "metadata": {},
   "outputs": [
    {
     "data": {
      "image/png": "[encoded data removed]",
      "text/plain": [
       "<matplotlib.figure.Figure at 0x10dd10650>"
      ]
     },
     "metadata": {},
     "output_type": "display_data"
    },
    {
     "name": "stdout",
     "output_type": "stream",
     "text": [
      "[(0, 3.1780497164141406), (5, 3.3493655214189966), (10, 4.9841063301516417), (15, 13.813190849532425)]\n"
     ]
    }
   ],
   "source": [
    "plot(true_curve_expr, (t, 0, 30))\n",
    "true_curve = lambdify(t, true_curve_expr)\n",
    "sample_data = [(time, true_curve(time)) for time in np.arange(0, 20, 5)]\n",
    "print(sample_data)"
   ]
  },
  {
   "cell_type": "code",
   "execution_count": 4,
   "metadata": {},
   "outputs": [
    {
     "data": {
      "image/png": "[encoded data removed]",
      "text/latex": [
       "$$\\left(- m \\log{\\left (\\beta + \\gamma \\right )} + 1.15626771192361\\right)^{2} + \\left(- m \\log{\\left (\\beta e^{5 k} + \\gamma \\right )} + 1.20877093130783\\right)^{2} + \\left(- m \\log{\\left (\\beta e^{10 k} + \\gamma \\right )} + 1.60625411555767\\right)^{2} + \\left(- m \\log{\\left (\\beta e^{15 k} + \\gamma \\right )} + 2.62562399428294\\right)^{2}$$"
      ],
      "text/plain": [
       "                                                                              \n",
       "                                  2   ⎛       ⎛   5⋅k    ⎞                   ⎞\n",
       "(-m⋅log(β + γ) + 1.15626771192361)  + ⎝- m⋅log⎝β⋅ℯ    + γ⎠ + 1.20877093130783⎠\n",
       "\n",
       "2                                            2                                \n",
       "    ⎛       ⎛   10⋅k    ⎞                   ⎞    ⎛       ⎛   15⋅k    ⎞        \n",
       "  + ⎝- m⋅log⎝β⋅ℯ     + γ⎠ + 1.60625411555767⎠  + ⎝- m⋅log⎝β⋅ℯ     + γ⎠ + 2.625\n",
       "\n",
       "            2\n",
       "           ⎞ \n",
       "62399428294⎠ "
      ]
     },
     "metadata": {},
     "output_type": "display_data"
    }
   ],
   "source": [
    "loss_expr = 0\n",
    "for time, value in sample_data:\n",
    "    pred_value = curve_expr.subs(t, time)\n",
    "    value = log(value)\n",
    "    pred_value = expand_log(log(pred_value), force=True)\n",
    "    loss_expr += (value - pred_value) ** 2\n",
    "f_expr = loss_expr\n",
    "display(f_expr)\n",
    "\n",
    "seed_num = 431\n",
    "np.random.seed(seed_num)\n",
    "low = 0.01\n",
    "high = 2.5\n",
    "points = np.random.uniform(low=low, high=high, size=(len(args)+1, len(args)))\n",
    "np_func = lambdify([args], f_expr, modules=np) "
   ]
  },
  {
   "cell_type": "code",
   "execution_count": 5,
   "metadata": {},
   "outputs": [
    {
     "name": "stderr",
     "output_type": "stream",
     "text": [
      "/Users/takada/.pyenv/versions/2.7.13/envs/krawczyk-dev/lib/python2.7/site-packages/numpy/__init__.py:1: RuntimeWarning: invalid value encountered in log\n",
      "  \"\"\"\n"
     ]
    },
    {
     "name": "stdout",
     "output_type": "stream",
     "text": [
      "1.56044430455e-13\n",
      "[ 10.00008717   0.10000003   0.5000013    0.49999814]\n"
     ]
    }
   ],
   "source": [
    "nelder = NelderMead(np_func, points)\n",
    "for i in range(1, 1000+1):\n",
    "    nelder.update_points()\n",
    "local_minima = nelder.func(nelder.points[0])\n",
    "print local_minima\n",
    "print nelder.points[0]"
   ]
  },
  {
   "cell_type": "code",
   "execution_count": 6,
   "metadata": {
    "collapsed": true
   },
   "outputs": [],
   "source": [
    "f, df, ddf = get_f_df_ddf_from_symbol_representation(f_expr, args)"
   ]
  },
  {
   "cell_type": "code",
   "execution_count": 15,
   "metadata": {},
   "outputs": [
    {
     "data": {
      "image/png": "[encoded data removed]",
      "text/latex": [
       "$$\\left [ \\left [ \\left ( \\left ( 0.0, \\quad 9.98248411986e-06\\right )\\right )\\right ]\\right ]$$"
      ],
      "text/plain": [
       "[[((0.0, 9.98248411986e-06),)]]"
      ]
     },
     "execution_count": 15,
     "metadata": {},
     "output_type": "execute_result"
    }
   ],
   "source": [
    "X = ip([\n",
    "    [interval[0.996, 1.0321]],\n",
    "    [interval[0.124, 0.1384]], \n",
    "    [interval[0.11691, 0.207]]\n",
    "])\n",
    "\n",
    "# X = ip([\n",
    "#     [interval[0.5, 1.6]],\n",
    "#     [interval[0.5, 3.0]], \n",
    "#     [interval[0.6, 3.33]]\n",
    "# ])\n",
    "X = ip([\n",
    "    [interval[9.996, 10.001]],\n",
    "    [interval[0.0996, 0.10003]],    \n",
    "    [interval[0.4999, 0.500003]], \n",
    "    [interval[0.49999, 0.5000002]]\n",
    "])\n",
    "\n",
    "f(X)"
   ]
  },
  {
   "cell_type": "code",
   "execution_count": 16,
   "metadata": {
    "collapsed": true
   },
   "outputs": [],
   "source": [
    "kra = Krawczyk(df, ddf, X)"
   ]
  },
  {
   "cell_type": "code",
   "execution_count": 17,
   "metadata": {
    "scrolled": false
   },
   "outputs": [
    {
     "name": "stdout",
     "output_type": "stream",
     "text": [
      "Loop end. cnt:2578, len(S):0, len(T):11, len(U):0\n",
      "\n",
      "2578\n",
      "---------- 最終的なS[:10] -----------\n",
      "[]\n",
      "---------- 最終的なU[:10] -----------\n",
      "[]\n",
      "---------- 最終的なT -----------\n",
      "[[[interval([9.999999999913591, 10.00000000009081])],\n",
      "  [interval([0.0999999999997338, 0.10000000000028118])],\n",
      "  [interval([0.49999999999874334, 0.5000000000013124])],\n",
      "  [interval([0.49999999999806527, 0.500000000001843])]],\n",
      " [[interval([9.999999999912353, 10.000000000092212])],\n",
      "  [interval([0.09999999999973255, 0.10000000000028272])],\n",
      "  [interval([0.4999999999987337, 0.5000000000013245])],\n",
      "  [interval([0.4999999999980375, 0.5000000000018672])]],\n",
      " [[interval([9.999999999930449, 10.000000000073959])],\n",
      "  [interval([0.09999999999977675, 0.10000000000023754])],\n",
      "  [interval([0.49999999999897193, 0.5000000000010845])],\n",
      "  [interval([0.4999999999984204, 0.5000000000014878])]],\n",
      " [[interval([9.999999999931939, 10.000000000072646])],\n",
      "  [interval([0.09999999999978008, 0.10000000000023496])],\n",
      "  [interval([0.49999999999899003, 0.5000000000010686])],\n",
      "  [interval([0.4999999999984475, 0.5000000000014568])]],\n",
      " [[interval([9.999999999907672, 10.000000000096536])],\n",
      "  [interval([0.0999999999997153, 0.10000000000029852])],\n",
      "  [interval([0.49999999999866085, 0.5000000000013929])],\n",
      "  [interval([0.49999999999794387, 0.5000000000019684])]],\n",
      " [[interval([9.99999999991173, 10.00000000009265])],\n",
      "  [interval([0.09999999999972327, 0.10000000000029138])],\n",
      "  [interval([0.49999999999870937, 0.5000000000013464])],\n",
      "  [interval([0.499999999998024, 0.5000000000018847])]],\n",
      " [[interval([9.999999999911909, 10.000000000092607])],\n",
      "  [interval([0.09999999999972521, 0.10000000000028961])],\n",
      "  [interval([0.49999999999871514, 0.5000000000013426])],\n",
      "  [interval([0.4999999999980259, 0.5000000000018799])]],\n",
      " [[interval([9.99999999992995, 10.00000000007462])],\n",
      "  [interval([0.09999999999976787, 0.1000000000002475])],\n",
      "  [interval([0.4999999999989458, 0.5000000000011124])],\n",
      "  [interval([0.49999999999840133, 0.5000000000015034])]],\n",
      " [[interval([9.999999999929955, 10.000000000074634])],\n",
      "  [interval([0.09999999999976775, 0.10000000000024738])],\n",
      "  [interval([0.499999999998946, 0.5000000000011127])],\n",
      "  [interval([0.49999999999840117, 0.5000000000015032])]],\n",
      " [[interval([9.9999999944717, 10.000000005532723])],\n",
      "  [interval([0.09999999998289724, 0.10000000001711777])],\n",
      "  [interval([0.4999999999201708, 0.5000000000798861])],\n",
      "  [interval([0.49999999986620397, 0.5000000001337023])]],\n",
      " [[interval([9.999999994421545, 10.00000000558285])],\n",
      "  [interval([0.09999999998266229, 0.10000000001735239])],\n",
      "  [interval([0.4999999999186774, 0.5000000000813782])],\n",
      "  [interval([0.49999999988096916, 0.5000000001189392])]]]\n",
      "337.270030975[sec]\n"
     ]
    }
   ],
   "source": [
    "import time\n",
    "st = time.time()\n",
    "ans_boxes, S_num_list, T_num_list, U_num_list, animation_box = kra.find_global_minimum(\n",
    "    f, tmp_min_sup=local_minima ,trace=True, cnt_max=5000)\n",
    "print(\"{}[sec]\".format(time.time() - st))"
   ]
  },
  {
   "cell_type": "code",
   "execution_count": 18,
   "metadata": {
    "collapsed": true
   },
   "outputs": [],
   "source": [
    "if len(args) == 2: \n",
    "    visualize_optimization_log(kra, f, animation_box, skip=200)"
   ]
  },
  {
   "cell_type": "code",
   "execution_count": null,
   "metadata": {
    "collapsed": true
   },
   "outputs": [],
   "source": []
  }
 ],
 "metadata": {
  "kernelspec": {
   "display_name": "Python 2",
   "language": "python",
   "name": "python2"
  },
  "language_info": {
   "codemirror_mode": {
    "name": "ipython",
    "version": 2
   },
   "file_extension": ".py",
   "mimetype": "text/x-python",
   "name": "python",
   "nbconvert_exporter": "python",
   "pygments_lexer": "ipython2",
   "version": "2.7.13"
  }
 },
 "nbformat": 4,
 "nbformat_minor": 2
}
