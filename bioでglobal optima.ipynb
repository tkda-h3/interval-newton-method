{
 "cells": [
  {
   "cell_type": "code",
   "execution_count": 1,
   "metadata": {
    "collapsed": true
   },
   "outputs": [],
   "source": [
    "%matplotlib inline \n",
    "from interval import interval\n",
    "import matplotlib.pyplot as plt\n",
    "from sympy import(\n",
    "    init_printing,\n",
    "    var,\n",
    "    exp,\n",
    "    cos,\n",
    "    sin,\n",
    "    lambdify,\n",
    ")\n",
    "init_printing()\n",
    "import numpy as np\n",
    "from matplotlib import cm\n",
    "\n",
    "from ivmat import ivmat as ip\n",
    "from fmat import fmat\n",
    "from krawczyk import Krawczyk\n",
    "from symbol_derivative import *\n",
    "from nelder_mead import NelderMead"
   ]
  },
  {
   "cell_type": "markdown",
   "metadata": {},
   "source": [
    "## tmp_min_sup = infの時"
   ]
  },
  {
   "cell_type": "code",
   "execution_count": null,
   "metadata": {
    "scrolled": true
   },
   "outputs": [
    {
     "data": {
      "image/png": "[encoded data removed]",
      "text/latex": [
       "$$\\left(- \\frac{0.25 V_{max}}{K_{m} + 0.25} + 2.4\\right)^{2} + \\left(- \\frac{0.3 V_{max}}{K_{m} + 0.3} + 2.6\\right)^{2} + \\left(- \\frac{0.4 V_{max}}{K_{m} + 0.4} + 4.2\\right)^{2} + \\left(- \\frac{0.5 V_{max}}{K_{m} + 0.5} + 3.8\\right)^{2} + \\left(- \\frac{0.7 V_{max}}{K_{m} + 0.7} + 6.2\\right)^{2} + \\left(- \\frac{1.0 V_{max}}{K_{m} + 1.0} + 7.4\\right)^{2} + \\left(- \\frac{1.4 V_{max}}{K_{m} + 1.4} + 10.2\\right)^{2} + \\left(- \\frac{2.0 V_{max}}{K_{m} + 2.0} + 11.4\\right)^{2}$$"
      ],
      "text/plain": [
       "                    2                      2                      2           \n",
       "⎛  0.25⋅V_max      ⎞    ⎛  0.3⋅V_max      ⎞    ⎛  0.4⋅V_max      ⎞    ⎛  0.5⋅V\n",
       "⎜- ────────── + 2.4⎟  + ⎜- ───────── + 2.6⎟  + ⎜- ───────── + 4.2⎟  + ⎜- ─────\n",
       "⎝  K_m + 0.25      ⎠    ⎝  K_m + 0.3      ⎠    ⎝  K_m + 0.4      ⎠    ⎝  K_m +\n",
       "\n",
       "           2                      2                      2                    \n",
       "_max      ⎞    ⎛  0.7⋅V_max      ⎞    ⎛  1.0⋅V_max      ⎞    ⎛  1.4⋅V_max     \n",
       "──── + 3.8⎟  + ⎜- ───────── + 6.2⎟  + ⎜- ───────── + 7.4⎟  + ⎜- ───────── + 10\n",
       " 0.5      ⎠    ⎝  K_m + 0.7      ⎠    ⎝  K_m + 1.0      ⎠    ⎝  K_m + 1.4     \n",
       "\n",
       "   2                       2\n",
       "  ⎞    ⎛  2.0⋅V_max       ⎞ \n",
       ".2⎟  + ⎜- ───────── + 11.4⎟ \n",
       "  ⎠    ⎝  K_m + 2.0       ⎠ "
      ]
     },
     "execution_count": 2,
     "metadata": {},
     "output_type": "execute_result"
    }
   ],
   "source": [
    "S_v_list = [\n",
    "    [0.25, 2.4],\n",
    "    [0.30, 2.6],\n",
    "    [0.40, 4.2],\n",
    "    [0.50, 3.8],\n",
    "    [0.70, 6.2],\n",
    "    [1.00, 7.4],\n",
    "    [1.40, 10.2],\n",
    "    [2.00, 11.4],    \n",
    "]\n",
    "\n",
    "\n",
    "K_m, V_max = args = var(\"K_m V_max \")\n",
    "f_expr = 0\n",
    "\n",
    "for S, v in S_v_list:\n",
    "    f_expr += (v - (1/(K_m + S)) * V_max * S) ** 2\n",
    "    \n",
    "\n",
    "f_expr"
   ]
  },
  {
   "cell_type": "code",
   "execution_count": null,
   "metadata": {
    "scrolled": false
   },
   "outputs": [
    {
     "name": "stdout",
     "output_type": "stream",
     "text": [
      "[[  4.03041232  30.69136884]\n",
      " [  2.40136057  10.77834312]\n",
      " [  0.43433027   7.93855433]]\n"
     ]
    }
   ],
   "source": [
    "np_func = lambdify([args], f_expr, modules=np)\n",
    "# seed_num = 12345\n",
    "# np.random.seed(seed_num)\n",
    "low = 0\n",
    "high = 50.1\n",
    "points = np.random.uniform(low=low, high=high, size=(3,2))\n",
    "div_num = 10.0\n",
    "points[:, 0] /= div_num\n",
    "print points\n",
    "nelder = NelderMead(np_func, points)\n",
    "local_minima = np.inf\n",
    "\n",
    "x = np.arange(low/div_num, high/div_num, 0.05/div_num) \n",
    "y = np.arange(low, high, 0.1) \n",
    "X, Y = np.meshgrid(x, y)\n",
    "args_list =  np.array([X.flatten(), Y.flatten()]).T[:, :, np.newaxis].tolist()\n",
    "Z = np.array([np_func(_args) for _args in args_list]).reshape(X.shape)\n",
    "\n",
    "#nelder.save_figs(X, Y, Z, points_history)\n",
    "\n",
    "points_histories = []\n",
    "for i in range(20):\n",
    "    points = np.random.uniform(low=low, high=high, size=(3,2))\n",
    "    points[:, 0] /= div_num\n",
    "    nelder = NelderMead(np_func, points)\n",
    "    _local_minima, points_history = nelder.run(50)\n",
    "    points_histories.append(points_history)\n",
    "    local_minima = min(local_minima, _local_minima)\n",
    "points_histories = np.array(points_histories)\n",
    "print local_minima\n",
    "\n",
    "# nelder.save_multi_points_figs(X, Y, np.log(Z), points_histories)\n",
    "\n",
    "fig = plt.figure(figsize=(10,8))\n",
    "ax = Axes3D(fig)\n",
    "ax.set_zlabel('$\\log_{10}{f(k_M, v_{{max}})}$', fontsize=18)\n",
    "surf = ax.plot_surface(X,Y,np.log10(Z), rstride=3, cstride=5, cmap=cm.jet, linewidth=1) \n",
    "fig.colorbar(surf)\n",
    "plt.xlabel('$k_m$', fontsize=18)\n",
    "plt.ylabel('$v_{max}$', fontsize=18)\n",
    "plt.show()"
   ]
  },
  {
   "cell_type": "code",
   "execution_count": null,
   "metadata": {
    "collapsed": true
   },
   "outputs": [],
   "source": [
    "# X = ip([[interval[0, 10]],[interval[15, 40]]]) # K, S\n",
    "\n",
    "X = ip([[interval[0, 5]],[interval[0, 50]]]) # K, S"
   ]
  },
  {
   "cell_type": "code",
   "execution_count": null,
   "metadata": {
    "collapsed": true
   },
   "outputs": [],
   "source": [
    "f, df, ddf = get_f_df_ddf_from_symbol_representation(f_expr, args)"
   ]
  },
  {
   "cell_type": "code",
   "execution_count": null,
   "metadata": {
    "scrolled": false
   },
   "outputs": [],
   "source": [
    "K, V ,Z, K_lim, V_lim = calc_f_meshgrid(f, X)\n",
    "fig = plt.figure(figsize=(10, 8))\n",
    "#plt.gca().set_aspect('equal', adjustable='box')\n",
    "plt.xlim(K_lim)\n",
    "plt.ylim(V_lim)\n",
    "plt.xlabel('$K_M$')\n",
    "plt.ylabel('$V_{max}$')\n",
    "plt.title('$\\log_{10} f(K_M, V_{max})$')\n",
    "#im = plt.contour(K, V, np.log10(Z), levels=np.arange(0.5, 4, 0.5), shading='gouraud')\n",
    "im = plt.contour(K, V, np.log10(Z), 20, shading='gouraud')\n",
    "fig.colorbar(im)\n",
    "plt.show()\n"
   ]
  },
  {
   "cell_type": "code",
   "execution_count": null,
   "metadata": {},
   "outputs": [],
   "source": [
    "krawczyk = Krawczyk(df, ddf, X)\n",
    "#local_minima = np.inf\n",
    "%time _1, _2, _3, _4, animation_box = krawczyk.find_global_minimum(\\\n",
    "                                                             f,trace=False, cnt_max=3000, tmp_min_sup=local_minima)\n",
    "#visualize_optimization_log(krawczyk, f, animation_box, skip=25, zscale='log10')"
   ]
  },
  {
   "cell_type": "code",
   "execution_count": null,
   "metadata": {
    "collapsed": true
   },
   "outputs": [],
   "source": [
    "skip_num = len(animation_box) / 20\n",
    "title_prefix = 'initial tmp_min_sup: {}, '.format(local_minima)\n",
    "visualize_optimization_log(krawczyk, f, animation_box, skip=skip_num, zscale='log10', title_prefix=title_prefix)"
   ]
  },
  {
   "cell_type": "markdown",
   "metadata": {
    "collapsed": true
   },
   "source": [
    "## boxの増減"
   ]
  },
  {
   "cell_type": "code",
   "execution_count": null,
   "metadata": {},
   "outputs": [],
   "source": [
    "def fill_zero_to_right_of_list(array):\n",
    "    max_len = len(max(array, key=len))\n",
    "    return [li + [0] * (max_len - len(li)) for li in array]\n",
    "\n",
    "kra = Krawczyk(df, ddf, X)\n",
    "local_minima_list = [1.51005210105, np.inf]\n",
    "_S_num_lists = [] # [S_num_list_1, ...]\n",
    "_max_width_time_series_lists = []\n",
    "for local_minima in local_minima_list:\n",
    "    ans_boxes, S_num_list, T_num_list, U_num_list, animation_box, max_width_time_series_list = kra.find_global_minimum(\\\n",
    "        f, tmp_min_sup=local_minima, trace=False, cnt_max=3000, max_width=1e-14)\n",
    "    _S_num_lists.append(S_num_list)\n",
    "    _max_width_time_series_lists.append(max_width_time_series_list)\n",
    "    \n",
    "_result_list = fill_zero_to_right_of_list(_S_num_lists)\n",
    "result_list = np.array(_result_list).T\n",
    "\n",
    "tmp_list = fill_zero_to_right_of_list(_max_width_time_series_lists)\n",
    "max_width_time_series_lists = np.array(tmp_list).T\n",
    "\n",
    "import pandas as pd\n",
    "result_df = pd.DataFrame(np.array(result_list))\n",
    "result_df.columns = list(map(str, local_minima_list))\n",
    "ax = result_df.plot(title='The change of interval boxes in the job queue', figsize=(10, 8), legend=True)\n",
    "ax.set(xlabel=\"steps\", ylabel=\"The number of interval boxes\")\n",
    "\n",
    "\n",
    "max_width_df = pd.DataFrame(max_width_time_series_lists)\n",
    "max_width_df.columns = list(map(str, local_minima_list))\n",
    "ax = max_width_df.plot(title='The change of max width of interval boxes in the job queue', figsize=(10, 8), legend=True)\n",
    "ax.set(xlabel=\"steps\", ylabel=\"max width of interval boxes in the job queue\")"
   ]
  },
  {
   "cell_type": "code",
   "execution_count": null,
   "metadata": {
    "collapsed": true
   },
   "outputs": [],
   "source": []
  }
 ],
 "metadata": {
  "kernelspec": {
   "display_name": "Python 2",
   "language": "python",
   "name": "python2"
  },
  "language_info": {
   "codemirror_mode": {
    "name": "ipython",
    "version": 2
   },
   "file_extension": ".py",
   "mimetype": "text/x-python",
   "name": "python",
   "nbconvert_exporter": "python",
   "pygments_lexer": "ipython2",
   "version": "2.7.13"
  }
 },
 "nbformat": 4,
 "nbformat_minor": 2
}
