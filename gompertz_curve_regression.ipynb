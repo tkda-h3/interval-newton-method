{
 "cells": [
  {
   "cell_type": "code",
   "execution_count": 1,
   "metadata": {
    "collapsed": true
   },
   "outputs": [],
   "source": [
    "%matplotlib inline \n",
    "from interval import interval\n",
    "import matplotlib.pyplot as plt\n",
    "from sympy import(\n",
    "    init_printing,\n",
    "    var,\n",
    "    exp,\n",
    "    cos,\n",
    "    sin,\n",
    "    log,\n",
    "    expand_log\n",
    ")\n",
    "from sympy.utilities.lambdify import lambdify \n",
    "from sympy.plotting import plot\n",
    "init_printing()\n",
    "import numpy as np\n",
    "\n",
    "from ivmat import ivmat as ip\n",
    "from fmat import fmat\n",
    "from krawczyk import Krawczyk\n",
    "from symbol_derivative import(\n",
    "    get_f_df_ddf_from_symbol_representation,\n",
    "    get_global_minima_from_f_expr,\n",
    "    calc_f_expr_meshgrid,\n",
    "    plot3D,\n",
    "    visualize_optimization_log,\n",
    ")\n",
    "from nelder_mead import NelderMead"
   ]
  },
  {
   "cell_type": "code",
   "execution_count": 2,
   "metadata": {},
   "outputs": [
    {
     "data": {
      "image/png": "[encoded data removed]",
      "text/latex": [
       "$$1.0 e^{- 1.25 e^{- 1.07^{t}}}$$"
      ],
      "text/plain": [
       "                 t\n",
       "            -1.07 \n",
       "     -1.25⋅ℯ      \n",
       "1.0⋅ℯ             "
      ]
     },
     "metadata": {},
     "output_type": "display_data"
    }
   ],
   "source": [
    "alpha, beta, k = args = var(\"alpha, beta, k\")\n",
    "t = var(\"t\")\n",
    "z = var(\"z\")\n",
    "y_0 = var(\"y_0\")\n",
    "\n",
    "curve_expr = alpha * exp(-beta * exp(-k**t))\n",
    "true_curve_expr = curve_expr.subs([(alpha, 1.0), (beta, 1.25), (k, 1.07)])\n",
    "display(true_curve_expr)"
   ]
  },
  {
   "cell_type": "code",
   "execution_count": 3,
   "metadata": {},
   "outputs": [
    {
     "data": {
      "image/png": "[encoded data removed]",
      "text/plain": [
       "<matplotlib.figure.Figure at 0x112903d50>"
      ]
     },
     "metadata": {},
     "output_type": "display_data"
    },
    {
     "name": "stdout",
     "output_type": "stream",
     "text": [
      "0 0.631378786197\n",
      "5 0.735311804207\n",
      "10 0.839609516384\n",
      "15 0.923863110672\n"
     ]
    }
   ],
   "source": [
    "plot(true_curve_expr, (t, 0, 30))\n",
    "true_curve = lambdify(t, true_curve_expr)\n",
    "sample_data = [(time, true_curve(time)) for time in np.arange(0, 20, 5)]\n",
    "for _t, value in sample_data:\n",
    "    print _t, value"
   ]
  },
  {
   "cell_type": "code",
   "execution_count": 4,
   "metadata": {
    "scrolled": false
   },
   "outputs": [
    {
     "name": "stdout",
     "output_type": "stream",
     "text": [
      "0 0.631378786197\n",
      "5 0.735311804207\n",
      "10 0.839609516384\n",
      "15 0.923863110672\n"
     ]
    },
    {
     "data": {
      "image/png": "[encoded data removed]",
      "text/latex": [
       "$$\\left(- \\alpha e^{- \\frac{\\beta}{e}} + 0.631378786196515\\right)^{2} + \\left(- \\alpha e^{- \\beta e^{- k^{5}}} + 0.735311804206798\\right)^{2} + \\left(- \\alpha e^{- \\beta e^{- k^{10}}} + 0.839609516383748\\right)^{2} + \\left(- \\alpha e^{- \\beta e^{- k^{15}}} + 0.923863110672119\\right)^{2}$$"
      ],
      "text/plain": [
       "                                                                       2      \n",
       "                                 2   ⎛           5                    ⎞    ⎛  \n",
       "⎛         -1                    ⎞    ⎜         -k                     ⎟    ⎜  \n",
       "⎜     -β⋅ℯ                      ⎟    ⎜     -β⋅ℯ                       ⎟    ⎜  \n",
       "⎝- α⋅ℯ       + 0.631378786196515⎠  + ⎝- α⋅ℯ        + 0.735311804206798⎠  + ⎝- \n",
       "\n",
       "                                2                                      2\n",
       "         10                    ⎞    ⎛           15                    ⎞ \n",
       "       -k                      ⎟    ⎜         -k                      ⎟ \n",
       "   -β⋅ℯ                        ⎟    ⎜     -β⋅ℯ                        ⎟ \n",
       "α⋅ℯ         + 0.839609516383748⎠  + ⎝- α⋅ℯ         + 0.923863110672119⎠ "
      ]
     },
     "metadata": {},
     "output_type": "display_data"
    }
   ],
   "source": [
    "loss_expr = 0\n",
    "for time, value in sample_data:\n",
    "    print time, value\n",
    "    pred_value = curve_expr.subs(t, time)\n",
    "    loss_expr += (value - pred_value) ** 2\n",
    "f_expr = loss_expr\n",
    "display(f_expr)\n",
    "\n",
    "# seed_num = 431\n",
    "# np.random.seed(seed_num)\n",
    "low = 0.01\n",
    "high = 2.5\n",
    "points = np.random.uniform(low=low, high=high, size=(len(args)+1, len(args)))\n",
    "np_func = lambdify([args], f_expr, modules=np) "
   ]
  },
  {
   "cell_type": "code",
   "execution_count": 5,
   "metadata": {
    "scrolled": false
   },
   "outputs": [
    {
     "name": "stderr",
     "output_type": "stream",
     "text": [
      "/Users/takada/.pyenv/versions/2.7.13/envs/krawczyk-dev/lib/python2.7/site-packages/numpy/__init__.py:1: RuntimeWarning: overflow encountered in exp\n",
      "  \"\"\"\n"
     ]
    },
    {
     "name": "stdout",
     "output_type": "stream",
     "text": [
      "8.24970114968e-09\n"
     ]
    }
   ],
   "source": [
    "points_histories = []\n",
    "local_minima = np.inf\n",
    "for i in range(50):\n",
    "    points = np.random.uniform(low=low, high=high, size=(len(args)+1, len(args)))\n",
    "    nelder = NelderMead(np_func, points)\n",
    "    _local_minima, points_history = nelder.run(50)\n",
    "    points_histories.append(points_history)\n",
    "    local_minima = min(local_minima, _local_minima)\n",
    "points_histories = np.array(points_histories)\n",
    "print local_minima"
   ]
  },
  {
   "cell_type": "code",
   "execution_count": 6,
   "metadata": {
    "collapsed": true
   },
   "outputs": [],
   "source": [
    "f, df, ddf = get_f_df_ddf_from_symbol_representation(f_expr, args)"
   ]
  },
  {
   "cell_type": "code",
   "execution_count": 7,
   "metadata": {
    "scrolled": false
   },
   "outputs": [
    {
     "data": {
      "image/png": "[encoded data removed]",
      "text/latex": [
       "$$\\left [ \\left [ \\left ( \\left ( 0.0, \\quad 1.29425404749\\right )\\right )\\right ]\\right ]$$"
      ],
      "text/plain": [
       "[[((0.0, 1.29425404749),)]]"
      ]
     },
     "execution_count": 7,
     "metadata": {},
     "output_type": "execute_result"
    }
   ],
   "source": [
    "# X = ip([\n",
    "#     [interval[0.998, 1.021]],\n",
    "#     [interval[1.2499, 1.2552]], \n",
    "#     [interval[1.0697, 1.07013]]\n",
    "# ])\n",
    "\n",
    "X = ip([\n",
    "    [interval[0.8, 1.25]],\n",
    "    [interval[0.5, 1.3]], \n",
    "    [interval[0.6, 1.25]]\n",
    "])\n",
    "\n",
    "f(X)"
   ]
  },
  {
   "cell_type": "code",
   "execution_count": 8,
   "metadata": {
    "collapsed": true
   },
   "outputs": [],
   "source": [
    "kra = Krawczyk(df, ddf, X)"
   ]
  },
  {
   "cell_type": "code",
   "execution_count": null,
   "metadata": {
    "scrolled": false
   },
   "outputs": [],
   "source": [
    "import time\n",
    "local_minima = np.inf\n",
    "st = time.time()\n",
    "%time ans_boxes, S_num_list, T_num_list, U_num_list, animation_box = kra.find_global_minimum(\\\n",
    "    f, tmp_min_sup=local_minima ,trace=True, cnt_max=10000)\n",
    "print(\"{}[sec]\".format(time.time() - st))"
   ]
  },
  {
   "cell_type": "code",
   "execution_count": null,
   "metadata": {
    "collapsed": true
   },
   "outputs": [],
   "source": [
    "if len(args) == 2: \n",
    "    visualize_optimization_log(kra, f, animation_box, skip=200)"
   ]
  },
  {
   "cell_type": "markdown",
   "metadata": {},
   "source": [
    "## boxの増減"
   ]
  },
  {
   "cell_type": "code",
   "execution_count": 9,
   "metadata": {},
   "outputs": [
    {
     "name": "stdout",
     "output_type": "stream",
     "text": [
      "Loop end. cnt:5166, len(S):0, len(T):6, len(U):0\n",
      "\n",
      "5166\n",
      "---------- 最終的なS[:10] -----------\n",
      "[]\n",
      "---------- 最終的なU[:10] -----------\n",
      "[]\n",
      "---------- 最終的なT[:50] -----------\n",
      "[[[interval([0.9999999999999775, 1.000000000000022])],\n",
      "  [interval([1.2499999999999427, 1.2500000000000524])],\n",
      "  [interval([1.0699999999999947, 1.0700000000000058])]],\n",
      " [[interval([0.9999999999999735, 1.000000000000025])],\n",
      "  [interval([1.2499999999999332, 1.2500000000000602])],\n",
      "  [interval([1.0699999999999938, 1.0700000000000067])]],\n",
      " [[interval([0.9999999999999775, 1.000000000000022])],\n",
      "  [interval([1.2499999999999427, 1.2500000000000524])],\n",
      "  [interval([1.0699999999999947, 1.0700000000000058])]],\n",
      " [[interval([0.9999999999999738, 1.0000000000000253])],\n",
      "  [interval([1.2499999999999338, 1.2500000000000608])],\n",
      "  [interval([1.0699999999999938, 1.0700000000000067])]],\n",
      " [[interval([0.9999999999999776, 1.000000000000022])],\n",
      "  [interval([1.2499999999999432, 1.2500000000000526])],\n",
      "  [interval([1.0699999999999947, 1.0700000000000056])]],\n",
      " [[interval([0.9999999999999776, 1.000000000000022])],\n",
      "  [interval([1.2499999999999432, 1.2500000000000526])],\n",
      "  [interval([1.0699999999999947, 1.0700000000000056])]]]\n",
      "最小値の上限値: 5.07972188775e-27, 該当区間X: [[interval([0.9999999999999776, 1.000000000000022])], [interval([1.2499999999999432, 1.2500000000000526])], [interval([1.0699999999999947, 1.0700000000000056])]]\n",
      "Loop end. cnt:15436, len(S):0, len(T):6, len(U):0\n",
      "\n",
      "15436\n",
      "---------- 最終的なS[:10] -----------\n",
      "[]\n",
      "---------- 最終的なU[:10] -----------\n",
      "[]\n",
      "---------- 最終的なT[:50] -----------\n",
      "[[[interval([0.9999999999999775, 1.000000000000022])],\n",
      "  [interval([1.2499999999999427, 1.2500000000000524])],\n",
      "  [interval([1.0699999999999947, 1.0700000000000058])]],\n",
      " [[interval([0.9999999999999735, 1.000000000000025])],\n",
      "  [interval([1.2499999999999332, 1.2500000000000602])],\n",
      "  [interval([1.0699999999999938, 1.0700000000000067])]],\n",
      " [[interval([0.9999999999999775, 1.000000000000022])],\n",
      "  [interval([1.2499999999999427, 1.2500000000000524])],\n",
      "  [interval([1.0699999999999947, 1.0700000000000058])]],\n",
      " [[interval([0.9999999999999738, 1.0000000000000253])],\n",
      "  [interval([1.2499999999999338, 1.2500000000000608])],\n",
      "  [interval([1.0699999999999938, 1.0700000000000067])]],\n",
      " [[interval([0.9999999999999776, 1.000000000000022])],\n",
      "  [interval([1.2499999999999432, 1.2500000000000526])],\n",
      "  [interval([1.0699999999999947, 1.0700000000000056])]],\n",
      " [[interval([0.9999999999999776, 1.000000000000022])],\n",
      "  [interval([1.2499999999999432, 1.2500000000000526])],\n",
      "  [interval([1.0699999999999947, 1.0700000000000056])]]]\n",
      "最小値の上限値: 5.07972188775e-27, 該当区間X: [[interval([0.9999999999999776, 1.000000000000022])], [interval([1.2499999999999432, 1.2500000000000526])], [interval([1.0699999999999947, 1.0700000000000056])]]\n"
     ]
    },
    {
     "data": {
      "text/plain": [
       "[<matplotlib.text.Text at 0x1155462d0>, <matplotlib.text.Text at 0x1154a3350>]"
      ]
     },
     "execution_count": 9,
     "metadata": {},
     "output_type": "execute_result"
    },
    {
     "data": {
      "image/png": "[encoded data removed]",
      "text/plain": [
       "<matplotlib.figure.Figure at 0x112962a90>"
      ]
     },
     "metadata": {},
     "output_type": "display_data"
    }
   ],
   "source": [
    "def fill_zero_to_right_of_list(array):\n",
    "    max_len = len(max(array, key=len))\n",
    "    return [li + [0] * (max_len - len(li)) for li in array]\n",
    "\n",
    "kra = Krawczyk(df, ddf, X)\n",
    "local_minima_list = [0.000000727861032397, np.inf]\n",
    "_S_num_lists = [] # [S_num_list_1, ...]\n",
    "for local_minima in local_minima_list:\n",
    "    ans_boxes, S_num_list, T_num_list, U_num_list, animation_box = kra.find_global_minimum(\\\n",
    "        f, tmp_min_sup=local_minima, trace=False, cnt_max=30000, max_width=1e-14)\n",
    "    _S_num_lists.append(S_num_list)\n",
    "\n",
    "_result_list = fill_zero_to_right_of_list(_S_num_lists)\n",
    "result_list = np.array(_result_list).T\n",
    "\n",
    "import pandas as pd\n",
    "result_df = pd.DataFrame(np.array(result_list))\n",
    "result_df.columns = list(map(str, local_minima_list))\n",
    "ax = result_df.plot(title='The change of interval boxes in the job queue', figsize=(10, 8), legend=True)\n",
    "ax.set(xlabel=\"times\", ylabel=\"The number of interval boxes\")\n"
   ]
  },
  {
   "cell_type": "code",
   "execution_count": null,
   "metadata": {
    "collapsed": true
   },
   "outputs": [],
   "source": []
  }
 ],
 "metadata": {
  "kernelspec": {
   "display_name": "Python 2",
   "language": "python",
   "name": "python2"
  },
  "language_info": {
   "codemirror_mode": {
    "name": "ipython",
    "version": 2
   },
   "file_extension": ".py",
   "mimetype": "text/x-python",
   "name": "python",
   "nbconvert_exporter": "python",
   "pygments_lexer": "ipython2",
   "version": "2.7.13"
  }
 },
 "nbformat": 4,
 "nbformat_minor": 2
}
