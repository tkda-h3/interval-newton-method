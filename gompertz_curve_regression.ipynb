{
 "cells": [
  {
   "cell_type": "code",
   "execution_count": 1,
   "metadata": {
    "collapsed": true
   },
   "outputs": [],
   "source": [
    "%matplotlib inline \n",
    "from interval import interval\n",
    "import matplotlib.pyplot as plt\n",
    "from sympy import(\n",
    "    init_printing,\n",
    "    var,\n",
    "    exp,\n",
    "    cos,\n",
    "    sin,\n",
    "    log,\n",
    "    expand_log\n",
    ")\n",
    "from sympy.utilities.lambdify import lambdify \n",
    "from sympy.plotting import plot\n",
    "init_printing()\n",
    "import numpy as np\n",
    "\n",
    "from ivmat import ivmat as ip\n",
    "from fmat import fmat\n",
    "from krawczyk import Krawczyk\n",
    "from symbol_derivative import(\n",
    "    get_f_df_ddf_from_symbol_representation,\n",
    "    get_global_minima_from_f_expr,\n",
    "    calc_f_expr_meshgrid,\n",
    "    plot3D,\n",
    "    visualize_optimization_log,\n",
    ")\n",
    "from nelder_mead import NelderMead"
   ]
  },
  {
   "cell_type": "code",
   "execution_count": 13,
   "metadata": {},
   "outputs": [
    {
     "data": {
      "image/png": "[encoded data removed]",
      "text/latex": [
       "$$\\alpha e^{- \\beta e^{- k^{t}}}$$"
      ],
      "text/plain": [
       "         t\n",
       "       -k \n",
       "   -β⋅ℯ   \n",
       "α⋅ℯ       "
      ]
     },
     "metadata": {},
     "output_type": "display_data"
    },
    {
     "data": {
      "image/png": "[encoded data removed]",
      "text/latex": [
       "$$1.0 e^{- 1.25 e^{- 1.07^{t}}}$$"
      ],
      "text/plain": [
       "                 t\n",
       "            -1.07 \n",
       "     -1.25⋅ℯ      \n",
       "1.0⋅ℯ             "
      ]
     },
     "metadata": {},
     "output_type": "display_data"
    }
   ],
   "source": [
    "alpha, beta, k = args = var(\"alpha, beta, k\")\n",
    "t = var(\"t\")\n",
    "z = var(\"z\")\n",
    "y_0 = var(\"y_0\")\n",
    "\n",
    "curve_expr = alpha * exp(-beta * exp(-k**t))\n",
    "display(curve_expr)\n",
    "\n",
    "true_curve_expr = curve_expr.subs([(alpha, 1.0), (beta, 1.25), (k, 1.07)])\n",
    "display(true_curve_expr)\n"
   ]
  },
  {
   "cell_type": "code",
   "execution_count": 3,
   "metadata": {},
   "outputs": [
    {
     "data": {
      "image/png": "[encoded data removed]",
      "text/plain": [
       "<matplotlib.figure.Figure at 0x1061ab9d0>"
      ]
     },
     "metadata": {},
     "output_type": "display_data"
    },
    {
     "name": "stdout",
     "output_type": "stream",
     "text": [
      "[(0, 0.63137878619651466), (5, 0.73531180420679765), (10, 0.8396095163837477), (15, 0.92386311067211879)]\n"
     ]
    }
   ],
   "source": [
    "plot(true_curve_expr, (t, 0, 30))\n",
    "true_curve = lambdify(t, true_curve_expr)\n",
    "sample_data = [(time, true_curve(time)) for time in np.arange(0, 20, 5)]\n",
    "print(sample_data)"
   ]
  },
  {
   "cell_type": "code",
   "execution_count": 4,
   "metadata": {
    "scrolled": true
   },
   "outputs": [
    {
     "data": {
      "image/png": "[encoded data removed]",
      "text/latex": [
       "$$\\left(- \\alpha e^{- \\frac{\\beta}{e}} + 0.631378786196515\\right)^{2} + \\left(- \\alpha e^{- \\beta e^{- k^{5}}} + 0.735311804206798\\right)^{2} + \\left(- \\alpha e^{- \\beta e^{- k^{10}}} + 0.839609516383748\\right)^{2} + \\left(- \\alpha e^{- \\beta e^{- k^{15}}} + 0.923863110672119\\right)^{2}$$"
      ],
      "text/plain": [
       "                                                                       2      \n",
       "                                 2   ⎛           5                    ⎞    ⎛  \n",
       "⎛         -1                    ⎞    ⎜         -k                     ⎟    ⎜  \n",
       "⎜     -β⋅ℯ                      ⎟    ⎜     -β⋅ℯ                       ⎟    ⎜  \n",
       "⎝- α⋅ℯ       + 0.631378786196515⎠  + ⎝- α⋅ℯ        + 0.735311804206798⎠  + ⎝- \n",
       "\n",
       "                                2                                      2\n",
       "         10                    ⎞    ⎛           15                    ⎞ \n",
       "       -k                      ⎟    ⎜         -k                      ⎟ \n",
       "   -β⋅ℯ                        ⎟    ⎜     -β⋅ℯ                        ⎟ \n",
       "α⋅ℯ         + 0.839609516383748⎠  + ⎝- α⋅ℯ         + 0.923863110672119⎠ "
      ]
     },
     "metadata": {},
     "output_type": "display_data"
    }
   ],
   "source": [
    "loss_expr = 0\n",
    "for time, value in sample_data:\n",
    "    pred_value = curve_expr.subs(t, time)\n",
    "    loss_expr += (value - pred_value) ** 2\n",
    "f_expr = loss_expr\n",
    "display(f_expr)\n",
    "\n",
    "seed_num = 431\n",
    "np.random.seed(seed_num)\n",
    "low = 0.01\n",
    "high = 2.5\n",
    "points = np.random.uniform(low=low, high=high, size=(len(args)+1, len(args)))\n",
    "np_func = lambdify([args], f_expr, modules=np) "
   ]
  },
  {
   "cell_type": "code",
   "execution_count": 5,
   "metadata": {},
   "outputs": [
    {
     "name": "stdout",
     "output_type": "stream",
     "text": [
      "2.46519032882e-32\n"
     ]
    }
   ],
   "source": [
    "nelder = NelderMead(np_func, points)\n",
    "for i in range(1, 500+1):\n",
    "    nelder.update_points()\n",
    "local_minima = nelder.func(nelder.points[0])\n",
    "print local_minima"
   ]
  },
  {
   "cell_type": "code",
   "execution_count": 6,
   "metadata": {
    "collapsed": true
   },
   "outputs": [],
   "source": [
    "f, df, ddf = get_f_df_ddf_from_symbol_representation(f_expr, args)"
   ]
  },
  {
   "cell_type": "code",
   "execution_count": 7,
   "metadata": {
    "scrolled": true
   },
   "outputs": [
    {
     "data": {
      "image/png": "[encoded data removed]",
      "text/latex": [
       "$$\\left [ \\left [ \\left ( \\left ( 0.0, \\quad 2.70850918132\\right )\\right )\\right ]\\right ]$$"
      ],
      "text/plain": [
       "[[((0.0, 2.70850918132),)]]"
      ]
     },
     "execution_count": 7,
     "metadata": {},
     "output_type": "execute_result"
    }
   ],
   "source": [
    "X = ip([\n",
    "    [interval[0.996, 1.0021]],\n",
    "    [interval[1.2494, 1.2504]], \n",
    "    [interval[1.0691, 1.0703]]\n",
    "])\n",
    "\n",
    "X = ip([\n",
    "    [interval[0.5, 1.6]],\n",
    "    [interval[0.5, 3.0]], \n",
    "    [interval[0.6, 3.33]]\n",
    "])\n",
    "\n",
    "f(X)"
   ]
  },
  {
   "cell_type": "code",
   "execution_count": 8,
   "metadata": {
    "collapsed": true
   },
   "outputs": [],
   "source": [
    "kra = Krawczyk(df, ddf, X)"
   ]
  },
  {
   "cell_type": "code",
   "execution_count": 11,
   "metadata": {
    "scrolled": false
   },
   "outputs": [
    {
     "name": "stdout",
     "output_type": "stream",
     "text": [
      "Loop end. cnt:4318, len(S):0, len(T):2, len(U):0\n",
      "\n",
      "4318\n",
      "---------- 最終的なS[:10] -----------\n",
      "[]\n",
      "---------- 最終的なU[:10] -----------\n",
      "[]\n",
      "---------- 最終的なT -----------\n",
      "[[[interval([0.9999998355396917, 1.0000001644603072])],\n",
      "  [interval([1.249999598140527, 1.250000401859467])],\n",
      "  [interval([1.0699999602787214, 1.0700000397212792])]],\n",
      " [[interval([0.9999964834113816, 1.000003517276676])],\n",
      "  [interval([1.2499914049800331, 1.2500085964886367])],\n",
      "  [interval([1.0699991546971364, 1.070000845141255])]]]\n",
      "343.73456502[sec]\n"
     ]
    }
   ],
   "source": [
    "import time\n",
    "st = time.time()\n",
    "ans_boxes, S_num_list, T_num_list, U_num_list, animation_box = kra.find_global_minimum(\n",
    "    f, tmp_min_sup=local_minima ,trace=True, cnt_max=10000)\n",
    "print(\"{}[sec]\".format(time.time() - st))"
   ]
  },
  {
   "cell_type": "code",
   "execution_count": 10,
   "metadata": {
    "collapsed": true
   },
   "outputs": [],
   "source": [
    "if len(args) == 2: \n",
    "    visualize_optimization_log(kra, f, animation_box, skip=200)"
   ]
  }
 ],
 "metadata": {
  "kernelspec": {
   "display_name": "Python 2",
   "language": "python",
   "name": "python2"
  },
  "language_info": {
   "codemirror_mode": {
    "name": "ipython",
    "version": 2
   },
   "file_extension": ".py",
   "mimetype": "text/x-python",
   "name": "python",
   "nbconvert_exporter": "python",
   "pygments_lexer": "ipython2",
   "version": "2.7.13"
  }
 },
 "nbformat": 4,
 "nbformat_minor": 2
}
