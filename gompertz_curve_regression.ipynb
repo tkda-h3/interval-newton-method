{
 "cells": [
  {
   "cell_type": "code",
   "execution_count": 1,
   "metadata": {
    "collapsed": true
   },
   "outputs": [],
   "source": [
    "%matplotlib inline \n",
    "from interval import interval\n",
    "import matplotlib.pyplot as plt\n",
    "from sympy import(\n",
    "    init_printing,\n",
    "    var,\n",
    "    exp,\n",
    "    cos,\n",
    "    sin,\n",
    "    log,\n",
    "    expand_log\n",
    ")\n",
    "from sympy.utilities.lambdify import lambdify \n",
    "from sympy.plotting import plot\n",
    "init_printing()\n",
    "import numpy as np\n",
    "\n",
    "from ivmat import ivmat as ip\n",
    "from fmat import fmat\n",
    "from krawczyk import Krawczyk\n",
    "from symbol_derivative import(\n",
    "    get_f_df_ddf_from_symbol_representation,\n",
    "    get_global_minima_from_f_expr,\n",
    "    calc_f_expr_meshgrid,\n",
    "    plot3D,\n",
    "    visualize_optimization_log,\n",
    ")\n",
    "from nelder_mead import NelderMead"
   ]
  },
  {
   "cell_type": "code",
   "execution_count": 2,
   "metadata": {},
   "outputs": [
    {
     "data": {
      "image/png": "[encoded data removed]",
      "text/latex": [
       "$$\\alpha e^{- \\beta e^{- k^{t}}}$$"
      ],
      "text/plain": [
       "         t\n",
       "       -k \n",
       "   -β⋅ℯ   \n",
       "α⋅ℯ       "
      ]
     },
     "metadata": {},
     "output_type": "display_data"
    },
    {
     "data": {
      "image/png": "[encoded data removed]",
      "text/latex": [
       "$$1.0 e^{- 1.25 e^{- 1.07^{t}}}$$"
      ],
      "text/plain": [
       "                 t\n",
       "            -1.07 \n",
       "     -1.25⋅ℯ      \n",
       "1.0⋅ℯ             "
      ]
     },
     "metadata": {},
     "output_type": "display_data"
    }
   ],
   "source": [
    "alpha, beta, k = args = var(\"alpha, beta, k\")\n",
    "t = var(\"t\")\n",
    "z = var(\"z\")\n",
    "y_0 = var(\"y_0\")\n",
    "\n",
    "curve_expr = alpha * exp(-beta * exp(-k**t))\n",
    "display(curve_expr)\n",
    "\n",
    "true_curve_expr = curve_expr.subs([(alpha, 1.0), (beta, 1.25), (k, 1.07)])\n",
    "display(true_curve_expr)\n"
   ]
  },
  {
   "cell_type": "code",
   "execution_count": 3,
   "metadata": {},
   "outputs": [
    {
     "data": {
      "image/png": "[encoded data removed]",
      "text/plain": [
       "<matplotlib.figure.Figure at 0x106f80a90>"
      ]
     },
     "metadata": {},
     "output_type": "display_data"
    },
    {
     "name": "stdout",
     "output_type": "stream",
     "text": [
      "[(0, 0.63137878619651466), (5, 0.73531180420679765), (10, 0.8396095163837477), (15, 0.92386311067211879)]\n"
     ]
    }
   ],
   "source": [
    "plot(true_curve_expr, (t, 0, 30))\n",
    "true_curve = lambdify(t, true_curve_expr)\n",
    "sample_data = [(time, true_curve(time)) for time in np.arange(0, 20, 5)]\n",
    "print(sample_data)"
   ]
  },
  {
   "cell_type": "code",
   "execution_count": 4,
   "metadata": {
    "scrolled": true
   },
   "outputs": [
    {
     "data": {
      "image/png": "[encoded data removed]",
      "text/latex": [
       "$$\\left(- \\alpha e^{- \\frac{\\beta}{e}} + 0.631378786196515\\right)^{2} + \\left(- \\alpha e^{- \\beta e^{- k^{5}}} + 0.735311804206798\\right)^{2} + \\left(- \\alpha e^{- \\beta e^{- k^{10}}} + 0.839609516383748\\right)^{2} + \\left(- \\alpha e^{- \\beta e^{- k^{15}}} + 0.923863110672119\\right)^{2}$$"
      ],
      "text/plain": [
       "                                                                       2      \n",
       "                                 2   ⎛           5                    ⎞    ⎛  \n",
       "⎛         -1                    ⎞    ⎜         -k                     ⎟    ⎜  \n",
       "⎜     -β⋅ℯ                      ⎟    ⎜     -β⋅ℯ                       ⎟    ⎜  \n",
       "⎝- α⋅ℯ       + 0.631378786196515⎠  + ⎝- α⋅ℯ        + 0.735311804206798⎠  + ⎝- \n",
       "\n",
       "                                2                                      2\n",
       "         10                    ⎞    ⎛           15                    ⎞ \n",
       "       -k                      ⎟    ⎜         -k                      ⎟ \n",
       "   -β⋅ℯ                        ⎟    ⎜     -β⋅ℯ                        ⎟ \n",
       "α⋅ℯ         + 0.839609516383748⎠  + ⎝- α⋅ℯ         + 0.923863110672119⎠ "
      ]
     },
     "metadata": {},
     "output_type": "display_data"
    }
   ],
   "source": [
    "loss_expr = 0\n",
    "for time, value in sample_data:\n",
    "    pred_value = curve_expr.subs(t, time)\n",
    "    loss_expr += (value - pred_value) ** 2\n",
    "f_expr = loss_expr\n",
    "display(f_expr)\n",
    "\n",
    "seed_num = 431\n",
    "np.random.seed(seed_num)\n",
    "low = 0.01\n",
    "high = 2.5\n",
    "points = np.random.uniform(low=low, high=high, size=(len(args)+1, len(args)))\n",
    "np_func = lambdify([args], f_expr, modules=np) "
   ]
  },
  {
   "cell_type": "code",
   "execution_count": 5,
   "metadata": {},
   "outputs": [
    {
     "name": "stdout",
     "output_type": "stream",
     "text": [
      "0.00617482135126\n"
     ]
    }
   ],
   "source": [
    "nelder = NelderMead(np_func, points)\n",
    "local_minima, _ = nelder.run()\n",
    "print local_minima"
   ]
  },
  {
   "cell_type": "code",
   "execution_count": 6,
   "metadata": {
    "collapsed": true
   },
   "outputs": [],
   "source": [
    "f, df, ddf = get_f_df_ddf_from_symbol_representation(f_expr, args)"
   ]
  },
  {
   "cell_type": "code",
   "execution_count": 12,
   "metadata": {
    "scrolled": true
   },
   "outputs": [
    {
     "data": {
      "image/png": "[encoded data removed]",
      "text/latex": [
       "$$\\left [ \\left [ \\left ( \\left ( 0.0, \\quad 2.70850918132\\right )\\right )\\right ]\\right ]$$"
      ],
      "text/plain": [
       "[[((0.0, 2.70850918132),)]]"
      ]
     },
     "execution_count": 12,
     "metadata": {},
     "output_type": "execute_result"
    }
   ],
   "source": [
    "X = ip([\n",
    "    [interval[0.99886, 1.000021]],\n",
    "    [interval[1.24999, 1.250004]], \n",
    "    [interval[1.06999, 1.070003]]\n",
    "])\n",
    "\n",
    "X = ip([\n",
    "    [interval[0.5, 1.6]],\n",
    "    [interval[0.5, 3.0]], \n",
    "    [interval[0.6, 3.33]]\n",
    "])\n",
    "\n",
    "f(X)"
   ]
  },
  {
   "cell_type": "code",
   "execution_count": 13,
   "metadata": {
    "collapsed": true
   },
   "outputs": [],
   "source": [
    "kra = Krawczyk(df, ddf, X)"
   ]
  },
  {
   "cell_type": "code",
   "execution_count": null,
   "metadata": {
    "scrolled": false
   },
   "outputs": [],
   "source": [
    "import time\n",
    "st = time.time()\n",
    "ans_boxes, S_num_list, T_num_list, U_num_list, animation_box = kra.find_global_minimum(\n",
    "    f, tmp_min_sup=local_minima ,trace=True, cnt_max=100)\n",
    "print(\"{}[sec]\".format(time.time() - st))"
   ]
  },
  {
   "cell_type": "code",
   "execution_count": 10,
   "metadata": {
    "collapsed": true
   },
   "outputs": [],
   "source": [
    "if len(args) == 2: \n",
    "    visualize_optimization_log(kra, f, animation_box, skip=200)"
   ]
  }
 ],
 "metadata": {
  "kernelspec": {
   "display_name": "Python 2",
   "language": "python",
   "name": "python2"
  },
  "language_info": {
   "codemirror_mode": {
    "name": "ipython",
    "version": 2
   },
   "file_extension": ".py",
   "mimetype": "text/x-python",
   "name": "python",
   "nbconvert_exporter": "python",
   "pygments_lexer": "ipython2",
   "version": "2.7.13"
  }
 },
 "nbformat": 4,
 "nbformat_minor": 2
}
