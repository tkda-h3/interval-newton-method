{
 "cells": [
  {
   "cell_type": "code",
   "execution_count": 1,
   "metadata": {
    "collapsed": true
   },
   "outputs": [],
   "source": [
    "from IPython.core.display import display\n",
    "import numpy as np\n",
    "from sympy import *\n",
    "init_printing()\n",
    "# import math\n",
    "from math import *\n",
    "from interval import interval\n",
    "from interval import imath as im\n",
    "import sys\n",
    "from pprint import pprint"
   ]
  },
  {
   "cell_type": "code",
   "execution_count": 2,
   "metadata": {
    "collapsed": false
   },
   "outputs": [
    {
     "data": {
      "image/png": "[encoded data removed]",
      "text/latex": [
       "$$x_{1}^{2} + x_{2}^{2} - 1$$"
      ],
      "text/plain": [
       "  2     2    \n",
       "x₁  + x₂  - 1"
      ]
     },
     "metadata": {},
     "output_type": "display_data"
    },
    {
     "data": {
      "image/png": "[encoded data removed]",
      "text/latex": [
       "$$x_{1} - x_{2}^{2}$$"
      ],
      "text/plain": [
       "       2\n",
       "x₁ - x₂ "
      ]
     },
     "metadata": {},
     "output_type": "display_data"
    },
    {
     "name": "stdout",
     "output_type": "stream",
     "text": [
      "連立方程式の解\n"
     ]
    },
    {
     "data": {
      "image/png": "[encoded data removed]",
      "text/latex": [
       "$$\\left [ \\left ( - \\frac{1}{2} + \\frac{\\sqrt{5}}{2}, \\quad - \\sqrt{- \\frac{1}{2} + \\frac{\\sqrt{5}}{2}}\\right ), \\quad \\left ( - \\frac{1}{2} + \\frac{\\sqrt{5}}{2}, \\quad \\sqrt{- \\frac{1}{2} + \\frac{\\sqrt{5}}{2}}\\right ), \\quad \\left ( - \\frac{\\sqrt{5}}{2} - \\frac{1}{2}, \\quad - i \\sqrt{\\frac{1}{2} + \\frac{\\sqrt{5}}{2}}\\right ), \\quad \\left ( - \\frac{\\sqrt{5}}{2} - \\frac{1}{2}, \\quad i \\sqrt{\\frac{1}{2} + \\frac{\\sqrt{5}}{2}}\\right )\\right ]$$"
      ],
      "text/plain": [
       "⎡⎛               __________⎞  ⎛              __________⎞  ⎛                 __\n",
       "⎢⎜  1   √5      ╱   1   √5 ⎟  ⎜  1   √5     ╱   1   √5 ⎟  ⎜  √5   1        ╱ 1\n",
       "⎢⎜- ─ + ──, -  ╱  - ─ + ── ⎟, ⎜- ─ + ──,   ╱  - ─ + ── ⎟, ⎜- ── - ─, -ⅈ⋅  ╱  ─\n",
       "⎣⎝  2   2    ╲╱     2   2  ⎠  ⎝  2   2   ╲╱     2   2  ⎠  ⎝  2    2     ╲╱   2\n",
       "\n",
       "______⎞  ⎛                ________⎞⎤\n",
       "   √5 ⎟  ⎜  √5   1       ╱ 1   √5 ⎟⎥\n",
       " + ── ⎟, ⎜- ── - ─, ⅈ⋅  ╱  ─ + ── ⎟⎥\n",
       "   2  ⎠  ⎝  2    2    ╲╱   2   2  ⎠⎦"
      ]
     },
     "metadata": {},
     "output_type": "display_data"
    },
    {
     "name": "stdout",
     "output_type": "stream",
     "text": [
      "-- Jacobian of f --\n"
     ]
    },
    {
     "data": {
      "image/png": "[encoded data removed]",
      "text/latex": [
       "$$\\left [ 2 x_{1}, \\quad 2 x_{2}\\right ]$$"
      ],
      "text/plain": [
       "[2⋅x₁, 2⋅x₂]"
      ]
     },
     "metadata": {},
     "output_type": "display_data"
    },
    {
     "data": {
      "image/png": "[encoded data removed]",
      "text/latex": [
       "$$\\left [ 1, \\quad - 2 x_{2}\\right ]$$"
      ],
      "text/plain": [
       "[1, -2⋅x₂]"
      ]
     },
     "metadata": {},
     "output_type": "display_data"
    }
   ],
   "source": [
    "x_1, x_2, x_3 = var(\"x_1 x_2 x_3\")\n",
    "f_1 = symbols(\"f_1\", cls=Function)\n",
    "f_2 = symbols(\"f_2\", cls=Function)\n",
    "\n",
    "f_1 = x_1**2 + x_2**2 - 1\n",
    "f_2 = x_1 - x_2**2\n",
    "display(f_1)\n",
    "display(f_2)\n",
    "print '連立方程式の解'\n",
    "display(solve([eval(str(f_1)), eval(str(f_2))], [x_1,x_2]))\n",
    "\n",
    "f_grad_symbol = []\n",
    "f_grad = []\n",
    "for f in ['f_1','f_2']:\n",
    "    for x in ['x_1', 'x_2']:\n",
    "        grad_symbol = eval(f).diff(eval(x))\n",
    "        grad = lambda x_1,x_2: eval(str(grad_symbol))\n",
    "        f_grad_symbol.append(grad_symbol)\n",
    "        f_grad.append(grad)\n",
    "\n",
    "f_grad_symbol = np.array(f_grad_symbol).reshape(2,2)\n",
    "f_grad = np.array(f_grad).reshape(2,2)\n",
    "\n",
    "def print_symbol_in_numpy(mat, print_description=''):\n",
    "    print print_description\n",
    "    for row in mat:\n",
    "        display(list(row))\n",
    "\n",
    "        \n",
    "print_symbol_in_numpy(f_grad_symbol,'-- Jacobian of f --')\n",
    "\n"
   ]
  },
  {
   "cell_type": "code",
   "execution_count": 3,
   "metadata": {
    "collapsed": false
   },
   "outputs": [
    {
     "data": {
      "text/plain": [
       "array([[ 0.6, -0.3],\n",
       "       [-1. ,  1. ]])"
      ]
     },
     "metadata": {},
     "output_type": "display_data"
    },
    {
     "data": {
      "text/plain": [
       "array([[ 0.1,  0. ],\n",
       "       [ 0. ,  0. ]])"
      ]
     },
     "metadata": {},
     "output_type": "display_data"
    },
    {
     "name": "stdout",
     "output_type": "stream",
     "text": [
      "--- norm ---\n",
      "[ 0.6 -1. ]\n",
      "1.0\n",
      "--------------------\n",
      "[[[-1.11111111  1.11111111]]\n",
      "\n",
      " [[-1.11111111  1.11111111]]]\n",
      "(2, 1, 2)\n",
      "[[[ 1.11111111  1.11111111]]\n",
      "\n",
      " [[ 1.11111111  1.11111111]]]\n",
      "(2, 1, 2)\n",
      "[ 1.11111111  1.11111111]\n",
      "-------------\n",
      "[[ 0.1  0. ]\n",
      " [ 0.   0. ]]\n"
     ]
    }
   ],
   "source": [
    "A = np.array([[3,1],[3,2]])\n",
    "b = np.array([1,0])\n",
    "Y = np.linalg.pinv(A)\n",
    "\n",
    "Y = np.array([[0.6,-0.3],[-1,1]])\n",
    "display(Y)\n",
    "np.dot(Y,A)\n",
    "E = np.eye(2) - np.dot(Y,A)\n",
    "display(E)\n",
    "\n",
    "print '--- norm ---'\n",
    "norm = lambda x : np.linalg.norm(x, np.inf)\n",
    "print np.dot(Y,b)\n",
    "print norm(np.dot(Y,b))\n",
    "\n",
    "print '--'*10\n",
    "X_0 = np.array([interval[-1,1]*norm(np.dot(Y,b))/(1-norm(E)) for i in range(2)])#.astype(interval)\n",
    "print X_0\n",
    "print X_0.shape\n",
    "X_0 = X_0 * interval[1,-1]\n",
    "\n",
    "print X_0\n",
    "print X_0.shape\n",
    "print X_0[0][0]\n",
    "print '-------------'\n",
    "\n",
    "print E\n",
    "\n",
    "# print interval(np.dot(E,X_0[0]))\n",
    "# print type(interval[1,2])\n",
    "# #func = np.vectorize(lambda x: interval(x))\n",
    "# A = A.astype(interval)\n",
    "# print(A[0][0])\n",
    "# print"
   ]
  },
  {
   "cell_type": "markdown",
   "metadata": {},
   "source": [
    "## Krawczyk methodによる線形方程式"
   ]
  },
  {
   "cell_type": "markdown",
   "metadata": {},
   "source": [
    "### $Ax = b$を解く\n",
    "- $Y \\simeq A^{-1}, E = I - YA$\n",
    "- $X^{(k+1)} = \\{Yb + EX^{(k)}\\} \\cap X^{(k)}$, where $X^{(0)}_i  =  [-1,1] \\|Yb\\|  /  (1-\\|E\\|)$ $(i = 1,...,n)$"
   ]
  },
  {
   "cell_type": "code",
   "execution_count": 4,
   "metadata": {
    "collapsed": true
   },
   "outputs": [],
   "source": [
    "def linear_equation_by_krawczyk(A,b,Y=None):\n",
    "    \"\"\"\n",
    "    A = np.array([[3,1],[3,2]])\n",
    "    b = np.array([1,0])\n",
    "    Y ~= A^{-1}\n",
    "    \"\"\"\n",
    "    def dot(x,y):\n",
    "        mat = [[0]*len(y[0]) for i in range(len(x))]\n",
    "        for i in range(len(x)):\n",
    "            for j in range(len(y[0])):\n",
    "                sum = 0\n",
    "                for k in range(len(x[0])):\n",
    "                    sum = sum + x[i][k] * y[k][j]\n",
    "                mat[i][j] = sum\n",
    "        return mat\n",
    "\n",
    "    def add(x,y):\n",
    "        res = map(lambda a: a[0][0]+a[1][0], zip(x,y))\n",
    "        return map(lambda x: [x], res)\n",
    "\n",
    "    def iteration(Y,b, E, X):\n",
    "        left = np.dot(Y,b).reshape(len(X),1).tolist()\n",
    "        right = dot(E.tolist(), X)\n",
    "        NX = add(left, right)\n",
    "        return map(lambda (x,y): [x[0]&y[0]], zip(NX,X_0))\n",
    "    \n",
    "    norm = lambda x : np.linalg.norm(x, np.inf)\n",
    "    f_num = A.shape[0]\n",
    "    variable_num = A.shape[1]\n",
    "    if Y is None:\n",
    "         Y = np.around(np.linalg.pinv(A), decimals=2)\n",
    "    E = np.eye(f_num) - np.dot(Y,A)\n",
    "    X_0 = [[interval[-1,1] * norm(np.dot(Y,b)) / (1 - norm(E))] for i in range(variable_num)]\n",
    "\n",
    "    next_X = X_0\n",
    "    for i in range(5):\n",
    "        #print i, next_X\n",
    "        print 'iteration times : %d'  % i\n",
    "        pprint(next_X)\n",
    "        print\n",
    "        next_X = iteration(Y, b, E, next_X)"
   ]
  },
  {
   "cell_type": "code",
   "execution_count": 5,
   "metadata": {
    "collapsed": false
   },
   "outputs": [
    {
     "name": "stdout",
     "output_type": "stream",
     "text": [
      "[[interval([-1.1111111111111114, 1.1111111111111114])], [interval([-1.1111111111111114, 1.1111111111111114])]]\n",
      "iteration times : 0\n",
      "[[interval([-1.1111111111111114, 1.1111111111111114])],\n",
      " [interval([-1.1111111111111114, 1.1111111111111114])]]\n",
      "\n",
      "iteration times : 1\n",
      "[[interval([0.4888888888888887, 0.7111111111111112])], [interval([-1.0])]]\n",
      "\n",
      "iteration times : 2\n",
      "[[interval([0.6488888888888888, 0.6711111111111112])], [interval([-1.0])]]\n",
      "\n",
      "iteration times : 3\n",
      "[[interval([0.6648888888888889, 0.6671111111111112])], [interval([-1.0])]]\n",
      "\n",
      "iteration times : 4\n",
      "[[interval([0.6664888888888889, 0.6667111111111113])], [interval([-1.0])]]\n",
      "\n"
     ]
    }
   ],
   "source": [
    "A = np.array([[3,1],[3,2]])\n",
    "b = np.array([1,0])\n",
    "#Y = np.linalg.pinv(A)\n",
    "\n",
    "Y = np.array([[0.6,-0.3],[-1,1]])\n",
    "X_0 = [[interval[-1,1]*norm(np.dot(Y,b))/(1-norm(E))] for i in range(2)]\n",
    "print X_0\n",
    "\n",
    "linear_equation_by_krawczyk(A,b,Y)"
   ]
  },
  {
   "cell_type": "markdown",
   "metadata": {},
   "source": [
    "#### http://youngleaf.web.fc2.com/m-1/m-1-4-siki/m1-4-4.html 問題4"
   ]
  },
  {
   "cell_type": "code",
   "execution_count": 6,
   "metadata": {
    "collapsed": false,
    "scrolled": false
   },
   "outputs": [
    {
     "name": "stdout",
     "output_type": "stream",
     "text": [
      "iteration times : 0\n",
      "[[interval([-4.104166666666667, 4.104166666666667])],\n",
      " [interval([-4.104166666666667, 4.104166666666667])],\n",
      " [interval([-4.104166666666667, 4.104166666666667])]]\n",
      "\n",
      "iteration times : 1\n",
      "[[interval([1.9379166666666665, 2.1020833333333337])],\n",
      " [interval([2.7258333333333336, 3.0541666666666676])],\n",
      " [interval([-4.022083333333333, -3.857916666666667])]]\n",
      "\n",
      "iteration times : 2\n",
      "[[interval([1.9991583333333334, 2.002441666666667])],\n",
      " [interval([2.9945958333333333, 3.0028041666666674])],\n",
      " [interval([-4.001241666666666, -3.997958333333332])]]\n",
      "\n",
      "iteration times : 3\n",
      "[[interval([1.9999791666666666, 2.000044833333334])],\n",
      " [interval([2.9999087083333333, 3.0000892916666673])],\n",
      " [interval([-4.000036833333333, -3.9999711666666657])]]\n",
      "\n",
      "iteration times : 4\n",
      "[[interval([1.9999994233333334, 2.0000007366666672])],\n",
      " [interval([2.9999983820833336, 3.000002157916667])],\n",
      " [interval([-4.000000816666666, -3.999999503333332])]]\n",
      "\n"
     ]
    }
   ],
   "source": [
    "A = np.array([[1,-1,1],[2,1,-3],[3,2,-1]])\n",
    "b = np.array([-5,19,16])\n",
    "linear_equation_by_krawczyk(A,b)\n",
    "    "
   ]
  },
  {
   "cell_type": "code",
   "execution_count": 7,
   "metadata": {
    "collapsed": false
   },
   "outputs": [
    {
     "name": "stdout",
     "output_type": "stream",
     "text": [
      "20\n",
      "[20 20]\n",
      "\n",
      "[<__main__.Person object at 0x105cba510>\n",
      " <__main__.Person object at 0x105cba690>]\n",
      "object\n",
      "<__main__.Person object at 0x105cba510>\n"
     ]
    },
    {
     "data": {
      "text/plain": [
       "array([<__main__.Person object at 0x105cba510>,\n",
       "       <__main__.Person object at 0x105cba690>], dtype=object)"
      ]
     },
     "execution_count": 7,
     "metadata": {},
     "output_type": "execute_result"
    }
   ],
   "source": [
    "class Person(object):\n",
    "    def __init__(self):\n",
    "        self.name = 'taro'\n",
    "        self.age = 10\n",
    "    def __add__(self, other):\n",
    "        return self.age + other.age\n",
    "\n",
    "p1 = Person()\n",
    "p2 = Person()\n",
    "print p1 + p2\n",
    "\n",
    "a = np.array([Person(), Person()], dtype=Person)\n",
    "b = np.array([Person(), Person()], dtype=Person)\n",
    "print a + b\n",
    "print\n",
    "print a\n",
    "print a.dtype\n",
    "print a[0]\n",
    "a"
   ]
  },
  {
   "cell_type": "code",
   "execution_count": 8,
   "metadata": {
    "collapsed": false
   },
   "outputs": [
    {
     "name": "stdout",
     "output_type": "stream",
     "text": [
      "interval([1.0, 2.0])\n",
      "[interval([1.0, 2.0]), interval([2.0, 3.0])]\n",
      "[[[1.0 2.0]]\n",
      "\n",
      " [[2.0 3.0]]]\n",
      "(2, 1, 2)\n",
      "--- b -----\n",
      "[[[2.0 4.0]]\n",
      "\n",
      " [[4.0 6.0]]]\n"
     ]
    }
   ],
   "source": [
    "print interval[1,2]\n",
    "inter1 = interval[1,2]\n",
    "inter2 = interval[2,3]\n",
    "print [inter1, inter2]\n",
    "a = np.array([inter1, inter2], dtype=object)\n",
    "print a\n",
    "print a.shape\n",
    "b =a*2\n",
    "print '--- b -----'\n",
    "print b"
   ]
  },
  {
   "cell_type": "code",
   "execution_count": 9,
   "metadata": {
    "collapsed": false
   },
   "outputs": [
    {
     "data": {
      "text/plain": [
       "array([None, None, None, None], dtype=object)"
      ]
     },
     "execution_count": 9,
     "metadata": {},
     "output_type": "execute_result"
    }
   ],
   "source": [
    "class owl(object):\n",
    "    pass\n",
    "\n",
    "c = np.empty(4, dtype=owl)\n",
    "c"
   ]
  },
  {
   "cell_type": "code",
   "execution_count": null,
   "metadata": {
    "collapsed": true
   },
   "outputs": [],
   "source": []
  }
 ],
 "metadata": {
  "kernelspec": {
   "display_name": "Python 2",
   "language": "python",
   "name": "python2"
  },
  "language_info": {
   "codemirror_mode": {
    "name": "ipython",
    "version": 2
   },
   "file_extension": ".py",
   "mimetype": "text/x-python",
   "name": "python",
   "nbconvert_exporter": "python",
   "pygments_lexer": "ipython2",
   "version": "2.7.11"
  }
 },
 "nbformat": 4,
 "nbformat_minor": 0
}
