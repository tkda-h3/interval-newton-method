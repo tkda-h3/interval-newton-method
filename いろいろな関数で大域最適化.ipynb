{
 "cells": [
  {
   "cell_type": "code",
   "execution_count": 24,
   "metadata": {},
   "outputs": [],
   "source": [
    "%matplotlib inline \n",
    "from interval import interval\n",
    "import matplotlib.pyplot as plt\n",
    "from sympy import(\n",
    "    init_printing,\n",
    "    lambdify,\n",
    "    var,\n",
    "    exp,\n",
    "    cos,\n",
    "    sin,\n",
    ")\n",
    "init_printing()\n",
    "import numpy as np\n",
    "\n",
    "from ivmat import ivmat as ip\n",
    "from fmat import fmat\n",
    "from krawczyk import Krawczyk\n",
    "from symbol_derivative import(\n",
    "    get_f_df_ddf_from_symbol_representation,\n",
    "    get_global_minima_from_f_expr,\n",
    "    calc_f_expr_meshgrid,\n",
    "    plot3D,\n",
    "    visualize_optimization_log,\n",
    ")"
   ]
  },
  {
   "cell_type": "code",
   "execution_count": 26,
   "metadata": {},
   "outputs": [],
   "source": [
    "args = var(\"x_1 x_2\")\n",
    "X = ip([[interval[-2, 2.2]],[interval[-2, 2.2]]])"
   ]
  },
  {
   "cell_type": "markdown",
   "metadata": {},
   "source": [
    "## tmp_min_sup = infの時"
   ]
  },
  {
   "cell_type": "code",
   "execution_count": 27,
   "metadata": {},
   "outputs": [
    {
     "data": {
      "image/png": "[encoded data removed]",
      "text/latex": [
       "$$\\left(- \\frac{0.25 V_{max}}{K_{m} + 0.25} + 2.4\\right)^{2} + \\left(- \\frac{0.3 V_{max}}{K_{m} + 0.3} + 2.6\\right)^{2} + \\left(- \\frac{0.4 V_{max}}{K_{m} + 0.4} + 4.2\\right)^{2} + \\left(- \\frac{0.5 V_{max}}{K_{m} + 0.5} + 3.8\\right)^{2} + \\left(- \\frac{0.7 V_{max}}{K_{m} + 0.7} + 6.2\\right)^{2} + \\left(- \\frac{1.0 V_{max}}{K_{m} + 1.0} + 7.4\\right)^{2}$$"
      ],
      "text/plain": [
       "                    2                      2                      2           \n",
       "⎛  0.25⋅V_max      ⎞    ⎛  0.3⋅V_max      ⎞    ⎛  0.4⋅V_max      ⎞    ⎛  0.5⋅V\n",
       "⎜- ────────── + 2.4⎟  + ⎜- ───────── + 2.6⎟  + ⎜- ───────── + 4.2⎟  + ⎜- ─────\n",
       "⎝  K_m + 0.25      ⎠    ⎝  K_m + 0.3      ⎠    ⎝  K_m + 0.4      ⎠    ⎝  K_m +\n",
       "\n",
       "           2                      2                      2\n",
       "_max      ⎞    ⎛  0.7⋅V_max      ⎞    ⎛  1.0⋅V_max      ⎞ \n",
       "──── + 3.8⎟  + ⎜- ───────── + 6.2⎟  + ⎜- ───────── + 7.4⎟ \n",
       " 0.5      ⎠    ⎝  K_m + 0.7      ⎠    ⎝  K_m + 1.0      ⎠ "
      ]
     },
     "execution_count": 27,
     "metadata": {},
     "output_type": "execute_result"
    }
   ],
   "source": [
    "S_v_list = [\n",
    "    [0.25, 2.4],\n",
    "    [0.30, 2.6],\n",
    "    [0.40, 4.2],\n",
    "    [0.50, 3.8],\n",
    "    [0.70, 6.2],\n",
    "    [1.00, 7.4],\n",
    "]\n",
    "\n",
    "\n",
    "V_max, K_m = var(\"V_max K_m\")\n",
    "f_expr = 0\n",
    "\n",
    "for S, v in S_v_list:\n",
    "    f_expr += (v - V_max * S / (K_m + S)) ** 2\n",
    "    \n",
    "\n",
    "f_expr"
   ]
  },
  {
   "cell_type": "code",
   "execution_count": 28,
   "metadata": {},
   "outputs": [
    {
     "name": "stdout",
     "output_type": "stream",
     "text": [
      "Loop end. cnt:318, len(S):0, len(T):5, len(U):0\n",
      "\n",
      "318\n",
      "---------- 最終的なS[:10] -----------\n",
      "[]\n",
      "---------- 最終的なU[:10] -----------\n",
      "[]\n",
      "---------- 最終的なT -----------\n",
      "[[[interval([-0.018041642747710165, 0.01809424063837388])],\n",
      "  [interval([-1.5718582575133049, -1.5697235845691293])]],\n",
      " [[interval([-1.8625464484394494, -1.8329809140799125])],\n",
      "  [interval([-1.5782200416318668, -1.5634844803213348])]],\n",
      " [[interval([-0.5548350627737365, -0.5543086276419789])],\n",
      "  [interval([-1.5708304517082272, -1.5707625622867625])]],\n",
      " [[interval([-0.5558682847870527, -0.5532763167290693])],\n",
      "  [interval([-1.5708828353408548, -1.570710778639261])]],\n",
      " [[interval([0.8558532700639142, 0.8582934999731249])],\n",
      "  [interval([1.5658680126949531, 1.57536630017288])]]]\n",
      "Start saveing images in image/20171224_221556 dirctory.\n",
      "Finish saveing images in image/20171224_221556 dirctory.\n"
     ]
    }
   ],
   "source": [
    "f_expr = -(0.6*exp(-4*(x_1-2*x_2)**2 - 6*(x_2-0.5)**2) + exp(-7*(cos(2*x_1) - (x_1 - sin(x_2)))**2 - 9*(0.9*cos(x_2))**2))\n",
    "\n",
    "get_global_minima_from_f_expr(f_expr, args, X)"
   ]
  },
  {
   "cell_type": "markdown",
   "metadata": {},
   "source": [
    "## tmp_min_sup = nelder-meadの局所最小値"
   ]
  },
  {
   "cell_type": "code",
   "execution_count": 29,
   "metadata": {
    "collapsed": true
   },
   "outputs": [],
   "source": [
    "f, df, ddf = get_f_df_ddf_from_symbol_representation(f_expr, args)"
   ]
  },
  {
   "cell_type": "code",
   "execution_count": 30,
   "metadata": {},
   "outputs": [
    {
     "name": "stdout",
     "output_type": "stream",
     "text": [
      "-0.995304948828\n"
     ]
    }
   ],
   "source": [
    "from nelder_mead import NelderMead\n",
    "np_func = lambdify([args], f_expr, modules=np)\n",
    "seed_num = 2232\n",
    "np.random.seed(seed_num)\n",
    "low = -2.5\n",
    "high = 2.5\n",
    "points = np.random.uniform(low=low, high=high, size=(3,2))\n",
    "nelder = NelderMead(np_func, points)\n",
    "for i in range(1, 100+1):\n",
    "    nelder.update_points()\n",
    "local_minima = nelder.func(nelder.points[0])\n",
    "print local_minima"
   ]
  },
  {
   "cell_type": "code",
   "execution_count": 31,
   "metadata": {},
   "outputs": [
    {
     "name": "stdout",
     "output_type": "stream",
     "text": [
      "Loop end. cnt:114, len(S):0, len(T):5, len(U):0\n",
      "\n",
      "114\n",
      "---------- 最終的なS[:10] -----------\n",
      "[]\n",
      "---------- 最終的なU[:10] -----------\n",
      "[]\n",
      "---------- 最終的なT -----------\n",
      "[[[interval([-0.018041642747710165, 0.01809424063837388])],\n",
      "  [interval([-1.5718582575133049, -1.5697235845691293])]],\n",
      " [[interval([-1.8625464484394494, -1.8329809140799125])],\n",
      "  [interval([-1.5782200416318668, -1.5634844803213348])]],\n",
      " [[interval([-0.5548350627737365, -0.5543086276419789])],\n",
      "  [interval([-1.5708304517082272, -1.5707625622867625])]],\n",
      " [[interval([-0.5558682847870527, -0.5532763167290693])],\n",
      "  [interval([-1.5708828353408548, -1.570710778639261])]],\n",
      " [[interval([0.8558532700639142, 0.8582934999731249])],\n",
      "  [interval([1.5658680126949531, 1.57536630017288])]]]\n",
      "Start saveing images in image/20171224_221710 dirctory.\n",
      "Finish saveing images in image/20171224_221710 dirctory.\n"
     ]
    }
   ],
   "source": [
    "krawczyk = Krawczyk(df, ddf, X)\n",
    "_1, _2, _3, _4, animation_box = krawczyk.find_global_minimum(f, tmp_min_sup=local_minima, trace=False, cnt_max=500)\n",
    "visualize_optimization_log(krawczyk, f, animation_box)"
   ]
  },
  {
   "cell_type": "code",
   "execution_count": null,
   "metadata": {
    "collapsed": true
   },
   "outputs": [],
   "source": []
  },
  {
   "cell_type": "code",
   "execution_count": null,
   "metadata": {
    "collapsed": true
   },
   "outputs": [],
   "source": []
  },
  {
   "cell_type": "code",
   "execution_count": null,
   "metadata": {
    "collapsed": true
   },
   "outputs": [],
   "source": []
  }
 ],
 "metadata": {
  "kernelspec": {
   "display_name": "Python 2",
   "language": "python",
   "name": "python2"
  },
  "language_info": {
   "codemirror_mode": {
    "name": "ipython",
    "version": 2
   },
   "file_extension": ".py",
   "mimetype": "text/x-python",
   "name": "python",
   "nbconvert_exporter": "python",
   "pygments_lexer": "ipython2",
   "version": "2.7.13"
  }
 },
 "nbformat": 4,
 "nbformat_minor": 2
}
