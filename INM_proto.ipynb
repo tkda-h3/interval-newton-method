{
 "cells": [
  {
   "cell_type": "markdown",
   "metadata": {
    "ein.tags": [
     "worksheet-0"
    ]
   },
   "source": [
    "# Interval Newton Methods prototype"
   ]
  },
  {
   "cell_type": "code",
   "execution_count": 24,
   "metadata": {
    "autoscroll": "json-false",
    "collapsed": false,
    "ein.tags": [
     "worksheet-0"
    ]
   },
   "outputs": [],
   "source": [
    "import numpy as np\n",
    "from sympy import *\n",
    "init_printing()\n",
    "import math\n",
    "from interval import interval\n",
    "from interval import imath as im"
   ]
  },
  {
   "cell_type": "markdown",
   "metadata": {
    "ein.tags": [
     "worksheet-0"
    ]
   },
   "source": [
    "## 区間ニュートン法"
   ]
  },
  {
   "cell_type": "markdown",
   "metadata": {
    "ein.tags": [
     "worksheet-0"
    ]
   },
   "source": [
    "$X^{k+1} = X^{k} \\cap N(X^{k}) (k = 0,1,...)$,\n",
    "where\n",
    "$N(X) = m(X) - f(m(X))/F^{'}(X) $\n"
   ]
  },
  {
   "cell_type": "markdown",
   "metadata": {
    "ein.tags": [
     "worksheet-0"
    ]
   },
   "source": [
    "### Sympyで関数定義"
   ]
  },
  {
   "cell_type": "code",
   "execution_count": 25,
   "metadata": {
    "autoscroll": "json-false",
    "collapsed": false,
    "ein.tags": [
     "worksheet-0"
    ]
   },
   "outputs": [
    {
     "name": "stdout",
     "output_type": "stream",
     "text": [
      "x**3 - 40*x**2 + 3000\n"
     ]
    },
    {
     "data": {
      "image/png": "[encoded data removed]",
      "text/latex": [
       "$$x^{3} - 40 x^{2} + 3000$$"
      ],
      "text/plain": [
       " 3       2       \n",
       "x  - 40⋅x  + 3000"
      ]
     },
     "execution_count": 25,
     "metadata": {},
     "output_type": "execute_result"
    }
   ],
   "source": [
    "x,c = symbols(\"x c\")\n",
    "f = symbols('f', cls=Function)\n",
    "f = x**3 - 40*x**2 +3000\n",
    "#f = x**2 - c \n",
    "#f = tan((float(3)/2)*pi*x) - sqrt(sin(x)**2 - (float(9)/4)**(-1)) / cos(x)\n",
    "# init_printing(pretty_print = False)\n",
    "print str(f)\n",
    "\n",
    "f"
   ]
  },
  {
   "cell_type": "markdown",
   "metadata": {
    "ein.tags": [
     "worksheet-0"
    ]
   },
   "source": [
    "### fの微分"
   ]
  },
  {
   "cell_type": "code",
   "execution_count": 26,
   "metadata": {
    "autoscroll": "json-false",
    "collapsed": false,
    "ein.tags": [
     "worksheet-0"
    ]
   },
   "outputs": [],
   "source": [
    "# interval[-10, 10].newton(lambda x: x - x**3, lambda x: 1 - 3*x**2)\n",
    "\n",
    "func = lambda x: eval(str(f))\n",
    "#func = lambda x: x**2  - interval([3,3])\n",
    "deriv_eval_str = str(f.diff(x))\n",
    "deriv_func = lambda x: eval(deriv_eval_str)"
   ]
  },
  {
   "cell_type": "code",
   "execution_count": 27,
   "metadata": {
    "autoscroll": "json-false",
    "collapsed": false,
    "ein.tags": [
     "worksheet-0"
    ]
   },
   "outputs": [
    {
     "data": {
      "image/png": "[encoded data removed]",
      "text/latex": [
       "$$2848$$"
      ],
      "text/plain": [
       "2848"
      ]
     },
     "execution_count": 27,
     "metadata": {},
     "output_type": "execute_result"
    }
   ],
   "source": [
    "func(2)"
   ]
  },
  {
   "cell_type": "code",
   "execution_count": 28,
   "metadata": {
    "collapsed": false
   },
   "outputs": [
    {
     "name": "stdout",
     "output_type": "stream",
     "text": [
      "2848\n"
     ]
    }
   ],
   "source": [
    "print func(2)\n",
    "#print deriv_func(0)"
   ]
  },
  {
   "cell_type": "markdown",
   "metadata": {
    "ein.tags": [
     "worksheet-0"
    ]
   },
   "source": [
    "### [PyInterval](http://pyinterval.readthedocs.io/en/latest/_modules/interval.html#interval.newton)でnewton法"
   ]
  },
  {
   "cell_type": "code",
   "execution_count": 29,
   "metadata": {
    "collapsed": false
   },
   "outputs": [
    {
     "data": {
      "image/png": "[encoded data removed]",
      "text/latex": [
       "$$\\left ( \\left ( -0.9899924966, \\quad 1.0\\right )\\right )$$"
      ],
      "text/plain": [
       "((-0.9899924966, 1.0),)"
      ]
     },
     "execution_count": 29,
     "metadata": {},
     "output_type": "execute_result"
    }
   ],
   "source": [
    "sita = interval[-2,3]\n",
    "im.cos(sita)"
   ]
  },
  {
   "cell_type": "code",
   "execution_count": 30,
   "metadata": {
    "autoscroll": "json-false",
    "collapsed": false,
    "ein.tags": [
     "worksheet-0"
    ]
   },
   "outputs": [
    {
     "data": {
      "image/png": "[encoded data removed]",
      "text/latex": [
       "$$\\left ( \\left ( -7.91287847478, \\quad -7.91287847478\\right ), \\quad \\left ( 10.0, \\quad 10.0\\right )\\right )$$"
      ],
      "text/plain": [
       "((-7.91287847478, -7.91287847478), (10.0, 10.0))"
      ]
     },
     "execution_count": 30,
     "metadata": {},
     "output_type": "execute_result"
    }
   ],
   "source": [
    "X_0 = interval[-14,10]\n",
    "#print X_0.newton(func, deriv_func)\n",
    "def tracer_cb(x,y):\n",
    "    pass\n",
    "    #print \"status : %s, current : %s\" % (x,y)\n",
    "\n",
    "pyinterval_ans = X_0.newton(func, deriv_func, maxiter = 100,tracer_cb=tracer_cb)\n",
    "pyinterval_ans"
   ]
  },
  {
   "cell_type": "markdown",
   "metadata": {},
   "source": [
    "### 自分でnewton法を実装"
   ]
  },
  {
   "cell_type": "code",
   "execution_count": 31,
   "metadata": {
    "autoscroll": "json-false",
    "collapsed": false,
    "ein.tags": [
     "worksheet-0"
    ],
    "scrolled": true
   },
   "outputs": [
    {
     "name": "stdout",
     "output_type": "stream",
     "text": [
      "---結果の比較---------------------------------------------------------------------------------------------------------\n",
      "interval([-7.91287847478, -7.91287847478], [10.0])\n",
      "\n",
      "interval([-7.91287847478, -7.91287847478], [10.0])\n"
     ]
    }
   ],
   "source": [
    "def interval_newton_method(func, deriv_func, current,trace=False,depth=0):\n",
    "    prefix = (\"|\" + \" \"*7)*depth\n",
    "    if trace: print prefix +\"-- start -- current : %s\" % str(current)\n",
    "    for epoch in xrange(30):\n",
    "        prev = current\n",
    "        mid = prev.midpoint\n",
    "        N =  mid - func(mid) / deriv_func(prev)\n",
    "        current = prev & N\n",
    "        if trace: print prefix + \"current : \" + str(current) \n",
    "        if len(current) > 1:\n",
    "            res = [interval_newton_method(func,deriv_func, interval[val],trace, depth+1) for val in current]\n",
    "            res = reduce(lambda x,y: x|y, res)\n",
    "            if trace: print prefix + \"res : \" + str(res) \n",
    "            if trace: print prefix\n",
    "            return res\n",
    "        elif current == interval(): # これ以上繰り返す必要なし\n",
    "            if trace: print prefix\n",
    "            return current\n",
    "        elif current == prev: # これ以上繰り返す必要なし\n",
    "            if trace: print prefix + \"前回と同じなので終了\"\n",
    "            return current\n",
    "    if trace: print prefix\n",
    "    return current\n",
    "\n",
    "my_func_ans =  interval_newton_method(func, deriv_func, X_0,trace=False)\n",
    "print \"---結果の比較\"+\"-------\"*15\n",
    "print my_func_ans\n",
    "print \n",
    "print pyinterval_ans\n"
   ]
  },
  {
   "cell_type": "code",
   "execution_count": 32,
   "metadata": {
    "collapsed": false
   },
   "outputs": [
    {
     "data": {
      "image/png": "[encoded data removed]",
      "text/latex": [
       "$$\\left [ 10, \\quad 15 + 5 \\sqrt{21}, \\quad - 5 \\sqrt{21} + 15\\right ]$$"
      ],
      "text/plain": [
       "[10, 15 + 5⋅√21, -5⋅√21 + 15]"
      ]
     },
     "execution_count": 32,
     "metadata": {},
     "output_type": "execute_result"
    }
   ],
   "source": [
    "var(\"x\")      # a～zまで変数として扱う\n",
    "eq = Eq(eval(str(f)), 0)   # 方程式の定義\n",
    "ans = solve(eq)         # 方程式の解を計算\n",
    "\n",
    "symbols(\"x\")\n",
    "\n",
    "ans"
   ]
  },
  {
   "cell_type": "markdown",
   "metadata": {},
   "source": [
    "### $f = cos(x)$"
   ]
  },
  {
   "cell_type": "code",
   "execution_count": 33,
   "metadata": {
    "collapsed": false
   },
   "outputs": [
    {
     "name": "stdout",
     "output_type": "stream",
     "text": [
      "interval([-7.85398163397, -7.85398163397], [-4.71238898038, -4.71238898038], [-1.57079632679, -1.57079632679], [1.57079632679, 1.57079632679], [4.71238898038, 4.71238898038], [7.85398163397, 7.85398163397])\n",
      "\n",
      "interval([-7.85398163397, -7.85398163397], [-4.71238898038, -4.71238898038], [-1.57079632679, -1.57079632679], [1.57079632679, 1.57079632679], [4.71238898038, 4.71238898038], [7.85398163397, 7.85398163397])\n"
     ]
    }
   ],
   "source": [
    "func = lambda x: im.cos(x)\n",
    "deriv_func = lambda x: -im.sin(x)\n",
    "\n",
    "X_0 = interval[-10,10]\n",
    "print X_0.newton(func,deriv_func)\n",
    "print \n",
    "print interval_newton_method(func,deriv_func,X_0)\n"
   ]
  },
  {
   "cell_type": "code",
   "execution_count": 34,
   "metadata": {
    "collapsed": false
   },
   "outputs": [
    {
     "name": "stdout",
     "output_type": "stream",
     "text": [
      "interval()\n",
      "\n",
      "interval()\n"
     ]
    }
   ],
   "source": [
    "func = lambda x: x**2 - interval[2,3]\n",
    "defiv_func = lambda x: 2*x\n",
    "\n",
    "X_0 = interval[1,2]\n",
    "print X_0.newton(func,deriv_func)\n",
    "print \n",
    "print interval_newton_method(func,deriv_func,X_0)\n"
   ]
  },
  {
   "cell_type": "code",
   "execution_count": null,
   "metadata": {
    "collapsed": true
   },
   "outputs": [],
   "source": []
  }
 ],
 "metadata": {
  "kernelspec": {
   "display_name": "Python 2",
   "language": "python",
   "name": "python2"
  },
  "language_info": {
   "codemirror_mode": {
    "name": "ipython",
    "version": 2
   },
   "file_extension": ".py",
   "mimetype": "text/x-python",
   "name": "python",
   "nbconvert_exporter": "python",
   "pygments_lexer": "ipython2",
   "version": "2.7.11"
  },
  "name": "INM_proto.ipynb"
 },
 "nbformat": 4,
 "nbformat_minor": 0
}
