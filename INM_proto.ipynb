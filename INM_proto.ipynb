{
 "cells": [
  {
   "cell_type": "markdown",
   "metadata": {
    "ein.tags": [
     "worksheet-0"
    ]
   },
   "source": [
    "# Interval Newton Methods prototype"
   ]
  },
  {
   "cell_type": "code",
   "execution_count": 1,
   "metadata": {
    "autoscroll": "json-false",
    "collapsed": false,
    "ein.tags": [
     "worksheet-0"
    ]
   },
   "outputs": [],
   "source": [
    "import numpy as np\n",
    "from sympy import *\n",
    "init_printing()\n",
    "# import math\n",
    "from math import *\n",
    "from interval import interval\n",
    "from interval import imath as im"
   ]
  },
  {
   "cell_type": "markdown",
   "metadata": {},
   "source": [
    "## Sympy"
   ]
  },
  {
   "cell_type": "markdown",
   "metadata": {
    "ein.tags": [
     "worksheet-0"
    ]
   },
   "source": [
    "### Sympyで関数定義"
   ]
  },
  {
   "cell_type": "code",
   "execution_count": 2,
   "metadata": {
    "autoscroll": "json-false",
    "collapsed": false,
    "ein.tags": [
     "worksheet-0"
    ]
   },
   "outputs": [
    {
     "name": "stdout",
     "output_type": "stream",
     "text": [
      "x**3 - 40*x**2 + 3000\n"
     ]
    },
    {
     "data": {
      "image/png": "[encoded data removed]",
      "text/latex": [
       "$$x^{3} - 40 x^{2} + 3000$$"
      ],
      "text/plain": [
       " 3       2       \n",
       "x  - 40⋅x  + 3000"
      ]
     },
     "execution_count": 2,
     "metadata": {},
     "output_type": "execute_result"
    }
   ],
   "source": [
    "x,c = symbols(\"x c\")\n",
    "f = symbols('f', cls=Function)\n",
    "f = x**3 - 40*x**2 +3000 \n",
    "#f = x**2 - c \n",
    "#f = tan((float(3)/2)*pi*x) - sqrt(sin(x)**2 - (float(9)/4)**(-1)) / cos(x)\n",
    "# init_printing(pretty_print = False)\n",
    "print str(f)\n",
    "\n",
    "f"
   ]
  },
  {
   "cell_type": "markdown",
   "metadata": {
    "ein.tags": [
     "worksheet-0"
    ]
   },
   "source": [
    "### fの微分"
   ]
  },
  {
   "cell_type": "code",
   "execution_count": 3,
   "metadata": {
    "autoscroll": "json-false",
    "collapsed": false,
    "ein.tags": [
     "worksheet-0"
    ],
    "scrolled": true
   },
   "outputs": [
    {
     "data": {
      "image/png": "[encoded data removed]",
      "text/latex": [
       "$$3 x^{2} - 80 x$$"
      ],
      "text/plain": [
       "   2       \n",
       "3⋅x  - 80⋅x"
      ]
     },
     "execution_count": 3,
     "metadata": {},
     "output_type": "execute_result"
    }
   ],
   "source": [
    "f.diff(x)"
   ]
  },
  {
   "cell_type": "markdown",
   "metadata": {},
   "source": [
    "### symbolを文字列化して評価"
   ]
  },
  {
   "cell_type": "code",
   "execution_count": 4,
   "metadata": {
    "autoscroll": "json-false",
    "collapsed": false,
    "ein.tags": [
     "worksheet-0"
    ]
   },
   "outputs": [
    {
     "name": "stdout",
     "output_type": "stream",
     "text": [
      "<function <lambda> at 0x105c3bf50>\n",
      "<function <lambda> at 0x105ccb0c8>\n",
      "2125\n",
      "-500\n"
     ]
    }
   ],
   "source": [
    "func = lambda x: eval(str(f))\n",
    "deriv_eval_str = str(f.diff(x))\n",
    "deriv_func = lambda x: eval(deriv_eval_str)\n",
    "\n",
    "print func\n",
    "print deriv_func\n",
    "\n",
    "#例\n",
    "print func(5)\n",
    "print deriv_func(10)"
   ]
  },
  {
   "cell_type": "markdown",
   "metadata": {
    "ein.tags": [
     "worksheet-0"
    ]
   },
   "source": [
    "## [PyInterval](http://pyinterval.readthedocs.io/en/latest/_modules/interval.html#interval.newton)"
   ]
  },
  {
   "cell_type": "markdown",
   "metadata": {},
   "source": [
    "### cheet sheet"
   ]
  },
  {
   "cell_type": "code",
   "execution_count": 5,
   "metadata": {
    "collapsed": false,
    "scrolled": true
   },
   "outputs": [
    {
     "name": "stdout",
     "output_type": "stream",
     "text": [
      "interval([-2.0, 3.0])\n",
      "interval([-0.9899924966, 1.0])\n",
      "interval([0.0, 1.0], [2.0, 3.0], [10.0, 15.0])\n",
      "p : (0.0, 1.0)\n",
      "q : 0.0\n",
      "q : 1.0\n",
      "-------------------------\n",
      "p : (2.0, 3.0)\n",
      "q : 2.0\n",
      "q : 3.0\n",
      "-------------------------\n",
      "p : (10.0, 15.0)\n",
      "q : 10.0\n",
      "q : 15.0\n",
      "-------------------------\n"
     ]
    }
   ],
   "source": [
    "sita = interval[-2,3]\n",
    "print sita\n",
    "print im.cos(sita)\n",
    "\n",
    "a = interval([0, 1], [2, 3], [10, 15])\n",
    "print a\n",
    "for p in a:\n",
    "    print \"p : \" + str(p)\n",
    "    for q in p:\n",
    "        print \"q : \" + str(q)\n",
    "    print '-----'*5\n",
    "    "
   ]
  },
  {
   "cell_type": "markdown",
   "metadata": {
    "ein.tags": [
     "worksheet-0"
    ]
   },
   "source": [
    "## 区間ニュートン法\n",
    "$X^{k+1} = X^{k} \\cap N(X^{k}) (k = 0,1,...)$,\n",
    "where\n",
    "$N(X) = m(X) - f(m(X))/F^{'}(X) $\n"
   ]
  },
  {
   "cell_type": "markdown",
   "metadata": {},
   "source": [
    "### 自分でnewton法を実装"
   ]
  },
  {
   "cell_type": "code",
   "execution_count": 6,
   "metadata": {
    "collapsed": false
   },
   "outputs": [],
   "source": [
    "def interval_newton_method(func, deriv_func, current, maxiter=100, trace=False,depth=0):\n",
    "    def extract_pivot(i):\n",
    "        yield i.midpoint\n",
    "        for x in i:\n",
    "            for num in x:\n",
    "                yield interval(num)\n",
    "\n",
    "    def refine_by_intersection(pivot, interval):\n",
    "            N = pivot - func(pivot) / deriv_func(interval)\n",
    "            return N & interval\n",
    "            \n",
    "    prefix = (\"|\" + \" \"*7)*depth\n",
    "    if trace: print prefix +\"-- start -- current : %s\" % str(current)\n",
    "    for epoch in xrange(maxiter):\n",
    "        if trace: print prefix + \"epoch : \" + str(epoch)\n",
    "        prev = current\n",
    "        for i, p in enumerate(extract_pivot(current)):\n",
    "            current = refine_by_intersection(p,current)\n",
    "            if trace: print prefix + \"pivot index : \" + str(i) + \", current after intersection : \" + str(current) \n",
    "            if current == prev: next\n",
    "            else: break\n",
    "        else:#これ以上繰り返す必要なし\n",
    "            return current \n",
    "        if len(current) > 1: #再帰\n",
    "            res = [interval_newton_method(func,deriv_func, interval[val], maxiter, trace, depth+1) for val in current]\n",
    "            res = reduce(lambda x,y: x|y, res)\n",
    "            return res\n",
    "        elif current == interval(): # これ以上繰り返す必要なし\n",
    "            return current\n",
    "    return current"
   ]
  },
  {
   "cell_type": "markdown",
   "metadata": {},
   "source": [
    "### 例1"
   ]
  },
  {
   "cell_type": "code",
   "execution_count": 7,
   "metadata": {
    "collapsed": false,
    "scrolled": true
   },
   "outputs": [
    {
     "data": {
      "image/png": "[encoded data removed]",
      "text/latex": [
       "$$x^{3} - 40 x^{2} + 3000$$"
      ],
      "text/plain": [
       " 3       2       \n",
       "x  - 40⋅x  + 3000"
      ]
     },
     "execution_count": 7,
     "metadata": {},
     "output_type": "execute_result"
    }
   ],
   "source": [
    "func = lambda x: eval(str(f))\n",
    "deriv_eval_str = str(f.diff(x))\n",
    "deriv_func = lambda x: eval(deriv_eval_str)\n",
    "f"
   ]
  },
  {
   "cell_type": "markdown",
   "metadata": {},
   "source": [
    "#### 事前にsympyで答えを把握"
   ]
  },
  {
   "cell_type": "code",
   "execution_count": 8,
   "metadata": {
    "collapsed": false
   },
   "outputs": [
    {
     "name": "stdout",
     "output_type": "stream",
     "text": [
      "[10, 15 + 5*sqrt(21), -5*sqrt(21) + 15]\n"
     ]
    },
    {
     "data": {
      "image/png": "[encoded data removed]",
      "text/latex": [
       "$$\\left [ 10, \\quad 37.9128784748, \\quad -7.91287847478\\right ]$$"
      ],
      "text/plain": [
       "[10, 37.9128784748, -7.91287847478]"
      ]
     },
     "execution_count": 8,
     "metadata": {},
     "output_type": "execute_result"
    }
   ],
   "source": [
    "var(\"x\")      # a～zまで変数として扱う\n",
    "eq = Eq(eval(str(f)), 0)   # 方程式の定義\n",
    "ans = solve(eq)         # 方程式の解を計算\n",
    "print ans\n",
    "symbols(\"x\")\n",
    "\n",
    "calc_ans = [eval(str(a)) for a in ans]\n",
    "calc_ans\n"
   ]
  },
  {
   "cell_type": "markdown",
   "metadata": {},
   "source": [
    "#### pyintervalで区間ニュートン法"
   ]
  },
  {
   "cell_type": "code",
   "execution_count": 9,
   "metadata": {
    "autoscroll": "json-false",
    "collapsed": false,
    "ein.tags": [
     "worksheet-0"
    ]
   },
   "outputs": [
    {
     "data": {
      "image/png": "[encoded data removed]",
      "text/latex": [
       "$$\\left ( \\left ( -7.91287847478, \\quad -7.91287847478\\right ), \\quad \\left ( 10.0, \\quad 10.0\\right ), \\quad \\left ( 37.9128784748, \\quad 37.9128784748\\right )\\right )$$"
      ],
      "text/plain": [
       "((-7.91287847478, -7.91287847478), (10.0, 10.0), (37.9128784748, 37.9128784748\n",
       "))"
      ]
     },
     "execution_count": 9,
     "metadata": {},
     "output_type": "execute_result"
    }
   ],
   "source": [
    "X_0 = interval[-14,155]\n",
    "\n",
    "def tracer_cb(x,y):\n",
    "    pass\n",
    "\n",
    "pyinterval_ans = X_0.newton(func, deriv_func, maxiter = 100,tracer_cb=tracer_cb)\n",
    "pyinterval_ans"
   ]
  },
  {
   "cell_type": "markdown",
   "metadata": {},
   "source": [
    "#### 自作の区間ニュートン法"
   ]
  },
  {
   "cell_type": "code",
   "execution_count": 10,
   "metadata": {
    "collapsed": false
   },
   "outputs": [
    {
     "data": {
      "image/png": "[encoded data removed]",
      "text/latex": [
       "$$\\left ( \\left ( -7.91287847478, \\quad -7.91287847478\\right ), \\quad \\left ( 10.0, \\quad 10.0\\right ), \\quad \\left ( 37.9128784748, \\quad 37.9128784748\\right )\\right )$$"
      ],
      "text/plain": [
       "((-7.91287847478, -7.91287847478), (10.0, 10.0), (37.9128784748, 37.9128784748\n",
       "))"
      ]
     },
     "execution_count": 10,
     "metadata": {},
     "output_type": "execute_result"
    }
   ],
   "source": [
    " interval_newton_method(func,deriv_func,X_0,maxiter=100,trace=False)"
   ]
  },
  {
   "cell_type": "markdown",
   "metadata": {},
   "source": [
    "### p113. Example 8.3 $f(x)=x^2 - c $, for $c \\in [2,3]$"
   ]
  },
  {
   "cell_type": "code",
   "execution_count": 11,
   "metadata": {
    "collapsed": false
   },
   "outputs": [
    {
     "name": "stdout",
     "output_type": "stream",
     "text": [
      "-------------結果の比較------------------------------\n",
      "-- 自作newton\n",
      "interval([-1.73205080757, -1.41421356237], [1.41421356237, 1.73205080757])\n",
      "\n",
      "-- pyinterval newton\n",
      "interval([-1.73205080757, -1.41421356237], [1.41421356237, 1.73205080757])\n"
     ]
    }
   ],
   "source": [
    "func = lambda x: x**2 - interval[2,3]\n",
    "deriv_func = lambda x: 2*x\n",
    "X_0 = interval[-10,20]\n",
    "\n",
    "print \"--\"*5+\"---結果の比較\"+\"--\"*15\n",
    "print '-- 自作newton'\n",
    "print interval_newton_method(func,deriv_func,X_0,maxiter=100,trace=False)\n",
    "# print interval_newton_method(func,deriv_func,X_0,maxiter=100,trace=True)\n",
    "print\n",
    "print '-- pyinterval newton'\n",
    "print X_0.newton(func,deriv_func)\n"
   ]
  },
  {
   "cell_type": "markdown",
   "metadata": {},
   "source": [
    "### $f = cos(x)$"
   ]
  },
  {
   "cell_type": "code",
   "execution_count": 12,
   "metadata": {
    "collapsed": false,
    "scrolled": true
   },
   "outputs": [
    {
     "name": "stdout",
     "output_type": "stream",
     "text": [
      "interval([-4.71238898038, -4.71238898038], [-1.57079632679, -1.57079632679], [1.57079632679, 1.57079632679])\n",
      "\n",
      "interval([-4.71238898038, -4.71238898038], [-1.57079632679, -1.57079632679], [1.57079632679, 1.57079632679])\n"
     ]
    }
   ],
   "source": [
    "func = lambda x: im.cos(x)\n",
    "deriv_func = lambda x: -im.sin(x)\n",
    "\n",
    "X_0 = interval[-5,2]\n",
    "print X_0.newton(func,deriv_func)\n",
    "print \n",
    "print interval_newton_method(func,deriv_func,X_0)\n"
   ]
  },
  {
   "cell_type": "code",
   "execution_count": null,
   "metadata": {
    "collapsed": true
   },
   "outputs": [],
   "source": []
  }
 ],
 "metadata": {
  "kernelspec": {
   "display_name": "Python 2",
   "language": "python",
   "name": "python2"
  },
  "language_info": {
   "codemirror_mode": {
    "name": "ipython",
    "version": 2
   },
   "file_extension": ".py",
   "mimetype": "text/x-python",
   "name": "python",
   "nbconvert_exporter": "python",
   "pygments_lexer": "ipython2",
   "version": "2.7.11"
  },
  "name": "INM_proto.ipynb"
 },
 "nbformat": 4,
 "nbformat_minor": 0
}
