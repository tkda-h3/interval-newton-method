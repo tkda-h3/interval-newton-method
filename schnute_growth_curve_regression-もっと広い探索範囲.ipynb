{
 "cells": [
  {
   "cell_type": "code",
   "execution_count": 1,
   "metadata": {
    "collapsed": true
   },
   "outputs": [],
   "source": [
    "%matplotlib inline \n",
    "from interval import interval\n",
    "import matplotlib.pyplot as plt\n",
    "from sympy import(\n",
    "    init_printing,\n",
    "    var,\n",
    "    exp,\n",
    "    cos,\n",
    "    sin,\n",
    "    log,\n",
    "    expand_log\n",
    ")\n",
    "from sympy.utilities.lambdify import lambdify \n",
    "from sympy.plotting import plot\n",
    "init_printing()\n",
    "import numpy as np\n",
    "\n",
    "from ivmat import ivmat as ip\n",
    "from fmat import fmat\n",
    "from krawczyk import Krawczyk\n",
    "from symbol_derivative import(\n",
    "    get_f_df_ddf_from_symbol_representation,\n",
    "    get_global_minima_from_f_expr,\n",
    "    calc_f_expr_meshgrid,\n",
    "    plot3D,\n",
    "    visualize_optimization_log,\n",
    ")\n",
    "from nelder_mead import NelderMead"
   ]
  },
  {
   "cell_type": "code",
   "execution_count": 2,
   "metadata": {},
   "outputs": [
    {
     "data": {
      "image/png": "[encoded data removed]",
      "text/latex": [
       "$$\\left(\\beta e^{k t} + \\gamma\\right)^{m}$$"
      ],
      "text/plain": [
       "            m\n",
       "⎛   k⋅t    ⎞ \n",
       "⎝β⋅ℯ    + γ⎠ "
      ]
     },
     "metadata": {},
     "output_type": "display_data"
    },
    {
     "data": {
      "image/png": "[encoded data removed]",
      "text/latex": [
       "$$\\left(0.1 e^{0.5 t} + 10\\right)^{0.5}$$"
      ],
      "text/plain": [
       "                 0.5\n",
       "⎛     0.5⋅t     ⎞   \n",
       "⎝0.1⋅ℯ      + 10⎠   "
      ]
     },
     "metadata": {},
     "output_type": "display_data"
    }
   ],
   "source": [
    "gamma, beta, k, m = args = var(\"gamma, beta, k, m\")\n",
    "t = var(\"t\")\n",
    "\n",
    "curve_expr = ((gamma + beta * exp(k * t)) ** m) \n",
    "display(curve_expr)\n",
    "true_curve_expr = curve_expr.subs([(gamma, 10), (beta, 0.1), (k, 0.5), (m, 0.5)])\n",
    "display(true_curve_expr)\n"
   ]
  },
  {
   "cell_type": "code",
   "execution_count": 3,
   "metadata": {},
   "outputs": [
    {
     "data": {
      "image/png": "[encoded data removed]",
      "text/plain": [
       "<matplotlib.figure.Figure at 0x10bb0fa90>"
      ]
     },
     "metadata": {},
     "output_type": "display_data"
    },
    {
     "name": "stdout",
     "output_type": "stream",
     "text": [
      "[(0, 3.1780497164141406), (5, 3.3493655214189966), (10, 4.9841063301516417), (15, 13.813190849532425)]\n"
     ]
    }
   ],
   "source": [
    "plot(true_curve_expr, (t, 0, 30))\n",
    "true_curve = lambdify(t, true_curve_expr)\n",
    "sample_data = [(time, true_curve(time)) for time in np.arange(0, 20, 5)]\n",
    "print(sample_data)"
   ]
  },
  {
   "cell_type": "code",
   "execution_count": 4,
   "metadata": {},
   "outputs": [
    {
     "data": {
      "image/png": "[encoded data removed]",
      "text/latex": [
       "$$\\left(- m \\log{\\left (\\beta + \\gamma \\right )} + 1.15626771192361\\right)^{2} + \\left(- m \\log{\\left (\\beta e^{5 k} + \\gamma \\right )} + 1.20877093130783\\right)^{2} + \\left(- m \\log{\\left (\\beta e^{10 k} + \\gamma \\right )} + 1.60625411555767\\right)^{2} + \\left(- m \\log{\\left (\\beta e^{15 k} + \\gamma \\right )} + 2.62562399428294\\right)^{2}$$"
      ],
      "text/plain": [
       "                                                                              \n",
       "                                  2   ⎛       ⎛   5⋅k    ⎞                   ⎞\n",
       "(-m⋅log(β + γ) + 1.15626771192361)  + ⎝- m⋅log⎝β⋅ℯ    + γ⎠ + 1.20877093130783⎠\n",
       "\n",
       "2                                            2                                \n",
       "    ⎛       ⎛   10⋅k    ⎞                   ⎞    ⎛       ⎛   15⋅k    ⎞        \n",
       "  + ⎝- m⋅log⎝β⋅ℯ     + γ⎠ + 1.60625411555767⎠  + ⎝- m⋅log⎝β⋅ℯ     + γ⎠ + 2.625\n",
       "\n",
       "            2\n",
       "           ⎞ \n",
       "62399428294⎠ "
      ]
     },
     "metadata": {},
     "output_type": "display_data"
    }
   ],
   "source": [
    "loss_expr = 0\n",
    "for time, value in sample_data:\n",
    "    pred_value = curve_expr.subs(t, time)\n",
    "    value = log(value)\n",
    "    pred_value = expand_log(log(pred_value), force=True)\n",
    "    loss_expr += (value - pred_value) ** 2\n",
    "f_expr = loss_expr\n",
    "display(f_expr)\n",
    "\n",
    "seed_num = 431\n",
    "np.random.seed(seed_num)\n",
    "low = 0.01\n",
    "high = 2.5\n",
    "points = np.random.uniform(low=low, high=high, size=(len(args)+1, len(args)))\n",
    "np_func = lambdify([args], f_expr, modules=np) "
   ]
  },
  {
   "cell_type": "code",
   "execution_count": 11,
   "metadata": {},
   "outputs": [
    {
     "name": "stdout",
     "output_type": "stream",
     "text": [
      "1.75765469638e-11\n"
     ]
    }
   ],
   "source": [
    "points_histories = []\n",
    "local_minima = np.inf\n",
    "for i in range(30):\n",
    "    points = np.random.uniform(low=low, high=high, size=(len(args)+1, len(args)))\n",
    "    nelder = NelderMead(np_func, points)\n",
    "    _local_minima, points_history = nelder.run(500)\n",
    "    points_histories.append(points_history)\n",
    "    local_minima = min(local_minima, _local_minima)\n",
    "points_histories = np.array(points_histories)\n",
    "print local_minima"
   ]
  },
  {
   "cell_type": "code",
   "execution_count": 6,
   "metadata": {
    "collapsed": true
   },
   "outputs": [],
   "source": [
    "f, df, ddf = get_f_df_ddf_from_symbol_representation(f_expr, args)"
   ]
  },
  {
   "cell_type": "code",
   "execution_count": 8,
   "metadata": {},
   "outputs": [
    {
     "data": {
      "image/png": "[encoded data removed]",
      "text/latex": [
       "$$\\left [ \\left [ \\left ( \\left ( 0.0, \\quad 160.098498278\\right )\\right )\\right ]\\right ]$$"
      ],
      "text/plain": [
       "[[((0.0, 160.098498278),)]]"
      ]
     },
     "execution_count": 8,
     "metadata": {},
     "output_type": "execute_result"
    }
   ],
   "source": [
    "X = ip([\n",
    "    [interval[5, 12.001]],\n",
    "    [interval[0.03, 0.15001]],    \n",
    "    [interval[0.1, 1.001]], \n",
    "    [interval[0.1, 1.001]],\n",
    "])\n",
    "\n",
    "f(X)"
   ]
  },
  {
   "cell_type": "code",
   "execution_count": 9,
   "metadata": {
    "collapsed": true
   },
   "outputs": [],
   "source": [
    "kra = Krawczyk(df, ddf, X)"
   ]
  },
  {
   "cell_type": "code",
   "execution_count": null,
   "metadata": {
    "scrolled": false
   },
   "outputs": [],
   "source": [
    "import time\n",
    "local_minima = 4.47388960416e-11\n",
    "st = time.time()\n",
    "ans_boxes, S_num_list, T_num_list, U_num_list, animation_box = kra.find_global_minimum(\n",
    "    f, tmp_min_sup=local_minima ,trace=True, cnt_max=500000)\n",
    "print(\"{}[sec]\".format(time.time() - st))"
   ]
  },
  {
   "cell_type": "code",
   "execution_count": null,
   "metadata": {
    "collapsed": true
   },
   "outputs": [],
   "source": [
    "if len(args) == 2: \n",
    "    visualize_optimization_log(kra, f, animation_box, skip=200)"
   ]
  },
  {
   "cell_type": "code",
   "execution_count": null,
   "metadata": {
    "collapsed": true
   },
   "outputs": [],
   "source": []
  }
 ],
 "metadata": {
  "kernelspec": {
   "display_name": "Python 2",
   "language": "python",
   "name": "python2"
  },
  "language_info": {
   "codemirror_mode": {
    "name": "ipython",
    "version": 2
   },
   "file_extension": ".py",
   "mimetype": "text/x-python",
   "name": "python",
   "nbconvert_exporter": "python",
   "pygments_lexer": "ipython2",
   "version": "2.7.13"
  }
 },
 "nbformat": 4,
 "nbformat_minor": 2
}
