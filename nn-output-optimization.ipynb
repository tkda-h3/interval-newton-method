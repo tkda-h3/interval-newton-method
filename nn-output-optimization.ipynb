{
 "cells": [
  {
   "cell_type": "markdown",
   "metadata": {},
   "source": [
    "# radial basis function neural networks(RBFNNs)"
   ]
  },
  {
   "cell_type": "code",
   "execution_count": null,
   "metadata": {
    "collapsed": true
   },
   "outputs": [],
   "source": [
    "%matplotlib inline \n",
    "from IPython.core.display import display\n",
    "\n",
    "from mpl_toolkits.mplot3d import Axes3D\n",
    "import matplotlib.pyplot as plt\n",
    "from matplotlib.patches import Rectangle\n",
    "import matplotlib.animation as animation\n",
    "import numpy as np\n",
    "import pandas as pd\n",
    "from sympy import *\n",
    "import matplotlib.figure\n",
    "init_printing()\n",
    "#from math import *\n",
    "from interval import interval\n",
    "from interval import imath as im\n",
    "import sys\n",
    "from pprint import pprint\n",
    "import datetime\n",
    "import os\n",
    "\n",
    "from mpl_toolkits.mplot3d import Axes3D\n",
    "import matplotlib.pyplot as plt\n",
    "from matplotlib.patches import Rectangle\n",
    "import matplotlib.animation as animation\n",
    "import numpy as np\n",
    "import pandas as pd"
   ]
  },
  {
   "cell_type": "markdown",
   "metadata": {},
   "source": [
    "## $NN(x_1, x_2) = exp(-4(x_1 - 1)^2  -  6(x_2 - 0.5)^2) + exp(-7(x_1+1.5)^2 - 9(x_2+1)^2)$\n",
    "where $x_1 \\in [-2,2], x_2 \\in [-2,2]$\n",
    "\n",
    "### グラフの可視化"
   ]
  },
  {
   "cell_type": "code",
   "execution_count": null,
   "metadata": {
    "scrolled": true
   },
   "outputs": [],
   "source": [
    "def activate_func(x):\n",
    "    \"\"\"\n",
    "    params:\n",
    "        x = np.array([x_1, x_2])\n",
    "    \"\"\"\n",
    "    return np.exp(-4*((x[0]-1)**2) - 6*((x[1]-0.5)**2)) + \\\n",
    "        np.exp(-7*((x[0]+1.5)**2) - 9*((x[1]+1)**2))\n",
    "    \n",
    "# x = np.arange(-1.6, -1.35, 0.004) \n",
    "# y = np.arange(-1.16, -0.9, 0.004) \n",
    "\n",
    "x = np.arange(-2, 2, 0.05) \n",
    "y = np.arange(-2, 2, 0.05) \n",
    "\n",
    "X, Y = np.meshgrid(x, y)\n",
    "Z = np.apply_along_axis(activate_func, 0, np.array([X.flatten(), Y.flatten()])).reshape(X.shape)\n",
    "fig = plt.figure()\n",
    "ax = Axes3D(fig)\n",
    "ax.plot_wireframe(X,Y,Z) \n",
    "plt.show()"
   ]
  },
  {
   "cell_type": "markdown",
   "metadata": {},
   "source": [
    "### Krawczyk method"
   ]
  },
  {
   "cell_type": "code",
   "execution_count": null,
   "metadata": {
    "collapsed": true
   },
   "outputs": [],
   "source": [
    "! echo '' > find_all_solution.out\n",
    "from ivmat import ivmat as ip\n",
    "from fmat import fmat\n",
    "from krawczyk import Krawczyk"
   ]
  },
  {
   "cell_type": "code",
   "execution_count": null,
   "metadata": {
    "collapsed": true
   },
   "outputs": [],
   "source": [
    "x_1, x_2, x_3 = var(\"x_1 x_2 x_3\")\n",
    "f_x_1 = symbols(\"f_x_1\", cls=Function)\n",
    "f_x_2 = symbols(\"f_x_2\", cls=Function)\n",
    "nn = exp(-4*(x_1-1)**2 - 6*(x_2-0.5)**2) + exp(-7*(x_1+1.5)**2 - 9*(x_2+1)**2)\n",
    "func_eval = lambda func: (lambda x_1, x_2, exp=im.exp: eval(str(func)))\n",
    "f = fmat([[func_eval(nn)]])\n",
    "f_grad_symbol = [[nn.diff(x_1)],[nn.diff(x_2)]]\n",
    "f_grad = fmat([[func_eval(nn.diff(x_1))], [func_eval(nn.diff(x_2))]])\n",
    "hes = hessian(nn, (x_1,x_2))\n",
    "f_grad_grad = fmat([[None for i in range(hes.shape[1])] for j in range(hes.shape[0])])\n",
    "for i in range(2):\n",
    "    for j in range(2):\n",
    "        f_grad_grad[i][j] = func_eval(hes[i,j])\n"
   ]
  },
  {
   "cell_type": "markdown",
   "metadata": {},
   "source": [
    "#### 自動微分 "
   ]
  },
  {
   "cell_type": "code",
   "execution_count": null,
   "metadata": {},
   "outputs": [],
   "source": [
    "print '----' + 'nn' + '-----'\n",
    "display(nn)\n",
    "print\n",
    "print '----' + 'nn_grad' + '----'\n",
    "display(f_grad_symbol)\n",
    "print\n",
    "print '-----' + 'nn_hessian' + '-----'\n",
    "display(hes)\n",
    "print\n",
    "# print '-----' + 'X' + '-------'\n",
    "# pprint(X)\n",
    "# print"
   ]
  },
  {
   "cell_type": "markdown",
   "metadata": {},
   "source": [
    "#### 全解探索"
   ]
  },
  {
   "cell_type": "code",
   "execution_count": null,
   "metadata": {},
   "outputs": [],
   "source": [
    "# x_1 = interval[-2, 2.2]\n",
    "# x_2 = interval[-2, 2.2]\n",
    "\n",
    "x_1 = interval[0.2, 1.6]\n",
    "x_2 = interval[0.2, 1.6]\n",
    "\n",
    "# x_1 = interval[-2, 2]\n",
    "# x_2 = interval[-2, 2]\n",
    "\n",
    "X = ip([[x_1],[x_2]])\n",
    "\n",
    "\n",
    "kra = Krawczyk(f_grad,f_grad_grad,X)\n",
    "\n",
    "cnt_max = 2000\n",
    "max_width = 1e-4\n",
    "boxes, S_num_list, T_num_list, U_num_list, animation_box = kra.find_all_solution(trace=False, cnt_max=cnt_max, max_width=max_width)\n",
    "print '#####'*10\n",
    "pprint(boxes)"
   ]
  },
  {
   "cell_type": "code",
   "execution_count": null,
   "metadata": {
    "scrolled": false
   },
   "outputs": [],
   "source": [
    "title = 'cnt_max: {}, max_width: {}'.format(cnt_max, max_width)\n",
    "df = pd.DataFrame([S_num_list, U_num_list, range(1, len(S_num_list)+1)]).T\n",
    "df.columns = ['S_num', 'U_num', 'diagonal']\n",
    "df.plot(grid=True, title=title, figsize=(6,6), xlim=(0, len(S_num_list)), ylim=(0, len(S_num_list)))\n",
    "print 'T_num'\n",
    "pd.DataFrame(T_num_list).plot(ylim=(0,T_num_list[-1]+1), figsize=(6,2))"
   ]
  },
  {
   "cell_type": "markdown",
   "metadata": {},
   "source": [
    "## 探索の可視化"
   ]
  },
  {
   "cell_type": "code",
   "execution_count": null,
   "metadata": {},
   "outputs": [],
   "source": [
    "_NO_SOLUTIONS_FLAG = '_NO_SOLUTIONS_FLAG'\n",
    "_EXACT_1_SOLUTION_FLAG = '_EXACT_1_SOLUTION_FLAG'\n",
    "_MULTI_SOLUTIONS_FLAG = '_MULTI_SOLUTIONS_FLAG'  # less than 1 solution\n",
    "_UNCLEAR_SOLUTION_FLAG = '_UNCLEAR_SOLUTION_FLAG'\n",
    "\n",
    "# facecolor, edgecolor\n",
    "color_map ={\n",
    "    _NO_SOLUTIONS_FLAG: (\"#777777\", \"#000000\"),\n",
    "    _UNCLEAR_SOLUTION_FLAG:(\"#ffffff\", \"#000000\" ),\n",
    "    _EXACT_1_SOLUTION_FLAG: (\"#00ffff\", \"#00ffff\"),\n",
    "}\n",
    "\n",
    "def get_rect(x_1, x_2, facecolor_code, edgecolor_code):\n",
    "    left, right, below, above = x_1[0][0], x_1[0][1], x_2[0][0], x_2[0][1]\n",
    "    rect = Rectangle((left, below),\n",
    "                    right - left,\n",
    "                    above - below,\n",
    "                    facecolor= facecolor_code,\n",
    "                    edgecolor=edgecolor_code\n",
    "                    )\n",
    "    return rect\n",
    "\n",
    "\n",
    "print 'len(animation_box): {}'.format(len(animation_box))\n",
    "x1_lim = animation_box[0][0][0][0][0][0]\n",
    "x2_lim = animation_box[0][0][0][1][0][0]\n",
    "print x1_lim\n",
    "print x2_lim"
   ]
  },
  {
   "cell_type": "code",
   "execution_count": null,
   "metadata": {
    "scrolled": false
   },
   "outputs": [],
   "source": [
    "x = np.arange(-2, 2, 0.02) \n",
    "y = np.arange(-2, 2, 0.02) \n",
    "X, Y = np.meshgrid(x, y)\n",
    "Z = np.apply_along_axis(activate_func, 0, np.array([X.flatten(), Y.flatten()])).reshape(X.shape)\n",
    "plt.figure(figsize=(6,6))\n",
    "plt.xlim(x1_lim)\n",
    "plt.ylim(x2_lim)\n",
    "plt.contour(X, Y, Z, alpha=0.8, zorder=100, shading='gouraud')\n",
    "plt.show()\n",
    "\n",
    "now_string = \"{0:%Y%m%d_%H%M%S}\".format(datetime.datetime.now())\n",
    "dirpath = 'image/{}'.format(now_string)\n",
    "os.makedirs(dirpath)\n",
    "\n",
    "for i in range(len(animation_box)):\n",
    "#     if i % 3:\n",
    "#         continue\n",
    "        \n",
    "    fig = plt.figure(figsize=(8,8))\n",
    "    plt.xlim(x1_lim)\n",
    "    plt.ylim(x2_lim)\n",
    "    ax = fig.add_subplot(111)\n",
    "    for j in range(i+1):\n",
    "        for parent_box, parent_flag in animation_box[j]:\n",
    "#        parent_box, parent_flag = animation_box[j]\n",
    "            fcolor, ecolor = color_map[parent_flag]# facecolor, edgecolor\n",
    "            parent_x1 = parent_box[0][0]\n",
    "            parent_x2 = parent_box[1][0]\n",
    "            if ip.is_empty(parent_box):\n",
    "                continue\n",
    "            rect = get_rect(parent_x1, parent_x2, fcolor, ecolor)\n",
    "            ax.add_patch(rect)\n",
    "            \n",
    "    # 最後にcolor mapを薄く重ねる    \n",
    "    im =plt.contour(X, Y, Z, alpha=0.8, zorder=100, shading='gouraud')\n",
    "    \n",
    "    image_path = os.path.join(dirpath, \"anime_{0:0>4}.png\".format(i))\n",
    "    fig.savefig(image_path)\n",
    "    plt.close(fig)\n",
    "    \n",
    "print 'finish'"
   ]
  },
  {
   "cell_type": "code",
   "execution_count": null,
   "metadata": {
    "collapsed": true
   },
   "outputs": [],
   "source": []
  }
 ],
 "metadata": {
  "kernelspec": {
   "display_name": "Python 2",
   "language": "python",
   "name": "python2"
  },
  "language_info": {
   "codemirror_mode": {
    "name": "ipython",
    "version": 2
   },
   "file_extension": ".py",
   "mimetype": "text/x-python",
   "name": "python",
   "nbconvert_exporter": "python",
   "pygments_lexer": "ipython2",
   "version": "2.7.13"
  }
 },
 "nbformat": 4,
 "nbformat_minor": 1
}
